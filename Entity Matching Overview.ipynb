{
 "cells": [
  {
   "cell_type": "markdown",
   "id": "da1bb726",
   "metadata": {},
   "source": [
    "# Entity Matching Overview\n",
    "### Final Project for Kodołamacz's Data Science Bootcamp\n",
    "Author: Piotr Zioło"
   ]
  },
  {
   "cell_type": "markdown",
   "id": "0ec90cce",
   "metadata": {},
   "source": [
    "### Introduction\n",
    "Entity matching (also known as record linkage) is the process of identifying which records in two or more datasets refer to the same real-world entity. High-quality entity matching allows organizations to consolidate information, eliminate duplicates, and gain a unified view of their data. Entity matching can be especially important in scenarios such as merging two lists of businesses from different CRMs of companies undergoing a merging process.\n",
    "\n",
    "In this project, we focus on matching restaurant entities from two restaurant guides: Fodor's and Zagat's. The goal is to determine which entries from the Fodor's restaurant list correspond to the same establishments in the Zagat's list. Since the two sources may use slightly different names, address formats, or phone number conventions for the same restaurant, simple joins on these fields would not guarantee accurate results. Thus, we will compare multiple more advanced approaches to entity matching:\n",
    "- Fuzzy String Matching – using string similarity (e.g. Levenshtein distance) primarily on textual fields like name.\n",
    "- TF–IDF + Cosine Similarity – treating restaurant records as documents and measuring cosine similarity of TF-IDF feature vectors.\n",
    "- Transformer Embeddings + Cosine – using pre-trained language model embeddings (Sentence-BERT) for each record and measuring vector cosine similarity.\n",
    "- Large Language Model – leveraging am LLM via API to semantically compare and decide if two descriptions refer to the same restaurant.\n",
    "- Supervised Machine Learning – training a classifier on labeled matching/non-matching record pairs, using multiple features (text similarity scores, etc.).\n",
    "\n",
    "We will evaluate each method on accuracy, precision, recall, and F1-score for identifying matches. We will also compare their runtime performance, scalability, and cost. By the end, we should understand which approach works best for this scenario and what the considerations are for deploying each at scale."
   ]
  },
  {
   "cell_type": "markdown",
   "id": "af8d501f",
   "metadata": {},
   "source": [
    "### Dataset Overview\n"
   ]
  },
  {
   "cell_type": "markdown",
   "id": "6cc82ff6",
   "metadata": {},
   "source": [
    "### Data Loading and Preprocessing\n"
   ]
  },
  {
   "cell_type": "markdown",
   "id": "2c964c0b",
   "metadata": {},
   "source": [
    "### Method 1: Fuzzy Matching\n"
   ]
  },
  {
   "cell_type": "markdown",
   "id": "37e8e2fb",
   "metadata": {},
   "source": [
    "### Method 2: TF-IDF Vectorization + Cosine Similarity\n"
   ]
  },
  {
   "cell_type": "markdown",
   "id": "f7c21424",
   "metadata": {},
   "source": [
    "### Method 3: Sentence-BERT Embeddings + Cosine Similarity\n"
   ]
  },
  {
   "cell_type": "markdown",
   "id": "765bff8c",
   "metadata": {},
   "source": [
    "### Method 4: LLM Matching\n"
   ]
  },
  {
   "cell_type": "markdown",
   "id": "48321c26",
   "metadata": {},
   "source": [
    "### Method 5: Supervised Machine Learning Classifier\n"
   ]
  },
  {
   "cell_type": "markdown",
   "id": "c39773d6",
   "metadata": {},
   "source": [
    "### Comparative Evaluation\n"
   ]
  },
  {
   "cell_type": "markdown",
   "id": "3ede6c71",
   "metadata": {},
   "source": [
    "### Conclusion\n"
   ]
  }
 ],
 "metadata": {
  "language_info": {
   "name": "python"
  }
 },
 "nbformat": 4,
 "nbformat_minor": 5
}
