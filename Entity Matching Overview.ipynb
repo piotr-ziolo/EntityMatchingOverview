{
 "cells": [
  {
   "cell_type": "markdown",
   "id": "da1bb726",
   "metadata": {},
   "source": [
    "# Entity Matching Overview\n",
    "### Final Project for Kodołamacz's Data Science Bootcamp\n",
    "Author: Piotr Zioło"
   ]
  },
  {
   "cell_type": "markdown",
   "id": "0ec90cce",
   "metadata": {},
   "source": [
    "### Introduction\n",
    "Entity matching (also known as record linkage) is the process of identifying which records in two or more datasets refer to the same real-world entity. High-quality entity matching allows organizations to consolidate information, eliminate duplicates, and gain a unified view of their data. Entity matching can be especially important in scenarios such as merging two lists of businesses from different CRMs of companies undergoing a merging process.\n",
    "\n",
    "In this project, we focus on matching restaurant entities from two restaurant guides: Fodor's and Zagat's. The goal is to determine which entries from the Fodor's restaurant list correspond to the same establishments in the Zagat's list. Since the two sources may use slightly different names, address formats, or phone number conventions for the same restaurant, simple joins on these fields would not guarantee accurate results. Thus, we will compare multiple more advanced approaches to entity matching:\n",
    "- Fuzzy String Matching – using string similarity (e.g., Levenshtein distance) or token similarity (e.g, token set ratio) on textual fields like name and address.\n",
    "- TF–IDF + Cosine Similarity – treating restaurant records as documents and measuring cosine similarity of TF-IDF feature vectors.\n",
    "- Transformer Embeddings + Cosine – using pre-trained language model embeddings (Sentence-BERT) for each record and measuring vector cosine similarity.\n",
    "- Large Language Model – leveraging an LLM via API to compare restaurant entries and decide if two descriptions refer to the same one.\n",
    "- Supervised Machine Learning – training a classifier on labeled matching andnon-matching record pairs, using multiple features (text similarity scores, etc.).\n",
    "\n",
    "We will evaluate each method on accuracy, precision, recall, and F1-score for identifying matches. We will also compare their runtime performance, scalability, and cost. By the end, we should understand which approach works best for this scenario and what the considerations are for deploying each at scale."
   ]
  },
  {
   "cell_type": "markdown",
   "id": "af8d501f",
   "metadata": {},
   "source": [
    "### Dataset Overview\n",
    "The Fodor's–Zagat's restaurant dataset is a dataset designed to serve as a benchmark for entity matching evaluations. It was put together by Anna Primpeli and Christian Bizer of University of Mannheim in Germany.\n",
    "\n",
    "It consists of two lists of restaurants, one from Fodor's (533 entries) and one from Zagat's (331 entries). Each restaurant has the following attributes:\n",
    "- id (a unique identifier in each data source)\n",
    "- name\n",
    "- addr\n",
    "- city\n",
    "- phone\n",
    "- type (cuisine/category of restaurant)\n",
    "\n",
    "In addition to the two source lists, there is a gold standard file that indicates which Fodor's and Zagat's records refer to the same real-world restaurant. It includes 112 matching pairs (true matches) and 488 non-matching pairs (true negatives) that have been manually annotated.\n",
    "\n",
    "The original dataset is available through the Linkage Library (University of Michigan ICPSR) under the project “Restaurants (Fodors-Zagats), Augmented Version, Fixed Splits (ICPSR 127242)”: https://linkagelibrary.icpsr.umich.edu/linkagelibrary/project/127242/version/V1/view?path=/linkagelibrary/127242/fcr:versions/V1/restaurants_-Fodors-Zagats-&type=folder#tab-dataDocs. For the ease of use, all files used in the analysis have been included in the repository."
   ]
  },
  {
   "cell_type": "markdown",
   "id": "6cc82ff6",
   "metadata": {},
   "source": [
    "### Data Loading and Preprocessing\n"
   ]
  },
  {
   "cell_type": "code",
   "execution_count": 2,
   "id": "5fbd7daa",
   "metadata": {},
   "outputs": [
    {
     "name": "stdout",
     "output_type": "stream",
     "text": [
      "Fodor's preview: 533 rows, 6 columns\n",
      "    id                       name                    addr          city  \\\n",
      "0  534  arnie morton's of chicago  435 s. la cienega blv.   los angeles   \n",
      "1  535         art's delicatessen     12224 ventura blvd.   studio city   \n",
      "2  536              hotel bel-air    701 stone canyon rd.       bel air   \n",
      "3  537                 cafe bizou     14016 ventura blvd.  sherman oaks   \n",
      "4  538                  campanile     624 s. la brea ave.   los angeles   \n",
      "\n",
      "          phone         type  \n",
      "0  310/246-1501     american  \n",
      "1  818/762-1221     american  \n",
      "2  310/472-1211  californian  \n",
      "3  818/788-3536       french  \n",
      "4  213/938-1447     american  \n",
      "\n",
      "Zagat's preview: 331 rows, 6 columns\n",
      "   id             name                            addr              city  \\\n",
      "0   1   apple pan  the             10801 w. pico blvd.           west la   \n",
      "1   2      asahi ramen             2027 sawtelle blvd.           west la   \n",
      "2   3       baja fresh                 3345 kimber dr.  westlake village   \n",
      "3   4   belvedere  the  9882 little santa monica blvd.     beverly hills   \n",
      "4   5  benita's frites        1433 third st. promenade      santa monica   \n",
      "\n",
      "          phone              type  \n",
      "0  310-475-3585          american  \n",
      "1  310-479-2231      noodle shops  \n",
      "2  805-498-4049           mexican  \n",
      "3  310-788-2306  pacific new wave  \n",
      "4  310-458-2889         fast food  \n",
      "\n",
      "Gold standard matches preview: 112 rows, 2 columns\n",
      "   fodors_id  zagats_id\n",
      "0        534        219\n",
      "1        535        220\n",
      "2        536        221\n",
      "3        537        222\n",
      "4        538        223\n",
      "\n"
     ]
    }
   ],
   "source": [
    "import pandas as pd\n",
    "\n",
    "# Load datasets\n",
    "fodors = pd.read_csv(\n",
    "    'data/fodors.csv', \n",
    "    # index_col=0, # Leave id column as a regular column to simplify merging in later steps\n",
    "    usecols=lambda x: x != 'class', # Exclude 'class' column which is irrelevant to the analysis\n",
    "    quotechar=\"'\", # Ensure apostrophes are properly interpreted\n",
    "    escapechar='\\\\'\n",
    ")\n",
    "\n",
    "zagats = pd.read_csv(\n",
    "    'data/zagats.csv',\n",
    "    # index_col=0, \n",
    "    usecols=lambda x: x != 'class',\n",
    "    quotechar=\"'\",\n",
    "    escapechar='\\\\'\n",
    ")\n",
    "\n",
    "matches = pd.read_csv('data/matches_fodors_zagats.csv')\n",
    "\n",
    "print(f\"Fodor's preview: {fodors.shape[0] } rows, {fodors.shape[1]} columns\")\n",
    "print(fodors.head(5))\n",
    "print()\n",
    "\n",
    "print(f\"Zagat's preview: {zagats.shape[0] } rows, {zagats.shape[1]} columns\")\n",
    "print(zagats.head(5))\n",
    "print()\n",
    "\n",
    "print(f\"Gold standard matches preview: {matches.shape[0] } rows, {matches.shape[1]} columns\")\n",
    "print(matches.head(5))\n",
    "print()\n"
   ]
  },
  {
   "cell_type": "code",
   "execution_count": 3,
   "id": "cabb4efb",
   "metadata": {},
   "outputs": [],
   "source": [
    "# Clean and standardize string fields \n",
    "# to ensure consistency and improve the effectiveness of similarity algorithms\n",
    "def preprocess(df, columns):\n",
    "    df = df.copy()\n",
    "    for col in columns:\n",
    "        df[col] = (\n",
    "            df[col].astype(str) # Ensure all values are strings\n",
    "                   .str.lower() # Convert to lowercase\n",
    "                   .str.replace(r'[^a-z0-9\\s]', '', regex=True) # Remove special characters\n",
    "                   .str.replace(r'\\s+', ' ', regex=True) # Replace multiple spaces with a single space\n",
    "                   .str.strip() # Remove leading/trailing whitespace\n",
    "        )\n",
    "    return df\n",
    "\n",
    "columns_to_preprocess = ['name', 'addr', 'city', 'type']\n",
    "\n",
    "fodors = preprocess(fodors, columns_to_preprocess)\n",
    "zagats = preprocess(zagats, columns_to_preprocess)"
   ]
  },
  {
   "cell_type": "markdown",
   "id": "8beb11bd",
   "metadata": {},
   "source": [
    "### Method 0: Regular joins\n",
    "How many restaurants would get matched if we naively used exact matches of names, address, and city?"
   ]
  },
  {
   "cell_type": "code",
   "execution_count": null,
   "id": "621df5cf",
   "metadata": {},
   "outputs": [
    {
     "name": "stdout",
     "output_type": "stream",
     "text": [
      "Total exact matches found: 26\n",
      "Matches present in gold standard: 26\n",
      "Matches NOT present in gold standard: 0\n"
     ]
    }
   ],
   "source": [
    "# Perform the exact match join with name, address, and city\n",
    "matched_df = fodors.merge(\n",
    "    zagats,\n",
    "    on=['name', 'addr', 'city'],\n",
    "    how='inner',\n",
    "    suffixes=('_fodors', '_zagats')\n",
    ")\n",
    "\n",
    "# Check against gold standard matches\n",
    "matched_df['in_gold_standard'] = matched_df.apply(\n",
    "    lambda row: ((matches['fodors_id'] == row['id_fodors']) & \n",
    "                 (matches['zagats_id'] == row['id_zagats'])).any(), axis=1\n",
    ")\n",
    "\n",
    "# Summarize the results\n",
    "total_matched = len(matched_df)\n",
    "matched_in_gold = matched_df['in_gold_standard'].sum()\n",
    "\n",
    "print(f\"Total exact matches found: {total_matched}\")\n",
    "print(f\"Matches present in gold standard: {matched_in_gold}\")\n",
    "print(f\"Matches NOT present in gold standard: {total_matched - matched_in_gold}\")"
   ]
  },
  {
   "cell_type": "markdown",
   "id": "5be22d1e",
   "metadata": {},
   "source": [
    "With regular joins, we would only find 26 matches out of all 112 verified matches (23% of all). Thus, searching for a more efficient method that would take discrepancies in the fields used for matching into account is desirable."
   ]
  },
  {
   "cell_type": "markdown",
   "id": "2c964c0b",
   "metadata": {},
   "source": [
    "### Method 1a: Fuzzy Matching with Levenshtein distance\n",
    "Fuzzy matching is a text-matching technique used to identify similar strings by directly comparing their textual similarity, even if they are not exactly identical. It relies purely on character-level or token-level string comparisons.\n",
    "\n",
    "First, we'll use Levenshtein distance which measures the minimum number of single-character edits (insertions, deletions, substitutions) needed to convert one string into another.\n",
    "\n",
    "Levenshtein distance directly compares the strings character-by-character without accounting for token ordering or semantic similarity. Thus, it's sensitive to word order, length differences, and spelling variations."
   ]
  },
  {
   "cell_type": "code",
   "execution_count": null,
   "id": "46c1ce34",
   "metadata": {},
   "outputs": [],
   "source": [
    "# First, create reusable functions for all later steps\n",
    "\n",
    "import numpy as np\n",
    "import pandas as pd\n",
    "from tqdm import tqdm\n",
    "from sklearn.metrics import precision_score, recall_score, f1_score, accuracy_score\n",
    "\n",
    "# Generate all possible matching pairs for restaurants in both datasets\n",
    "# with a customizable similarity function and columns to compare\n",
    "# Note: This function would be computationally expensive for large datasets\n",
    "def generate_matching_pairs(df1, df2, similarity_func, cols=['name', 'addr', 'city'], desc='Generating pairs'):\n",
    "    pairs = []\n",
    "    for i, row1 in tqdm(df1.iterrows(), total=len(df1), desc=desc):\n",
    "        for j, row2 in df2.iterrows():\n",
    "            scores = [similarity_func(row1[col], row2[col]) for col in cols]\n",
    "            avg_score = np.mean(scores)\n",
    "            pairs.append({\n",
    "                'fodors_id': row1['id'],\n",
    "                'zagats_id': row2['id'],\n",
    "                'score': avg_score\n",
    "            })\n",
    "    return pd.DataFrame(pairs)\n",
    "\n",
    "# Add ground truth labels to dataframe\n",
    "def add_ground_truth_labels(df, matches_df):\n",
    "    match_set = set(zip(matches_df['fodors_id'], matches_df['zagats_id']))\n",
    "    df['actual_match'] = df.apply(\n",
    "        lambda row: (row['fodors_id'], row['zagats_id']) in match_set,\n",
    "        axis=1\n",
    "    )\n",
    "    return df\n",
    "\n",
    "# Optimize threshold for the best F1-score\n",
    "def optimize_threshold(df, thresholds=np.arange(60, 100, 1), desc=\"Optimizing threshold\"):\n",
    "    best_f1, best_threshold = 0, 0\n",
    "    for threshold in tqdm(thresholds, desc=desc):\n",
    "        df['predicted_match'] = df['score'] >= threshold\n",
    "        f1 = f1_score(df['actual_match'], df['predicted_match'])\n",
    "        if f1 > best_f1:\n",
    "            best_f1, best_threshold = f1, threshold\n",
    "    \n",
    "    df['predicted_match'] = df['score'] >= best_threshold\n",
    "    precision = precision_score(df['actual_match'], df['predicted_match'])\n",
    "    recall = recall_score(df['actual_match'], df['predicted_match'])\n",
    "    accuracy = accuracy_score(df['actual_match'], df['predicted_match'])\n",
    "\n",
    "    metrics = {\n",
    "        'best_threshold': best_threshold,\n",
    "        'precision': precision,\n",
    "        'recall': recall,\n",
    "        'f1_score': best_f1,\n",
    "        'accuracy': accuracy\n",
    "    }\n",
    "\n",
    "    return df, metrics\n",
    "\n",
    "# View results with four possible classification outcomes:\n",
    "# True Positive (TP), True Negative (TN), False Positive (FP), False Negative (FN)\n",
    "# TP: Actual match and predicted match\n",
    "# TN: Actual non-match and predicted non-match\n",
    "# FP: Actual non-match but predicted match\n",
    "# FN: Actual match but predicted non-match\n",
    "def preview_classification_outcomes(df, fodors, zagats, num_samples=5):\n",
    "    # Define classification outcomes\n",
    "    conditions = [\n",
    "        (df['actual_match'] == True) & (df['predicted_match'] == True),\n",
    "        (df['actual_match'] == False) & (df['predicted_match'] == False),\n",
    "        (df['actual_match'] == False) & (df['predicted_match'] == True),\n",
    "        (df['actual_match'] == True) & (df['predicted_match'] == False),\n",
    "    ]\n",
    "    outcomes = ['TP', 'TN', 'FP', 'FN']\n",
    "    df['classification'] = np.select(conditions, outcomes)\n",
    "\n",
    "    # Preview each classification outcome\n",
    "    for outcome in outcomes:\n",
    "        subset = df[df['classification'] == outcome].head(num_samples)\n",
    "        merged_df = subset.merge(fodors, left_on='fodors_id', right_on='id', suffixes=('', '_fodors')) \\\n",
    "                          .merge(zagats, left_on='zagats_id', right_on='id', suffixes=('_fodors', '_zagats'))\n",
    "\n",
    "        display_cols = [\n",
    "            'name_fodors', 'addr_fodors', 'city_fodors',\n",
    "            'name_zagats', 'addr_zagats', 'city_zagats',\n",
    "            'score', 'actual_match', 'predicted_match'\n",
    "        ]\n",
    "        print(f\"\\n{outcome} examples:\")\n",
    "        display(merged_df[display_cols])\n"
   ]
  },
  {
   "cell_type": "code",
   "execution_count": null,
   "id": "eeeac376",
   "metadata": {},
   "outputs": [
    {
     "name": "stderr",
     "output_type": "stream",
     "text": [
      "Levenshtein scoring: 100%|██████████| 533/533 [00:13<00:00, 39.70it/s]\n"
     ]
    },
    {
     "name": "stdout",
     "output_type": "stream",
     "text": [
      "\n",
      "Levenshtein pairs preview: 176423 rows, 4 columns\n",
      "   fodors_id  zagats_id      score  actual_match\n",
      "0        534          1  24.393939         False\n",
      "1        534          2  20.227273         False\n",
      "2        534          3  20.138889         False\n",
      "3        534          4  21.028588         False\n",
      "4        534          5  19.746377         False\n"
     ]
    },
    {
     "name": "stderr",
     "output_type": "stream",
     "text": [
      "Optimizing Levenshtein threshold: 100%|██████████| 40/40 [00:00<00:00, 43.62it/s]"
     ]
    },
    {
     "name": "stdout",
     "output_type": "stream",
     "text": [
      "\n",
      "Optimized Levenshtein Threshold: 78\n",
      "Levenshtein Matching Results:\n",
      "Precision: 0.97\n",
      "Recall:    0.69\n",
      "F1-Score:  0.81\n",
      "Accuracy:  1.00\n"
     ]
    },
    {
     "name": "stderr",
     "output_type": "stream",
     "text": [
      "\n"
     ]
    }
   ],
   "source": [
    "from Levenshtein import distance as levenshtein_distance\n",
    "\n",
    "# Normalized Levenshtein similarity\n",
    "def normalized_levenshtein(s1, s2):\n",
    "    dist = levenshtein_distance(s1, s2)\n",
    "    max_len = max(len(s1), len(s2))\n",
    "    if max_len == 0:\n",
    "        return 100\n",
    "    return 100 * (1 - dist / max_len)\n",
    "\n",
    "# Generate pairs\n",
    "lev_df = generate_matching_pairs(\n",
    "    fodors, zagats,\n",
    "    similarity_func=normalized_levenshtein,\n",
    "    desc='Levenshtein scoring'\n",
    ")\n",
    "\n",
    "# Add ground truth labels\n",
    "lev_df = add_ground_truth_labels(lev_df, matches)\n",
    "\n",
    "print(f\"\\nLevenshtein pairs preview: {lev_df.shape[0]} rows, {lev_df.shape[1]} columns\")\n",
    "print(lev_df.head())\n",
    "\n",
    "# Find best threshold\n",
    "lev_df, lev_metrics = optimize_threshold(\n",
    "    lev_df,\n",
    "    thresholds=np.arange(60, 100, 1),\n",
    "    desc=\"Optimizing Levenshtein threshold\"\n",
    ")\n",
    "\n",
    "# Results\n",
    "print(f\"\\nOptimized Levenshtein Threshold: {lev_metrics['best_threshold']}\")\n",
    "print(\"Levenshtein Matching Results:\")\n",
    "print(f\"Precision: {lev_metrics['precision']:.2f}\")\n",
    "print(f\"Recall:    {lev_metrics['recall']:.2f}\")\n",
    "print(f\"F1-Score:  {lev_metrics['f1_score']:.2f}\")\n",
    "print(f\"Accuracy:  {lev_metrics['accuracy']:.2f}\")\n"
   ]
  },
  {
   "cell_type": "code",
   "execution_count": 6,
   "id": "432f1f0f",
   "metadata": {},
   "outputs": [
    {
     "name": "stdout",
     "output_type": "stream",
     "text": [
      "\n",
      "TP examples:\n"
     ]
    },
    {
     "data": {
      "application/vnd.microsoft.datawrangler.viewer.v0+json": {
       "columns": [
        {
         "name": "index",
         "rawType": "int64",
         "type": "integer"
        },
        {
         "name": "name_fodors",
         "rawType": "object",
         "type": "string"
        },
        {
         "name": "addr_fodors",
         "rawType": "object",
         "type": "string"
        },
        {
         "name": "city_fodors",
         "rawType": "object",
         "type": "string"
        },
        {
         "name": "name_zagats",
         "rawType": "object",
         "type": "string"
        },
        {
         "name": "addr_zagats",
         "rawType": "object",
         "type": "string"
        },
        {
         "name": "city_zagats",
         "rawType": "object",
         "type": "string"
        },
        {
         "name": "score",
         "rawType": "float64",
         "type": "float"
        },
        {
         "name": "actual_match",
         "rawType": "bool",
         "type": "boolean"
        },
        {
         "name": "predicted_match",
         "rawType": "bool",
         "type": "boolean"
        }
       ],
       "ref": "129dac24-526f-4019-9cab-7044caf4f787",
       "rows": [
        [
         "0",
         "arnie mortons of chicago",
         "435 s la cienega blv",
         "los angeles",
         "arnie mortons of chicago",
         "435 s la cienega blvd",
         "los angeles",
         "98.41269841269842",
         "True",
         "True"
        ],
        [
         "1",
         "arts delicatessen",
         "12224 ventura blvd",
         "studio city",
         "arts deli",
         "12224 ventura blvd",
         "studio city",
         "84.31372549019608",
         "True",
         "True"
        ],
        [
         "2",
         "cafe bizou",
         "14016 ventura blvd",
         "sherman oaks",
         "cafe bizou",
         "14016 ventura blvd",
         "sherman oaks",
         "100.0",
         "True",
         "True"
        ],
        [
         "3",
         "campanile",
         "624 s la brea ave",
         "los angeles",
         "campanile",
         "624 s la brea ave",
         "los angeles",
         "100.0",
         "True",
         "True"
        ],
        [
         "4",
         "chinois on main",
         "2709 main st",
         "santa monica",
         "chinois on main",
         "2709 main st",
         "santa monica",
         "100.0",
         "True",
         "True"
        ]
       ],
       "shape": {
        "columns": 9,
        "rows": 5
       }
      },
      "text/html": [
       "<div>\n",
       "<style scoped>\n",
       "    .dataframe tbody tr th:only-of-type {\n",
       "        vertical-align: middle;\n",
       "    }\n",
       "\n",
       "    .dataframe tbody tr th {\n",
       "        vertical-align: top;\n",
       "    }\n",
       "\n",
       "    .dataframe thead th {\n",
       "        text-align: right;\n",
       "    }\n",
       "</style>\n",
       "<table border=\"1\" class=\"dataframe\">\n",
       "  <thead>\n",
       "    <tr style=\"text-align: right;\">\n",
       "      <th></th>\n",
       "      <th>name_fodors</th>\n",
       "      <th>addr_fodors</th>\n",
       "      <th>city_fodors</th>\n",
       "      <th>name_zagats</th>\n",
       "      <th>addr_zagats</th>\n",
       "      <th>city_zagats</th>\n",
       "      <th>score</th>\n",
       "      <th>actual_match</th>\n",
       "      <th>predicted_match</th>\n",
       "    </tr>\n",
       "  </thead>\n",
       "  <tbody>\n",
       "    <tr>\n",
       "      <th>0</th>\n",
       "      <td>arnie mortons of chicago</td>\n",
       "      <td>435 s la cienega blv</td>\n",
       "      <td>los angeles</td>\n",
       "      <td>arnie mortons of chicago</td>\n",
       "      <td>435 s la cienega blvd</td>\n",
       "      <td>los angeles</td>\n",
       "      <td>98.412698</td>\n",
       "      <td>True</td>\n",
       "      <td>True</td>\n",
       "    </tr>\n",
       "    <tr>\n",
       "      <th>1</th>\n",
       "      <td>arts delicatessen</td>\n",
       "      <td>12224 ventura blvd</td>\n",
       "      <td>studio city</td>\n",
       "      <td>arts deli</td>\n",
       "      <td>12224 ventura blvd</td>\n",
       "      <td>studio city</td>\n",
       "      <td>84.313725</td>\n",
       "      <td>True</td>\n",
       "      <td>True</td>\n",
       "    </tr>\n",
       "    <tr>\n",
       "      <th>2</th>\n",
       "      <td>cafe bizou</td>\n",
       "      <td>14016 ventura blvd</td>\n",
       "      <td>sherman oaks</td>\n",
       "      <td>cafe bizou</td>\n",
       "      <td>14016 ventura blvd</td>\n",
       "      <td>sherman oaks</td>\n",
       "      <td>100.000000</td>\n",
       "      <td>True</td>\n",
       "      <td>True</td>\n",
       "    </tr>\n",
       "    <tr>\n",
       "      <th>3</th>\n",
       "      <td>campanile</td>\n",
       "      <td>624 s la brea ave</td>\n",
       "      <td>los angeles</td>\n",
       "      <td>campanile</td>\n",
       "      <td>624 s la brea ave</td>\n",
       "      <td>los angeles</td>\n",
       "      <td>100.000000</td>\n",
       "      <td>True</td>\n",
       "      <td>True</td>\n",
       "    </tr>\n",
       "    <tr>\n",
       "      <th>4</th>\n",
       "      <td>chinois on main</td>\n",
       "      <td>2709 main st</td>\n",
       "      <td>santa monica</td>\n",
       "      <td>chinois on main</td>\n",
       "      <td>2709 main st</td>\n",
       "      <td>santa monica</td>\n",
       "      <td>100.000000</td>\n",
       "      <td>True</td>\n",
       "      <td>True</td>\n",
       "    </tr>\n",
       "  </tbody>\n",
       "</table>\n",
       "</div>"
      ],
      "text/plain": [
       "                name_fodors           addr_fodors   city_fodors  \\\n",
       "0  arnie mortons of chicago  435 s la cienega blv   los angeles   \n",
       "1         arts delicatessen    12224 ventura blvd   studio city   \n",
       "2                cafe bizou    14016 ventura blvd  sherman oaks   \n",
       "3                 campanile     624 s la brea ave   los angeles   \n",
       "4           chinois on main          2709 main st  santa monica   \n",
       "\n",
       "                name_zagats            addr_zagats   city_zagats       score  \\\n",
       "0  arnie mortons of chicago  435 s la cienega blvd   los angeles   98.412698   \n",
       "1                 arts deli     12224 ventura blvd   studio city   84.313725   \n",
       "2                cafe bizou     14016 ventura blvd  sherman oaks  100.000000   \n",
       "3                 campanile      624 s la brea ave   los angeles  100.000000   \n",
       "4           chinois on main           2709 main st  santa monica  100.000000   \n",
       "\n",
       "   actual_match  predicted_match  \n",
       "0          True             True  \n",
       "1          True             True  \n",
       "2          True             True  \n",
       "3          True             True  \n",
       "4          True             True  "
      ]
     },
     "metadata": {},
     "output_type": "display_data"
    },
    {
     "name": "stdout",
     "output_type": "stream",
     "text": [
      "\n",
      "TN examples:\n"
     ]
    },
    {
     "data": {
      "application/vnd.microsoft.datawrangler.viewer.v0+json": {
       "columns": [
        {
         "name": "index",
         "rawType": "int64",
         "type": "integer"
        },
        {
         "name": "name_fodors",
         "rawType": "object",
         "type": "string"
        },
        {
         "name": "addr_fodors",
         "rawType": "object",
         "type": "string"
        },
        {
         "name": "city_fodors",
         "rawType": "object",
         "type": "string"
        },
        {
         "name": "name_zagats",
         "rawType": "object",
         "type": "string"
        },
        {
         "name": "addr_zagats",
         "rawType": "object",
         "type": "string"
        },
        {
         "name": "city_zagats",
         "rawType": "object",
         "type": "string"
        },
        {
         "name": "score",
         "rawType": "float64",
         "type": "float"
        },
        {
         "name": "actual_match",
         "rawType": "bool",
         "type": "boolean"
        },
        {
         "name": "predicted_match",
         "rawType": "bool",
         "type": "boolean"
        }
       ],
       "ref": "b6b414b1-8e7d-4e85-b24a-db6cdf080021",
       "rows": [
        [
         "0",
         "arnie mortons of chicago",
         "435 s la cienega blv",
         "los angeles",
         "apple pan the",
         "10801 w pico blvd",
         "west la",
         "24.39393939393939",
         "False",
         "False"
        ],
        [
         "1",
         "arnie mortons of chicago",
         "435 s la cienega blv",
         "los angeles",
         "asahi ramen",
         "2027 sawtelle blvd",
         "west la",
         "20.227272727272723",
         "False",
         "False"
        ],
        [
         "2",
         "arnie mortons of chicago",
         "435 s la cienega blv",
         "los angeles",
         "baja fresh",
         "3345 kimber dr",
         "westlake village",
         "20.13888888888889",
         "False",
         "False"
        ],
        [
         "3",
         "arnie mortons of chicago",
         "435 s la cienega blv",
         "los angeles",
         "belvedere the",
         "9882 little santa monica blvd",
         "beverly hills",
         "21.028588269967578",
         "False",
         "False"
        ],
        [
         "4",
         "arnie mortons of chicago",
         "435 s la cienega blv",
         "los angeles",
         "benitas frites",
         "1433 third st promenade",
         "santa monica",
         "19.7463768115942",
         "False",
         "False"
        ]
       ],
       "shape": {
        "columns": 9,
        "rows": 5
       }
      },
      "text/html": [
       "<div>\n",
       "<style scoped>\n",
       "    .dataframe tbody tr th:only-of-type {\n",
       "        vertical-align: middle;\n",
       "    }\n",
       "\n",
       "    .dataframe tbody tr th {\n",
       "        vertical-align: top;\n",
       "    }\n",
       "\n",
       "    .dataframe thead th {\n",
       "        text-align: right;\n",
       "    }\n",
       "</style>\n",
       "<table border=\"1\" class=\"dataframe\">\n",
       "  <thead>\n",
       "    <tr style=\"text-align: right;\">\n",
       "      <th></th>\n",
       "      <th>name_fodors</th>\n",
       "      <th>addr_fodors</th>\n",
       "      <th>city_fodors</th>\n",
       "      <th>name_zagats</th>\n",
       "      <th>addr_zagats</th>\n",
       "      <th>city_zagats</th>\n",
       "      <th>score</th>\n",
       "      <th>actual_match</th>\n",
       "      <th>predicted_match</th>\n",
       "    </tr>\n",
       "  </thead>\n",
       "  <tbody>\n",
       "    <tr>\n",
       "      <th>0</th>\n",
       "      <td>arnie mortons of chicago</td>\n",
       "      <td>435 s la cienega blv</td>\n",
       "      <td>los angeles</td>\n",
       "      <td>apple pan the</td>\n",
       "      <td>10801 w pico blvd</td>\n",
       "      <td>west la</td>\n",
       "      <td>24.393939</td>\n",
       "      <td>False</td>\n",
       "      <td>False</td>\n",
       "    </tr>\n",
       "    <tr>\n",
       "      <th>1</th>\n",
       "      <td>arnie mortons of chicago</td>\n",
       "      <td>435 s la cienega blv</td>\n",
       "      <td>los angeles</td>\n",
       "      <td>asahi ramen</td>\n",
       "      <td>2027 sawtelle blvd</td>\n",
       "      <td>west la</td>\n",
       "      <td>20.227273</td>\n",
       "      <td>False</td>\n",
       "      <td>False</td>\n",
       "    </tr>\n",
       "    <tr>\n",
       "      <th>2</th>\n",
       "      <td>arnie mortons of chicago</td>\n",
       "      <td>435 s la cienega blv</td>\n",
       "      <td>los angeles</td>\n",
       "      <td>baja fresh</td>\n",
       "      <td>3345 kimber dr</td>\n",
       "      <td>westlake village</td>\n",
       "      <td>20.138889</td>\n",
       "      <td>False</td>\n",
       "      <td>False</td>\n",
       "    </tr>\n",
       "    <tr>\n",
       "      <th>3</th>\n",
       "      <td>arnie mortons of chicago</td>\n",
       "      <td>435 s la cienega blv</td>\n",
       "      <td>los angeles</td>\n",
       "      <td>belvedere the</td>\n",
       "      <td>9882 little santa monica blvd</td>\n",
       "      <td>beverly hills</td>\n",
       "      <td>21.028588</td>\n",
       "      <td>False</td>\n",
       "      <td>False</td>\n",
       "    </tr>\n",
       "    <tr>\n",
       "      <th>4</th>\n",
       "      <td>arnie mortons of chicago</td>\n",
       "      <td>435 s la cienega blv</td>\n",
       "      <td>los angeles</td>\n",
       "      <td>benitas frites</td>\n",
       "      <td>1433 third st promenade</td>\n",
       "      <td>santa monica</td>\n",
       "      <td>19.746377</td>\n",
       "      <td>False</td>\n",
       "      <td>False</td>\n",
       "    </tr>\n",
       "  </tbody>\n",
       "</table>\n",
       "</div>"
      ],
      "text/plain": [
       "                name_fodors           addr_fodors  city_fodors  \\\n",
       "0  arnie mortons of chicago  435 s la cienega blv  los angeles   \n",
       "1  arnie mortons of chicago  435 s la cienega blv  los angeles   \n",
       "2  arnie mortons of chicago  435 s la cienega blv  los angeles   \n",
       "3  arnie mortons of chicago  435 s la cienega blv  los angeles   \n",
       "4  arnie mortons of chicago  435 s la cienega blv  los angeles   \n",
       "\n",
       "      name_zagats                    addr_zagats       city_zagats      score  \\\n",
       "0   apple pan the              10801 w pico blvd           west la  24.393939   \n",
       "1     asahi ramen             2027 sawtelle blvd           west la  20.227273   \n",
       "2      baja fresh                 3345 kimber dr  westlake village  20.138889   \n",
       "3   belvedere the  9882 little santa monica blvd     beverly hills  21.028588   \n",
       "4  benitas frites        1433 third st promenade      santa monica  19.746377   \n",
       "\n",
       "   actual_match  predicted_match  \n",
       "0         False            False  \n",
       "1         False            False  \n",
       "2         False            False  \n",
       "3         False            False  \n",
       "4         False            False  "
      ]
     },
     "metadata": {},
     "output_type": "display_data"
    },
    {
     "name": "stdout",
     "output_type": "stream",
     "text": [
      "\n",
      "FP examples:\n"
     ]
    },
    {
     "data": {
      "application/vnd.microsoft.datawrangler.viewer.v0+json": {
       "columns": [
        {
         "name": "index",
         "rawType": "int64",
         "type": "integer"
        },
        {
         "name": "name_fodors",
         "rawType": "object",
         "type": "string"
        },
        {
         "name": "addr_fodors",
         "rawType": "object",
         "type": "string"
        },
        {
         "name": "city_fodors",
         "rawType": "object",
         "type": "string"
        },
        {
         "name": "name_zagats",
         "rawType": "object",
         "type": "string"
        },
        {
         "name": "addr_zagats",
         "rawType": "object",
         "type": "string"
        },
        {
         "name": "city_zagats",
         "rawType": "object",
         "type": "string"
        },
        {
         "name": "score",
         "rawType": "float64",
         "type": "float"
        },
        {
         "name": "actual_match",
         "rawType": "bool",
         "type": "boolean"
        },
        {
         "name": "predicted_match",
         "rawType": "bool",
         "type": "boolean"
        }
       ],
       "ref": "84b6ffe1-dc2a-4eba-9194-f48f51cc7667",
       "rows": [
        [
         "0",
         "restaurant ritzcarlton atlanta",
         "181 peachtree st",
         "atlanta",
         "ritzcarlton cafe atlanta",
         "181 peachtree st",
         "atlanta",
         "82.22222222222221",
         "False",
         "True"
        ],
        [
         "1",
         "empress court",
         "3570 las vegas blvd s",
         "las vegas",
         "palace court",
         "3570 las vegas blvd s",
         "las vegas",
         "82.05128205128206",
         "False",
         "True"
        ]
       ],
       "shape": {
        "columns": 9,
        "rows": 2
       }
      },
      "text/html": [
       "<div>\n",
       "<style scoped>\n",
       "    .dataframe tbody tr th:only-of-type {\n",
       "        vertical-align: middle;\n",
       "    }\n",
       "\n",
       "    .dataframe tbody tr th {\n",
       "        vertical-align: top;\n",
       "    }\n",
       "\n",
       "    .dataframe thead th {\n",
       "        text-align: right;\n",
       "    }\n",
       "</style>\n",
       "<table border=\"1\" class=\"dataframe\">\n",
       "  <thead>\n",
       "    <tr style=\"text-align: right;\">\n",
       "      <th></th>\n",
       "      <th>name_fodors</th>\n",
       "      <th>addr_fodors</th>\n",
       "      <th>city_fodors</th>\n",
       "      <th>name_zagats</th>\n",
       "      <th>addr_zagats</th>\n",
       "      <th>city_zagats</th>\n",
       "      <th>score</th>\n",
       "      <th>actual_match</th>\n",
       "      <th>predicted_match</th>\n",
       "    </tr>\n",
       "  </thead>\n",
       "  <tbody>\n",
       "    <tr>\n",
       "      <th>0</th>\n",
       "      <td>restaurant ritzcarlton atlanta</td>\n",
       "      <td>181 peachtree st</td>\n",
       "      <td>atlanta</td>\n",
       "      <td>ritzcarlton cafe atlanta</td>\n",
       "      <td>181 peachtree st</td>\n",
       "      <td>atlanta</td>\n",
       "      <td>82.222222</td>\n",
       "      <td>False</td>\n",
       "      <td>True</td>\n",
       "    </tr>\n",
       "    <tr>\n",
       "      <th>1</th>\n",
       "      <td>empress court</td>\n",
       "      <td>3570 las vegas blvd s</td>\n",
       "      <td>las vegas</td>\n",
       "      <td>palace court</td>\n",
       "      <td>3570 las vegas blvd s</td>\n",
       "      <td>las vegas</td>\n",
       "      <td>82.051282</td>\n",
       "      <td>False</td>\n",
       "      <td>True</td>\n",
       "    </tr>\n",
       "  </tbody>\n",
       "</table>\n",
       "</div>"
      ],
      "text/plain": [
       "                      name_fodors            addr_fodors city_fodors  \\\n",
       "0  restaurant ritzcarlton atlanta       181 peachtree st     atlanta   \n",
       "1                   empress court  3570 las vegas blvd s   las vegas   \n",
       "\n",
       "                name_zagats            addr_zagats city_zagats      score  \\\n",
       "0  ritzcarlton cafe atlanta       181 peachtree st     atlanta  82.222222   \n",
       "1              palace court  3570 las vegas blvd s   las vegas  82.051282   \n",
       "\n",
       "   actual_match  predicted_match  \n",
       "0         False             True  \n",
       "1         False             True  "
      ]
     },
     "metadata": {},
     "output_type": "display_data"
    },
    {
     "name": "stdout",
     "output_type": "stream",
     "text": [
      "\n",
      "FN examples:\n"
     ]
    },
    {
     "data": {
      "application/vnd.microsoft.datawrangler.viewer.v0+json": {
       "columns": [
        {
         "name": "index",
         "rawType": "int64",
         "type": "integer"
        },
        {
         "name": "name_fodors",
         "rawType": "object",
         "type": "string"
        },
        {
         "name": "addr_fodors",
         "rawType": "object",
         "type": "string"
        },
        {
         "name": "city_fodors",
         "rawType": "object",
         "type": "string"
        },
        {
         "name": "name_zagats",
         "rawType": "object",
         "type": "string"
        },
        {
         "name": "addr_zagats",
         "rawType": "object",
         "type": "string"
        },
        {
         "name": "city_zagats",
         "rawType": "object",
         "type": "string"
        },
        {
         "name": "score",
         "rawType": "float64",
         "type": "float"
        },
        {
         "name": "actual_match",
         "rawType": "bool",
         "type": "boolean"
        },
        {
         "name": "predicted_match",
         "rawType": "bool",
         "type": "boolean"
        }
       ],
       "ref": "6524a48b-e1e5-4a56-aafa-3ccd750e24f2",
       "rows": [
        [
         "0",
         "hotel belair",
         "701 stone canyon rd",
         "bel air",
         "belair hotel",
         "701 stone canyon rd",
         "bel air",
         "66.66666666666667",
         "True",
         "False"
        ],
        [
         "1",
         "fenix",
         "8358 sunset blvd west",
         "hollywood",
         "fenix at the argyle",
         "8358 sunset blvd",
         "w hollywood",
         "61.44148249411408",
         "True",
         "False"
        ],
        [
         "2",
         "grill on the alley",
         "9560 dayton way",
         "los angeles",
         "grill the",
         "9560 dayton way",
         "beverly hills",
         "55.12820512820513",
         "True",
         "False"
        ],
        [
         "3",
         "restaurant katsu",
         "1972 n hillhurst ave",
         "los angeles",
         "katsu",
         "1972 hillhurst ave",
         "los feliz",
         "58.598484848484844",
         "True",
         "False"
        ],
        [
         "4",
         "lorangerie",
         "903 n la cienega blvd",
         "los angeles",
         "lorangerie",
         "903 n la cienega blvd",
         "w hollywood",
         "66.66666666666667",
         "True",
         "False"
        ]
       ],
       "shape": {
        "columns": 9,
        "rows": 5
       }
      },
      "text/html": [
       "<div>\n",
       "<style scoped>\n",
       "    .dataframe tbody tr th:only-of-type {\n",
       "        vertical-align: middle;\n",
       "    }\n",
       "\n",
       "    .dataframe tbody tr th {\n",
       "        vertical-align: top;\n",
       "    }\n",
       "\n",
       "    .dataframe thead th {\n",
       "        text-align: right;\n",
       "    }\n",
       "</style>\n",
       "<table border=\"1\" class=\"dataframe\">\n",
       "  <thead>\n",
       "    <tr style=\"text-align: right;\">\n",
       "      <th></th>\n",
       "      <th>name_fodors</th>\n",
       "      <th>addr_fodors</th>\n",
       "      <th>city_fodors</th>\n",
       "      <th>name_zagats</th>\n",
       "      <th>addr_zagats</th>\n",
       "      <th>city_zagats</th>\n",
       "      <th>score</th>\n",
       "      <th>actual_match</th>\n",
       "      <th>predicted_match</th>\n",
       "    </tr>\n",
       "  </thead>\n",
       "  <tbody>\n",
       "    <tr>\n",
       "      <th>0</th>\n",
       "      <td>hotel belair</td>\n",
       "      <td>701 stone canyon rd</td>\n",
       "      <td>bel air</td>\n",
       "      <td>belair hotel</td>\n",
       "      <td>701 stone canyon rd</td>\n",
       "      <td>bel air</td>\n",
       "      <td>66.666667</td>\n",
       "      <td>True</td>\n",
       "      <td>False</td>\n",
       "    </tr>\n",
       "    <tr>\n",
       "      <th>1</th>\n",
       "      <td>fenix</td>\n",
       "      <td>8358 sunset blvd west</td>\n",
       "      <td>hollywood</td>\n",
       "      <td>fenix at the argyle</td>\n",
       "      <td>8358 sunset blvd</td>\n",
       "      <td>w hollywood</td>\n",
       "      <td>61.441482</td>\n",
       "      <td>True</td>\n",
       "      <td>False</td>\n",
       "    </tr>\n",
       "    <tr>\n",
       "      <th>2</th>\n",
       "      <td>grill on the alley</td>\n",
       "      <td>9560 dayton way</td>\n",
       "      <td>los angeles</td>\n",
       "      <td>grill the</td>\n",
       "      <td>9560 dayton way</td>\n",
       "      <td>beverly hills</td>\n",
       "      <td>55.128205</td>\n",
       "      <td>True</td>\n",
       "      <td>False</td>\n",
       "    </tr>\n",
       "    <tr>\n",
       "      <th>3</th>\n",
       "      <td>restaurant katsu</td>\n",
       "      <td>1972 n hillhurst ave</td>\n",
       "      <td>los angeles</td>\n",
       "      <td>katsu</td>\n",
       "      <td>1972 hillhurst ave</td>\n",
       "      <td>los feliz</td>\n",
       "      <td>58.598485</td>\n",
       "      <td>True</td>\n",
       "      <td>False</td>\n",
       "    </tr>\n",
       "    <tr>\n",
       "      <th>4</th>\n",
       "      <td>lorangerie</td>\n",
       "      <td>903 n la cienega blvd</td>\n",
       "      <td>los angeles</td>\n",
       "      <td>lorangerie</td>\n",
       "      <td>903 n la cienega blvd</td>\n",
       "      <td>w hollywood</td>\n",
       "      <td>66.666667</td>\n",
       "      <td>True</td>\n",
       "      <td>False</td>\n",
       "    </tr>\n",
       "  </tbody>\n",
       "</table>\n",
       "</div>"
      ],
      "text/plain": [
       "          name_fodors            addr_fodors  city_fodors  \\\n",
       "0        hotel belair    701 stone canyon rd      bel air   \n",
       "1               fenix  8358 sunset blvd west    hollywood   \n",
       "2  grill on the alley        9560 dayton way  los angeles   \n",
       "3    restaurant katsu   1972 n hillhurst ave  los angeles   \n",
       "4          lorangerie  903 n la cienega blvd  los angeles   \n",
       "\n",
       "           name_zagats            addr_zagats    city_zagats      score  \\\n",
       "0         belair hotel    701 stone canyon rd        bel air  66.666667   \n",
       "1  fenix at the argyle       8358 sunset blvd    w hollywood  61.441482   \n",
       "2            grill the        9560 dayton way  beverly hills  55.128205   \n",
       "3                katsu     1972 hillhurst ave      los feliz  58.598485   \n",
       "4           lorangerie  903 n la cienega blvd    w hollywood  66.666667   \n",
       "\n",
       "   actual_match  predicted_match  \n",
       "0          True            False  \n",
       "1          True            False  \n",
       "2          True            False  \n",
       "3          True            False  \n",
       "4          True            False  "
      ]
     },
     "metadata": {},
     "output_type": "display_data"
    }
   ],
   "source": [
    "# View examples of correctly and incorrectly predicted matches\n",
    "# split by classification outcome: True Positive, True Negative, False Positive, False Negative\n",
    "preview_classification_outcomes(lev_df, fodors, zagats)\n",
    "\n"
   ]
  },
  {
   "cell_type": "markdown",
   "id": "6da6fc22",
   "metadata": {},
   "source": [
    "As expected, Levenshtein scores did well when names, address and cities were either the same or slightly different becuase of typos or spelling. It failed, though, when parts of the strings were ordered differently or missing."
   ]
  },
  {
   "cell_type": "markdown",
   "id": "52c8c757",
   "metadata": {},
   "source": [
    "### Method 1b: Fuzzy Matching with token comparison\n",
    "Next, we use the Python library fuzzywuzzy, specifically the token_set_ratio function, because it efficiently handles variations in word order, extra or missing words, and minor textual differences by comparing sets of words (tokens) between strings.\n",
    "\n",
    "This method is particularly effective for quickly identifying matches when differences are mainly textual rather than semantic or context-based, which are common in the restaurant dataset used in this analysis, for example, matching \"Palm Restaurant\" with \"The Palm Restaurant\"."
   ]
  },
  {
   "cell_type": "code",
   "execution_count": null,
   "id": "c52e2992",
   "metadata": {},
   "outputs": [
    {
     "name": "stderr",
     "output_type": "stream",
     "text": [
      "Generating token set ratio scores: 100%|██████████| 533/533 [00:24<00:00, 21.97it/s]\n"
     ]
    },
    {
     "name": "stdout",
     "output_type": "stream",
     "text": [
      "\n",
      "Fuzzy pairs preview: 176423 rows, 4 columns\n",
      "   fodors_id  zagats_id      score  actual_match\n",
      "0        534          1  34.333333         False\n",
      "1        534          2  34.666667         False\n",
      "2        534          3  36.000000         False\n",
      "3        534          4  36.333333         False\n",
      "4        534          5  33.333333         False\n"
     ]
    },
    {
     "name": "stderr",
     "output_type": "stream",
     "text": [
      "Optimizing token set ratio threshold: 100%|██████████| 40/40 [00:00<00:00, 41.53it/s]"
     ]
    },
    {
     "name": "stdout",
     "output_type": "stream",
     "text": [
      "\n",
      "Optimized Token Set Ratio Threshold: 88\n",
      "Fuzzy Matching Results:\n",
      "Precision: 0.96\n",
      "Recall:    0.89\n",
      "F1-Score:  0.93\n",
      "Accuracy:  1.00\n"
     ]
    },
    {
     "name": "stderr",
     "output_type": "stream",
     "text": [
      "\n"
     ]
    }
   ],
   "source": [
    "from fuzzywuzzy import fuzz\n",
    "\n",
    "# Generate pairs\n",
    "fuzzy_df = generate_matching_pairs(\n",
    "    fodors, zagats,\n",
    "    similarity_func=fuzz.token_set_ratio,\n",
    "    desc='Generating token set ratio scores'\n",
    ")\n",
    "\n",
    "# Add ground truth labels\n",
    "fuzzy_df = add_ground_truth_labels(fuzzy_df, matches)\n",
    "\n",
    "print(f\"\\nFuzzy pairs preview: {fuzzy_df.shape[0]} rows, {fuzzy_df.shape[1]} columns\")\n",
    "print(fuzzy_df.head())\n",
    "\n",
    "# Find best threshold\n",
    "fuzzy_df, fuzzy_metrics = optimize_threshold(\n",
    "    fuzzy_df,\n",
    "    thresholds=np.arange(60, 100, 1),\n",
    "    desc='Optimizing token set ratio threshold'\n",
    ")\n",
    "\n",
    "# Results\n",
    "print(f\"\\nOptimized Token Set Ratio Threshold: {fuzzy_metrics['best_threshold']}\")\n",
    "print(\"Fuzzy Matching Results:\")\n",
    "print(f\"Precision: {fuzzy_metrics['precision']:.2f}\")\n",
    "print(f\"Recall:    {fuzzy_metrics['recall']:.2f}\")\n",
    "print(f\"F1-Score:  {fuzzy_metrics['f1_score']:.2f}\")\n",
    "print(f\"Accuracy:  {fuzzy_metrics['accuracy']:.2f}\")\n"
   ]
  },
  {
   "cell_type": "code",
   "execution_count": 76,
   "id": "86259e46",
   "metadata": {},
   "outputs": [
    {
     "name": "stdout",
     "output_type": "stream",
     "text": [
      "\n",
      "TP examples:\n"
     ]
    },
    {
     "data": {
      "application/vnd.microsoft.datawrangler.viewer.v0+json": {
       "columns": [
        {
         "name": "index",
         "rawType": "int64",
         "type": "integer"
        },
        {
         "name": "name_fodors",
         "rawType": "object",
         "type": "string"
        },
        {
         "name": "addr_fodors",
         "rawType": "object",
         "type": "string"
        },
        {
         "name": "city_fodors",
         "rawType": "object",
         "type": "string"
        },
        {
         "name": "name_zagats",
         "rawType": "object",
         "type": "string"
        },
        {
         "name": "addr_zagats",
         "rawType": "object",
         "type": "string"
        },
        {
         "name": "city_zagats",
         "rawType": "object",
         "type": "string"
        },
        {
         "name": "score",
         "rawType": "float64",
         "type": "float"
        },
        {
         "name": "actual_match",
         "rawType": "bool",
         "type": "boolean"
        },
        {
         "name": "predicted_match",
         "rawType": "bool",
         "type": "boolean"
        }
       ],
       "conversionMethod": "pd.DataFrame",
       "ref": "f8a0e23d-5dd8-4959-9440-ebc8db29d39c",
       "rows": [
        [
         "0",
         "arnie mortons of chicago",
         "435 s la cienega blv",
         "los angeles",
         "arnie mortons of chicago",
         "435 s la cienega blvd",
         "los angeles",
         "99.33333333333333",
         "True",
         "True"
        ],
        [
         "1",
         "arts delicatessen",
         "12224 ventura blvd",
         "studio city",
         "arts deli",
         "12224 ventura blvd",
         "studio city",
         "89.66666666666667",
         "True",
         "True"
        ],
        [
         "2",
         "hotel belair",
         "701 stone canyon rd",
         "bel air",
         "belair hotel",
         "701 stone canyon rd",
         "bel air",
         "100.0",
         "True",
         "True"
        ],
        [
         "3",
         "cafe bizou",
         "14016 ventura blvd",
         "sherman oaks",
         "cafe bizou",
         "14016 ventura blvd",
         "sherman oaks",
         "100.0",
         "True",
         "True"
        ],
        [
         "4",
         "campanile",
         "624 s la brea ave",
         "los angeles",
         "campanile",
         "624 s la brea ave",
         "los angeles",
         "100.0",
         "True",
         "True"
        ]
       ],
       "shape": {
        "columns": 9,
        "rows": 5
       }
      },
      "text/html": [
       "<div>\n",
       "<style scoped>\n",
       "    .dataframe tbody tr th:only-of-type {\n",
       "        vertical-align: middle;\n",
       "    }\n",
       "\n",
       "    .dataframe tbody tr th {\n",
       "        vertical-align: top;\n",
       "    }\n",
       "\n",
       "    .dataframe thead th {\n",
       "        text-align: right;\n",
       "    }\n",
       "</style>\n",
       "<table border=\"1\" class=\"dataframe\">\n",
       "  <thead>\n",
       "    <tr style=\"text-align: right;\">\n",
       "      <th></th>\n",
       "      <th>name_fodors</th>\n",
       "      <th>addr_fodors</th>\n",
       "      <th>city_fodors</th>\n",
       "      <th>name_zagats</th>\n",
       "      <th>addr_zagats</th>\n",
       "      <th>city_zagats</th>\n",
       "      <th>score</th>\n",
       "      <th>actual_match</th>\n",
       "      <th>predicted_match</th>\n",
       "    </tr>\n",
       "  </thead>\n",
       "  <tbody>\n",
       "    <tr>\n",
       "      <th>0</th>\n",
       "      <td>arnie mortons of chicago</td>\n",
       "      <td>435 s la cienega blv</td>\n",
       "      <td>los angeles</td>\n",
       "      <td>arnie mortons of chicago</td>\n",
       "      <td>435 s la cienega blvd</td>\n",
       "      <td>los angeles</td>\n",
       "      <td>99.333333</td>\n",
       "      <td>True</td>\n",
       "      <td>True</td>\n",
       "    </tr>\n",
       "    <tr>\n",
       "      <th>1</th>\n",
       "      <td>arts delicatessen</td>\n",
       "      <td>12224 ventura blvd</td>\n",
       "      <td>studio city</td>\n",
       "      <td>arts deli</td>\n",
       "      <td>12224 ventura blvd</td>\n",
       "      <td>studio city</td>\n",
       "      <td>89.666667</td>\n",
       "      <td>True</td>\n",
       "      <td>True</td>\n",
       "    </tr>\n",
       "    <tr>\n",
       "      <th>2</th>\n",
       "      <td>hotel belair</td>\n",
       "      <td>701 stone canyon rd</td>\n",
       "      <td>bel air</td>\n",
       "      <td>belair hotel</td>\n",
       "      <td>701 stone canyon rd</td>\n",
       "      <td>bel air</td>\n",
       "      <td>100.000000</td>\n",
       "      <td>True</td>\n",
       "      <td>True</td>\n",
       "    </tr>\n",
       "    <tr>\n",
       "      <th>3</th>\n",
       "      <td>cafe bizou</td>\n",
       "      <td>14016 ventura blvd</td>\n",
       "      <td>sherman oaks</td>\n",
       "      <td>cafe bizou</td>\n",
       "      <td>14016 ventura blvd</td>\n",
       "      <td>sherman oaks</td>\n",
       "      <td>100.000000</td>\n",
       "      <td>True</td>\n",
       "      <td>True</td>\n",
       "    </tr>\n",
       "    <tr>\n",
       "      <th>4</th>\n",
       "      <td>campanile</td>\n",
       "      <td>624 s la brea ave</td>\n",
       "      <td>los angeles</td>\n",
       "      <td>campanile</td>\n",
       "      <td>624 s la brea ave</td>\n",
       "      <td>los angeles</td>\n",
       "      <td>100.000000</td>\n",
       "      <td>True</td>\n",
       "      <td>True</td>\n",
       "    </tr>\n",
       "  </tbody>\n",
       "</table>\n",
       "</div>"
      ],
      "text/plain": [
       "                name_fodors           addr_fodors   city_fodors  \\\n",
       "0  arnie mortons of chicago  435 s la cienega blv   los angeles   \n",
       "1         arts delicatessen    12224 ventura blvd   studio city   \n",
       "2              hotel belair   701 stone canyon rd       bel air   \n",
       "3                cafe bizou    14016 ventura blvd  sherman oaks   \n",
       "4                 campanile     624 s la brea ave   los angeles   \n",
       "\n",
       "                name_zagats            addr_zagats   city_zagats       score  \\\n",
       "0  arnie mortons of chicago  435 s la cienega blvd   los angeles   99.333333   \n",
       "1                 arts deli     12224 ventura blvd   studio city   89.666667   \n",
       "2              belair hotel    701 stone canyon rd       bel air  100.000000   \n",
       "3                cafe bizou     14016 ventura blvd  sherman oaks  100.000000   \n",
       "4                 campanile      624 s la brea ave   los angeles  100.000000   \n",
       "\n",
       "   actual_match  predicted_match  \n",
       "0          True             True  \n",
       "1          True             True  \n",
       "2          True             True  \n",
       "3          True             True  \n",
       "4          True             True  "
      ]
     },
     "metadata": {},
     "output_type": "display_data"
    },
    {
     "name": "stdout",
     "output_type": "stream",
     "text": [
      "\n",
      "TN examples:\n"
     ]
    },
    {
     "data": {
      "application/vnd.microsoft.datawrangler.viewer.v0+json": {
       "columns": [
        {
         "name": "index",
         "rawType": "int64",
         "type": "integer"
        },
        {
         "name": "name_fodors",
         "rawType": "object",
         "type": "string"
        },
        {
         "name": "addr_fodors",
         "rawType": "object",
         "type": "string"
        },
        {
         "name": "city_fodors",
         "rawType": "object",
         "type": "string"
        },
        {
         "name": "name_zagats",
         "rawType": "object",
         "type": "string"
        },
        {
         "name": "addr_zagats",
         "rawType": "object",
         "type": "string"
        },
        {
         "name": "city_zagats",
         "rawType": "object",
         "type": "string"
        },
        {
         "name": "score",
         "rawType": "float64",
         "type": "float"
        },
        {
         "name": "actual_match",
         "rawType": "bool",
         "type": "boolean"
        },
        {
         "name": "predicted_match",
         "rawType": "bool",
         "type": "boolean"
        }
       ],
       "conversionMethod": "pd.DataFrame",
       "ref": "e9e52be1-5824-4fbc-8d05-fb631d50df37",
       "rows": [
        [
         "0",
         "arnie mortons of chicago",
         "435 s la cienega blv",
         "los angeles",
         "apple pan the",
         "10801 w pico blvd",
         "west la",
         "31.0",
         "False",
         "False"
        ],
        [
         "1",
         "arnie mortons of chicago",
         "435 s la cienega blv",
         "los angeles",
         "asahi ramen",
         "2027 sawtelle blvd",
         "west la",
         "33.0",
         "False",
         "False"
        ],
        [
         "2",
         "arnie mortons of chicago",
         "435 s la cienega blv",
         "los angeles",
         "baja fresh",
         "3345 kimber dr",
         "westlake village",
         "32.333333333333336",
         "False",
         "False"
        ],
        [
         "3",
         "arnie mortons of chicago",
         "435 s la cienega blv",
         "los angeles",
         "belvedere the",
         "9882 little santa monica blvd",
         "beverly hills",
         "28.0",
         "False",
         "False"
        ],
        [
         "4",
         "arnie mortons of chicago",
         "435 s la cienega blv",
         "los angeles",
         "benitas frites",
         "1433 third st promenade",
         "santa monica",
         "28.666666666666668",
         "False",
         "False"
        ]
       ],
       "shape": {
        "columns": 9,
        "rows": 5
       }
      },
      "text/html": [
       "<div>\n",
       "<style scoped>\n",
       "    .dataframe tbody tr th:only-of-type {\n",
       "        vertical-align: middle;\n",
       "    }\n",
       "\n",
       "    .dataframe tbody tr th {\n",
       "        vertical-align: top;\n",
       "    }\n",
       "\n",
       "    .dataframe thead th {\n",
       "        text-align: right;\n",
       "    }\n",
       "</style>\n",
       "<table border=\"1\" class=\"dataframe\">\n",
       "  <thead>\n",
       "    <tr style=\"text-align: right;\">\n",
       "      <th></th>\n",
       "      <th>name_fodors</th>\n",
       "      <th>addr_fodors</th>\n",
       "      <th>city_fodors</th>\n",
       "      <th>name_zagats</th>\n",
       "      <th>addr_zagats</th>\n",
       "      <th>city_zagats</th>\n",
       "      <th>score</th>\n",
       "      <th>actual_match</th>\n",
       "      <th>predicted_match</th>\n",
       "    </tr>\n",
       "  </thead>\n",
       "  <tbody>\n",
       "    <tr>\n",
       "      <th>0</th>\n",
       "      <td>arnie mortons of chicago</td>\n",
       "      <td>435 s la cienega blv</td>\n",
       "      <td>los angeles</td>\n",
       "      <td>apple pan the</td>\n",
       "      <td>10801 w pico blvd</td>\n",
       "      <td>west la</td>\n",
       "      <td>31.000000</td>\n",
       "      <td>False</td>\n",
       "      <td>False</td>\n",
       "    </tr>\n",
       "    <tr>\n",
       "      <th>1</th>\n",
       "      <td>arnie mortons of chicago</td>\n",
       "      <td>435 s la cienega blv</td>\n",
       "      <td>los angeles</td>\n",
       "      <td>asahi ramen</td>\n",
       "      <td>2027 sawtelle blvd</td>\n",
       "      <td>west la</td>\n",
       "      <td>33.000000</td>\n",
       "      <td>False</td>\n",
       "      <td>False</td>\n",
       "    </tr>\n",
       "    <tr>\n",
       "      <th>2</th>\n",
       "      <td>arnie mortons of chicago</td>\n",
       "      <td>435 s la cienega blv</td>\n",
       "      <td>los angeles</td>\n",
       "      <td>baja fresh</td>\n",
       "      <td>3345 kimber dr</td>\n",
       "      <td>westlake village</td>\n",
       "      <td>32.333333</td>\n",
       "      <td>False</td>\n",
       "      <td>False</td>\n",
       "    </tr>\n",
       "    <tr>\n",
       "      <th>3</th>\n",
       "      <td>arnie mortons of chicago</td>\n",
       "      <td>435 s la cienega blv</td>\n",
       "      <td>los angeles</td>\n",
       "      <td>belvedere the</td>\n",
       "      <td>9882 little santa monica blvd</td>\n",
       "      <td>beverly hills</td>\n",
       "      <td>28.000000</td>\n",
       "      <td>False</td>\n",
       "      <td>False</td>\n",
       "    </tr>\n",
       "    <tr>\n",
       "      <th>4</th>\n",
       "      <td>arnie mortons of chicago</td>\n",
       "      <td>435 s la cienega blv</td>\n",
       "      <td>los angeles</td>\n",
       "      <td>benitas frites</td>\n",
       "      <td>1433 third st promenade</td>\n",
       "      <td>santa monica</td>\n",
       "      <td>28.666667</td>\n",
       "      <td>False</td>\n",
       "      <td>False</td>\n",
       "    </tr>\n",
       "  </tbody>\n",
       "</table>\n",
       "</div>"
      ],
      "text/plain": [
       "                name_fodors           addr_fodors  city_fodors  \\\n",
       "0  arnie mortons of chicago  435 s la cienega blv  los angeles   \n",
       "1  arnie mortons of chicago  435 s la cienega blv  los angeles   \n",
       "2  arnie mortons of chicago  435 s la cienega blv  los angeles   \n",
       "3  arnie mortons of chicago  435 s la cienega blv  los angeles   \n",
       "4  arnie mortons of chicago  435 s la cienega blv  los angeles   \n",
       "\n",
       "      name_zagats                    addr_zagats       city_zagats      score  \\\n",
       "0   apple pan the              10801 w pico blvd           west la  31.000000   \n",
       "1     asahi ramen             2027 sawtelle blvd           west la  33.000000   \n",
       "2      baja fresh                 3345 kimber dr  westlake village  32.333333   \n",
       "3   belvedere the  9882 little santa monica blvd     beverly hills  28.000000   \n",
       "4  benitas frites        1433 third st promenade      santa monica  28.666667   \n",
       "\n",
       "   actual_match  predicted_match  \n",
       "0         False            False  \n",
       "1         False            False  \n",
       "2         False            False  \n",
       "3         False            False  \n",
       "4         False            False  "
      ]
     },
     "metadata": {},
     "output_type": "display_data"
    },
    {
     "name": "stdout",
     "output_type": "stream",
     "text": [
      "\n",
      "FP examples:\n"
     ]
    },
    {
     "data": {
      "application/vnd.microsoft.datawrangler.viewer.v0+json": {
       "columns": [
        {
         "name": "index",
         "rawType": "int64",
         "type": "integer"
        },
        {
         "name": "name_fodors",
         "rawType": "object",
         "type": "string"
        },
        {
         "name": "addr_fodors",
         "rawType": "object",
         "type": "string"
        },
        {
         "name": "city_fodors",
         "rawType": "object",
         "type": "string"
        },
        {
         "name": "name_zagats",
         "rawType": "object",
         "type": "string"
        },
        {
         "name": "addr_zagats",
         "rawType": "object",
         "type": "string"
        },
        {
         "name": "city_zagats",
         "rawType": "object",
         "type": "string"
        },
        {
         "name": "score",
         "rawType": "float64",
         "type": "float"
        },
        {
         "name": "actual_match",
         "rawType": "bool",
         "type": "boolean"
        },
        {
         "name": "predicted_match",
         "rawType": "bool",
         "type": "boolean"
        }
       ],
       "conversionMethod": "pd.DataFrame",
       "ref": "0c0387d2-5653-4ad4-b17e-3de9616d3860",
       "rows": [
        [
         "0",
         "cafe ritzcarlton buckhead",
         "3434 peachtree rd",
         "atlanta",
         "ritzcarlton dining room buckhead",
         "3434 peachtree rd ne",
         "atlanta",
         "96.33333333333333",
         "False",
         "True"
        ],
        [
         "1",
         "dining room ritzcarlton buckhead",
         "3434 peachtree rd",
         "atlanta",
         "ritzcarlton cafe buckhead",
         "3434 peachtree rd ne",
         "atlanta",
         "96.33333333333333",
         "False",
         "True"
        ],
        [
         "2",
         "restaurant ritzcarlton atlanta",
         "181 peachtree st",
         "atlanta",
         "ritzcarlton cafe atlanta",
         "181 peachtree st",
         "atlanta",
         "96.0",
         "False",
         "True"
        ]
       ],
       "shape": {
        "columns": 9,
        "rows": 3
       }
      },
      "text/html": [
       "<div>\n",
       "<style scoped>\n",
       "    .dataframe tbody tr th:only-of-type {\n",
       "        vertical-align: middle;\n",
       "    }\n",
       "\n",
       "    .dataframe tbody tr th {\n",
       "        vertical-align: top;\n",
       "    }\n",
       "\n",
       "    .dataframe thead th {\n",
       "        text-align: right;\n",
       "    }\n",
       "</style>\n",
       "<table border=\"1\" class=\"dataframe\">\n",
       "  <thead>\n",
       "    <tr style=\"text-align: right;\">\n",
       "      <th></th>\n",
       "      <th>name_fodors</th>\n",
       "      <th>addr_fodors</th>\n",
       "      <th>city_fodors</th>\n",
       "      <th>name_zagats</th>\n",
       "      <th>addr_zagats</th>\n",
       "      <th>city_zagats</th>\n",
       "      <th>score</th>\n",
       "      <th>actual_match</th>\n",
       "      <th>predicted_match</th>\n",
       "    </tr>\n",
       "  </thead>\n",
       "  <tbody>\n",
       "    <tr>\n",
       "      <th>0</th>\n",
       "      <td>cafe ritzcarlton buckhead</td>\n",
       "      <td>3434 peachtree rd</td>\n",
       "      <td>atlanta</td>\n",
       "      <td>ritzcarlton dining room buckhead</td>\n",
       "      <td>3434 peachtree rd ne</td>\n",
       "      <td>atlanta</td>\n",
       "      <td>96.333333</td>\n",
       "      <td>False</td>\n",
       "      <td>True</td>\n",
       "    </tr>\n",
       "    <tr>\n",
       "      <th>1</th>\n",
       "      <td>dining room ritzcarlton buckhead</td>\n",
       "      <td>3434 peachtree rd</td>\n",
       "      <td>atlanta</td>\n",
       "      <td>ritzcarlton cafe buckhead</td>\n",
       "      <td>3434 peachtree rd ne</td>\n",
       "      <td>atlanta</td>\n",
       "      <td>96.333333</td>\n",
       "      <td>False</td>\n",
       "      <td>True</td>\n",
       "    </tr>\n",
       "    <tr>\n",
       "      <th>2</th>\n",
       "      <td>restaurant ritzcarlton atlanta</td>\n",
       "      <td>181 peachtree st</td>\n",
       "      <td>atlanta</td>\n",
       "      <td>ritzcarlton cafe atlanta</td>\n",
       "      <td>181 peachtree st</td>\n",
       "      <td>atlanta</td>\n",
       "      <td>96.000000</td>\n",
       "      <td>False</td>\n",
       "      <td>True</td>\n",
       "    </tr>\n",
       "  </tbody>\n",
       "</table>\n",
       "</div>"
      ],
      "text/plain": [
       "                        name_fodors        addr_fodors city_fodors  \\\n",
       "0         cafe ritzcarlton buckhead  3434 peachtree rd     atlanta   \n",
       "1  dining room ritzcarlton buckhead  3434 peachtree rd     atlanta   \n",
       "2    restaurant ritzcarlton atlanta   181 peachtree st     atlanta   \n",
       "\n",
       "                        name_zagats           addr_zagats city_zagats  \\\n",
       "0  ritzcarlton dining room buckhead  3434 peachtree rd ne     atlanta   \n",
       "1         ritzcarlton cafe buckhead  3434 peachtree rd ne     atlanta   \n",
       "2          ritzcarlton cafe atlanta      181 peachtree st     atlanta   \n",
       "\n",
       "       score  actual_match  predicted_match  \n",
       "0  96.333333         False             True  \n",
       "1  96.333333         False             True  \n",
       "2  96.000000         False             True  "
      ]
     },
     "metadata": {},
     "output_type": "display_data"
    },
    {
     "name": "stdout",
     "output_type": "stream",
     "text": [
      "\n",
      "FN examples:\n"
     ]
    },
    {
     "data": {
      "application/vnd.microsoft.datawrangler.viewer.v0+json": {
       "columns": [
        {
         "name": "index",
         "rawType": "int64",
         "type": "integer"
        },
        {
         "name": "name_fodors",
         "rawType": "object",
         "type": "string"
        },
        {
         "name": "addr_fodors",
         "rawType": "object",
         "type": "string"
        },
        {
         "name": "city_fodors",
         "rawType": "object",
         "type": "string"
        },
        {
         "name": "name_zagats",
         "rawType": "object",
         "type": "string"
        },
        {
         "name": "addr_zagats",
         "rawType": "object",
         "type": "string"
        },
        {
         "name": "city_zagats",
         "rawType": "object",
         "type": "string"
        },
        {
         "name": "score",
         "rawType": "float64",
         "type": "float"
        },
        {
         "name": "actual_match",
         "rawType": "bool",
         "type": "boolean"
        },
        {
         "name": "predicted_match",
         "rawType": "bool",
         "type": "boolean"
        }
       ],
       "conversionMethod": "pd.DataFrame",
       "ref": "94e668fd-eb4e-4b27-9664-c96c473414c4",
       "rows": [
        [
         "0",
         "grill on the alley",
         "9560 dayton way",
         "los angeles",
         "grill the",
         "9560 dayton way",
         "beverly hills",
         "75.0",
         "True",
         "False"
        ],
        [
         "1",
         "restaurant katsu",
         "1972 n hillhurst ave",
         "los angeles",
         "katsu",
         "1972 hillhurst ave",
         "los feliz",
         "86.66666666666667",
         "True",
         "False"
        ],
        [
         "2",
         "lorangerie",
         "903 n la cienega blvd",
         "los angeles",
         "lorangerie",
         "903 n la cienega blvd",
         "w hollywood",
         "72.66666666666667",
         "True",
         "False"
        ],
        [
         "3",
         "locanda veneta",
         "3rd st",
         "los angeles",
         "locanda veneta",
         "8638 w third st",
         "los angeles",
         "85.66666666666667",
         "True",
         "False"
        ],
        [
         "4",
         "the palm",
         "9001 santa monica blvd",
         "los angeles",
         "palm the los angeles",
         "9001 santa monica blvd",
         "w hollywood",
         "72.66666666666667",
         "True",
         "False"
        ]
       ],
       "shape": {
        "columns": 9,
        "rows": 5
       }
      },
      "text/html": [
       "<div>\n",
       "<style scoped>\n",
       "    .dataframe tbody tr th:only-of-type {\n",
       "        vertical-align: middle;\n",
       "    }\n",
       "\n",
       "    .dataframe tbody tr th {\n",
       "        vertical-align: top;\n",
       "    }\n",
       "\n",
       "    .dataframe thead th {\n",
       "        text-align: right;\n",
       "    }\n",
       "</style>\n",
       "<table border=\"1\" class=\"dataframe\">\n",
       "  <thead>\n",
       "    <tr style=\"text-align: right;\">\n",
       "      <th></th>\n",
       "      <th>name_fodors</th>\n",
       "      <th>addr_fodors</th>\n",
       "      <th>city_fodors</th>\n",
       "      <th>name_zagats</th>\n",
       "      <th>addr_zagats</th>\n",
       "      <th>city_zagats</th>\n",
       "      <th>score</th>\n",
       "      <th>actual_match</th>\n",
       "      <th>predicted_match</th>\n",
       "    </tr>\n",
       "  </thead>\n",
       "  <tbody>\n",
       "    <tr>\n",
       "      <th>0</th>\n",
       "      <td>grill on the alley</td>\n",
       "      <td>9560 dayton way</td>\n",
       "      <td>los angeles</td>\n",
       "      <td>grill the</td>\n",
       "      <td>9560 dayton way</td>\n",
       "      <td>beverly hills</td>\n",
       "      <td>75.000000</td>\n",
       "      <td>True</td>\n",
       "      <td>False</td>\n",
       "    </tr>\n",
       "    <tr>\n",
       "      <th>1</th>\n",
       "      <td>restaurant katsu</td>\n",
       "      <td>1972 n hillhurst ave</td>\n",
       "      <td>los angeles</td>\n",
       "      <td>katsu</td>\n",
       "      <td>1972 hillhurst ave</td>\n",
       "      <td>los feliz</td>\n",
       "      <td>86.666667</td>\n",
       "      <td>True</td>\n",
       "      <td>False</td>\n",
       "    </tr>\n",
       "    <tr>\n",
       "      <th>2</th>\n",
       "      <td>lorangerie</td>\n",
       "      <td>903 n la cienega blvd</td>\n",
       "      <td>los angeles</td>\n",
       "      <td>lorangerie</td>\n",
       "      <td>903 n la cienega blvd</td>\n",
       "      <td>w hollywood</td>\n",
       "      <td>72.666667</td>\n",
       "      <td>True</td>\n",
       "      <td>False</td>\n",
       "    </tr>\n",
       "    <tr>\n",
       "      <th>3</th>\n",
       "      <td>locanda veneta</td>\n",
       "      <td>3rd st</td>\n",
       "      <td>los angeles</td>\n",
       "      <td>locanda veneta</td>\n",
       "      <td>8638 w third st</td>\n",
       "      <td>los angeles</td>\n",
       "      <td>85.666667</td>\n",
       "      <td>True</td>\n",
       "      <td>False</td>\n",
       "    </tr>\n",
       "    <tr>\n",
       "      <th>4</th>\n",
       "      <td>the palm</td>\n",
       "      <td>9001 santa monica blvd</td>\n",
       "      <td>los angeles</td>\n",
       "      <td>palm the los angeles</td>\n",
       "      <td>9001 santa monica blvd</td>\n",
       "      <td>w hollywood</td>\n",
       "      <td>72.666667</td>\n",
       "      <td>True</td>\n",
       "      <td>False</td>\n",
       "    </tr>\n",
       "  </tbody>\n",
       "</table>\n",
       "</div>"
      ],
      "text/plain": [
       "          name_fodors             addr_fodors  city_fodors  \\\n",
       "0  grill on the alley         9560 dayton way  los angeles   \n",
       "1    restaurant katsu    1972 n hillhurst ave  los angeles   \n",
       "2          lorangerie   903 n la cienega blvd  los angeles   \n",
       "3      locanda veneta                  3rd st  los angeles   \n",
       "4            the palm  9001 santa monica blvd  los angeles   \n",
       "\n",
       "            name_zagats             addr_zagats    city_zagats      score  \\\n",
       "0             grill the         9560 dayton way  beverly hills  75.000000   \n",
       "1                 katsu      1972 hillhurst ave      los feliz  86.666667   \n",
       "2            lorangerie   903 n la cienega blvd    w hollywood  72.666667   \n",
       "3        locanda veneta         8638 w third st    los angeles  85.666667   \n",
       "4  palm the los angeles  9001 santa monica blvd    w hollywood  72.666667   \n",
       "\n",
       "   actual_match  predicted_match  \n",
       "0          True            False  \n",
       "1          True            False  \n",
       "2          True            False  \n",
       "3          True            False  \n",
       "4          True            False  "
      ]
     },
     "metadata": {},
     "output_type": "display_data"
    }
   ],
   "source": [
    "preview_classification_outcomes(fuzzy_df, fodors, zagats)"
   ]
  },
  {
   "cell_type": "markdown",
   "id": "53cbb4ef",
   "metadata": {},
   "source": [
    "While the token set ratio method proved better than Levenshtein scores (e.g., the F1-score grew from 81% to 93% thanks to a much better recall rate), there still was a relatively high number of false negative matches, which seem to be driven by the differences in city names. While Fodor's marks restaurants as located in Los Angeles, Zagat's locations are more granular and refer to districts, such as Beverly Hills or West Hollywood.\n",
    "\n",
    "To alleviate that, we could try to standardize city names, i.e. bring them all to the same baseline like large metropolitan area or individual districts, but this approach could be hard to scale with large datasets with data all over the world. Thus, let's review matching methods that take into account word meaning and context."
   ]
  },
  {
   "cell_type": "markdown",
   "id": "37e8e2fb",
   "metadata": {},
   "source": [
    "### Method 2: TF-IDF Vectorization + Cosine Similarity\n",
    "TF-IDF stands for Term Frequency-Inverse Document Frequency. This vectorization method transforms text data into numerical vectors that represent the importance of words within documents. TF-IDF considers the frequency and uniqueness of words across the entire dataset, rather than just directly comparing individual strings. This makes it more context-aware and less sensitive to minor spelling or token-order differences.\n",
    "\n",
    "In our case, we'll use sklearn's TfidVectorizer which first tokenizes the text into words, calculates how frequently each word appears within individual records (term frequency), and adjusts those values by how common each word is across all records (inverse document frequency), resulting in vectors emphasizing unique and informative terms.\n",
    "\n",
    "Then, cosine similarity measures how similar two vectors (records) are by computing the cosine of the angle between them. A cosine similarity close to 1 indicates high similarity (almost identical records), while a score close to 0 indicates low similarity."
   ]
  },
  {
   "cell_type": "code",
   "execution_count": null,
   "id": "4552b32a",
   "metadata": {},
   "outputs": [
    {
     "name": "stderr",
     "output_type": "stream",
     "text": [
      "Generating TF-IDF Cosine similarity pairs: 100%|██████████| 533/533 [00:00<00:00, 5988.83it/s]\n",
      "Optimizing TF-IDF Cosine threshold: 100%|██████████| 50/50 [00:01<00:00, 41.39it/s]"
     ]
    },
    {
     "name": "stdout",
     "output_type": "stream",
     "text": [
      "\n",
      "TF-IDF + Cosine Similarity Matching Results:\n",
      "Optimized Threshold: 0.65\n",
      "Precision: 0.86\n",
      "Recall:    0.93\n",
      "F1-Score:  0.89\n",
      "Accuracy:  1.00\n"
     ]
    },
    {
     "name": "stderr",
     "output_type": "stream",
     "text": [
      "\n"
     ]
    }
   ],
   "source": [
    "from sklearn.feature_extraction.text import TfidfVectorizer\n",
    "from sklearn.metrics.pairwise import cosine_similarity\n",
    "\n",
    "# Combine relevant fields\n",
    "fodors['combined'] = fodors['name'] + ' ' + fodors['addr'] + ' ' + fodors['city']\n",
    "zagats['combined'] = zagats['name'] + ' ' + zagats['addr'] + ' ' + zagats['city']\n",
    "\n",
    "# TF-IDF vectorization\n",
    "vectorizer = TfidfVectorizer()\n",
    "tfidf_matrix = vectorizer.fit_transform(pd.concat([fodors['combined'], zagats['combined']]))\n",
    "\n",
    "fodors_tfidf = tfidf_matrix[:len(fodors)]\n",
    "zagats_tfidf = tfidf_matrix[len(fodors):]\n",
    "\n",
    "# Cosine similarity calculation\n",
    "cosine_sim = cosine_similarity(fodors_tfidf, zagats_tfidf)\n",
    "\n",
    "# Reformat similarity matrix into pairs DataFrame to make output consistent with previous methods\n",
    "fodors_ids = fodors['id'].values\n",
    "zagats_ids = zagats['id'].values\n",
    "\n",
    "pairs = []\n",
    "for i in tqdm(range(len(fodors_ids)), desc='Generating TF-IDF Cosine similarity pairs'):\n",
    "    for j in range(len(zagats_ids)):\n",
    "        pairs.append({\n",
    "            'fodors_id': fodors_ids[i],\n",
    "            'zagats_id': zagats_ids[j],\n",
    "            'score': cosine_sim[i, j]\n",
    "        })\n",
    "\n",
    "tfidf_df = pd.DataFrame(pairs)\n",
    "\n",
    "# Reuse previously defined functions to add ground truth labels\n",
    "tfidf_df = add_ground_truth_labels(tfidf_df, matches)\n",
    "\n",
    "# Find best threshold\n",
    "thresholds = np.arange(0.5, 1.0, 0.01)\n",
    "tfidf_df, tfidf_metrics = optimize_threshold(\n",
    "    tfidf_df,\n",
    "    thresholds=thresholds,\n",
    "    desc='Optimizing TF-IDF Cosine threshold'\n",
    ")\n",
    "\n",
    "# Display final metrics\n",
    "print(f\"\\nTF-IDF + Cosine Similarity Matching Results:\")\n",
    "print(f\"Optimized Threshold: {tfidf_metrics['best_threshold']:.2f}\")\n",
    "print(f\"Precision: {tfidf_metrics['precision']:.2f}\")\n",
    "print(f\"Recall:    {tfidf_metrics['recall']:.2f}\")\n",
    "print(f\"F1-Score:  {tfidf_metrics['f1_score']:.2f}\")\n",
    "print(f\"Accuracy:  {tfidf_metrics['accuracy']:.2f}\")\n"
   ]
  },
  {
   "cell_type": "code",
   "execution_count": 10,
   "id": "1c0f5196",
   "metadata": {},
   "outputs": [
    {
     "name": "stdout",
     "output_type": "stream",
     "text": [
      "\n",
      "TP examples:\n"
     ]
    },
    {
     "data": {
      "application/vnd.microsoft.datawrangler.viewer.v0+json": {
       "columns": [
        {
         "name": "index",
         "rawType": "int64",
         "type": "integer"
        },
        {
         "name": "name_fodors",
         "rawType": "object",
         "type": "string"
        },
        {
         "name": "addr_fodors",
         "rawType": "object",
         "type": "string"
        },
        {
         "name": "city_fodors",
         "rawType": "object",
         "type": "string"
        },
        {
         "name": "name_zagats",
         "rawType": "object",
         "type": "string"
        },
        {
         "name": "addr_zagats",
         "rawType": "object",
         "type": "string"
        },
        {
         "name": "city_zagats",
         "rawType": "object",
         "type": "string"
        },
        {
         "name": "score",
         "rawType": "float64",
         "type": "float"
        },
        {
         "name": "actual_match",
         "rawType": "bool",
         "type": "boolean"
        },
        {
         "name": "predicted_match",
         "rawType": "bool",
         "type": "boolean"
        }
       ],
       "ref": "b60d31f2-253d-4a64-a5f1-f4c2de75e579",
       "rows": [
        [
         "0",
         "arnie mortons of chicago",
         "435 s la cienega blv",
         "los angeles",
         "arnie mortons of chicago",
         "435 s la cienega blvd",
         "los angeles",
         "0.8957312446746846",
         "True",
         "True"
        ],
        [
         "1",
         "arts delicatessen",
         "12224 ventura blvd",
         "studio city",
         "arts deli",
         "12224 ventura blvd",
         "studio city",
         "0.8109011185971293",
         "True",
         "True"
        ],
        [
         "2",
         "hotel belair",
         "701 stone canyon rd",
         "bel air",
         "belair hotel",
         "701 stone canyon rd",
         "bel air",
         "1.0000000000000002",
         "True",
         "True"
        ],
        [
         "3",
         "cafe bizou",
         "14016 ventura blvd",
         "sherman oaks",
         "cafe bizou",
         "14016 ventura blvd",
         "sherman oaks",
         "1.0",
         "True",
         "True"
        ],
        [
         "4",
         "campanile",
         "624 s la brea ave",
         "los angeles",
         "campanile",
         "624 s la brea ave",
         "los angeles",
         "1.0000000000000002",
         "True",
         "True"
        ]
       ],
       "shape": {
        "columns": 9,
        "rows": 5
       }
      },
      "text/html": [
       "<div>\n",
       "<style scoped>\n",
       "    .dataframe tbody tr th:only-of-type {\n",
       "        vertical-align: middle;\n",
       "    }\n",
       "\n",
       "    .dataframe tbody tr th {\n",
       "        vertical-align: top;\n",
       "    }\n",
       "\n",
       "    .dataframe thead th {\n",
       "        text-align: right;\n",
       "    }\n",
       "</style>\n",
       "<table border=\"1\" class=\"dataframe\">\n",
       "  <thead>\n",
       "    <tr style=\"text-align: right;\">\n",
       "      <th></th>\n",
       "      <th>name_fodors</th>\n",
       "      <th>addr_fodors</th>\n",
       "      <th>city_fodors</th>\n",
       "      <th>name_zagats</th>\n",
       "      <th>addr_zagats</th>\n",
       "      <th>city_zagats</th>\n",
       "      <th>score</th>\n",
       "      <th>actual_match</th>\n",
       "      <th>predicted_match</th>\n",
       "    </tr>\n",
       "  </thead>\n",
       "  <tbody>\n",
       "    <tr>\n",
       "      <th>0</th>\n",
       "      <td>arnie mortons of chicago</td>\n",
       "      <td>435 s la cienega blv</td>\n",
       "      <td>los angeles</td>\n",
       "      <td>arnie mortons of chicago</td>\n",
       "      <td>435 s la cienega blvd</td>\n",
       "      <td>los angeles</td>\n",
       "      <td>0.895731</td>\n",
       "      <td>True</td>\n",
       "      <td>True</td>\n",
       "    </tr>\n",
       "    <tr>\n",
       "      <th>1</th>\n",
       "      <td>arts delicatessen</td>\n",
       "      <td>12224 ventura blvd</td>\n",
       "      <td>studio city</td>\n",
       "      <td>arts deli</td>\n",
       "      <td>12224 ventura blvd</td>\n",
       "      <td>studio city</td>\n",
       "      <td>0.810901</td>\n",
       "      <td>True</td>\n",
       "      <td>True</td>\n",
       "    </tr>\n",
       "    <tr>\n",
       "      <th>2</th>\n",
       "      <td>hotel belair</td>\n",
       "      <td>701 stone canyon rd</td>\n",
       "      <td>bel air</td>\n",
       "      <td>belair hotel</td>\n",
       "      <td>701 stone canyon rd</td>\n",
       "      <td>bel air</td>\n",
       "      <td>1.000000</td>\n",
       "      <td>True</td>\n",
       "      <td>True</td>\n",
       "    </tr>\n",
       "    <tr>\n",
       "      <th>3</th>\n",
       "      <td>cafe bizou</td>\n",
       "      <td>14016 ventura blvd</td>\n",
       "      <td>sherman oaks</td>\n",
       "      <td>cafe bizou</td>\n",
       "      <td>14016 ventura blvd</td>\n",
       "      <td>sherman oaks</td>\n",
       "      <td>1.000000</td>\n",
       "      <td>True</td>\n",
       "      <td>True</td>\n",
       "    </tr>\n",
       "    <tr>\n",
       "      <th>4</th>\n",
       "      <td>campanile</td>\n",
       "      <td>624 s la brea ave</td>\n",
       "      <td>los angeles</td>\n",
       "      <td>campanile</td>\n",
       "      <td>624 s la brea ave</td>\n",
       "      <td>los angeles</td>\n",
       "      <td>1.000000</td>\n",
       "      <td>True</td>\n",
       "      <td>True</td>\n",
       "    </tr>\n",
       "  </tbody>\n",
       "</table>\n",
       "</div>"
      ],
      "text/plain": [
       "                name_fodors           addr_fodors   city_fodors  \\\n",
       "0  arnie mortons of chicago  435 s la cienega blv   los angeles   \n",
       "1         arts delicatessen    12224 ventura blvd   studio city   \n",
       "2              hotel belair   701 stone canyon rd       bel air   \n",
       "3                cafe bizou    14016 ventura blvd  sherman oaks   \n",
       "4                 campanile     624 s la brea ave   los angeles   \n",
       "\n",
       "                name_zagats            addr_zagats   city_zagats     score  \\\n",
       "0  arnie mortons of chicago  435 s la cienega blvd   los angeles  0.895731   \n",
       "1                 arts deli     12224 ventura blvd   studio city  0.810901   \n",
       "2              belair hotel    701 stone canyon rd       bel air  1.000000   \n",
       "3                cafe bizou     14016 ventura blvd  sherman oaks  1.000000   \n",
       "4                 campanile      624 s la brea ave   los angeles  1.000000   \n",
       "\n",
       "   actual_match  predicted_match  \n",
       "0          True             True  \n",
       "1          True             True  \n",
       "2          True             True  \n",
       "3          True             True  \n",
       "4          True             True  "
      ]
     },
     "metadata": {},
     "output_type": "display_data"
    },
    {
     "name": "stdout",
     "output_type": "stream",
     "text": [
      "\n",
      "TN examples:\n"
     ]
    },
    {
     "data": {
      "application/vnd.microsoft.datawrangler.viewer.v0+json": {
       "columns": [
        {
         "name": "index",
         "rawType": "int64",
         "type": "integer"
        },
        {
         "name": "name_fodors",
         "rawType": "object",
         "type": "string"
        },
        {
         "name": "addr_fodors",
         "rawType": "object",
         "type": "string"
        },
        {
         "name": "city_fodors",
         "rawType": "object",
         "type": "string"
        },
        {
         "name": "name_zagats",
         "rawType": "object",
         "type": "string"
        },
        {
         "name": "addr_zagats",
         "rawType": "object",
         "type": "string"
        },
        {
         "name": "city_zagats",
         "rawType": "object",
         "type": "string"
        },
        {
         "name": "score",
         "rawType": "float64",
         "type": "float"
        },
        {
         "name": "actual_match",
         "rawType": "bool",
         "type": "boolean"
        },
        {
         "name": "predicted_match",
         "rawType": "bool",
         "type": "boolean"
        }
       ],
       "ref": "cc7be90a-a8d6-4a19-8447-1b0c2c92ccc2",
       "rows": [
        [
         "0",
         "arnie mortons of chicago",
         "435 s la cienega blv",
         "los angeles",
         "apple pan the",
         "10801 w pico blvd",
         "west la",
         "0.05287899444577574",
         "False",
         "False"
        ],
        [
         "1",
         "arnie mortons of chicago",
         "435 s la cienega blv",
         "los angeles",
         "asahi ramen",
         "2027 sawtelle blvd",
         "west la",
         "0.052148668252836566",
         "False",
         "False"
        ],
        [
         "2",
         "arnie mortons of chicago",
         "435 s la cienega blv",
         "los angeles",
         "baja fresh",
         "3345 kimber dr",
         "westlake village",
         "0.0",
         "False",
         "False"
        ],
        [
         "3",
         "arnie mortons of chicago",
         "435 s la cienega blv",
         "los angeles",
         "belvedere the",
         "9882 little santa monica blvd",
         "beverly hills",
         "0.0",
         "False",
         "False"
        ],
        [
         "4",
         "arnie mortons of chicago",
         "435 s la cienega blv",
         "los angeles",
         "benitas frites",
         "1433 third st promenade",
         "santa monica",
         "0.0",
         "False",
         "False"
        ]
       ],
       "shape": {
        "columns": 9,
        "rows": 5
       }
      },
      "text/html": [
       "<div>\n",
       "<style scoped>\n",
       "    .dataframe tbody tr th:only-of-type {\n",
       "        vertical-align: middle;\n",
       "    }\n",
       "\n",
       "    .dataframe tbody tr th {\n",
       "        vertical-align: top;\n",
       "    }\n",
       "\n",
       "    .dataframe thead th {\n",
       "        text-align: right;\n",
       "    }\n",
       "</style>\n",
       "<table border=\"1\" class=\"dataframe\">\n",
       "  <thead>\n",
       "    <tr style=\"text-align: right;\">\n",
       "      <th></th>\n",
       "      <th>name_fodors</th>\n",
       "      <th>addr_fodors</th>\n",
       "      <th>city_fodors</th>\n",
       "      <th>name_zagats</th>\n",
       "      <th>addr_zagats</th>\n",
       "      <th>city_zagats</th>\n",
       "      <th>score</th>\n",
       "      <th>actual_match</th>\n",
       "      <th>predicted_match</th>\n",
       "    </tr>\n",
       "  </thead>\n",
       "  <tbody>\n",
       "    <tr>\n",
       "      <th>0</th>\n",
       "      <td>arnie mortons of chicago</td>\n",
       "      <td>435 s la cienega blv</td>\n",
       "      <td>los angeles</td>\n",
       "      <td>apple pan the</td>\n",
       "      <td>10801 w pico blvd</td>\n",
       "      <td>west la</td>\n",
       "      <td>0.052879</td>\n",
       "      <td>False</td>\n",
       "      <td>False</td>\n",
       "    </tr>\n",
       "    <tr>\n",
       "      <th>1</th>\n",
       "      <td>arnie mortons of chicago</td>\n",
       "      <td>435 s la cienega blv</td>\n",
       "      <td>los angeles</td>\n",
       "      <td>asahi ramen</td>\n",
       "      <td>2027 sawtelle blvd</td>\n",
       "      <td>west la</td>\n",
       "      <td>0.052149</td>\n",
       "      <td>False</td>\n",
       "      <td>False</td>\n",
       "    </tr>\n",
       "    <tr>\n",
       "      <th>2</th>\n",
       "      <td>arnie mortons of chicago</td>\n",
       "      <td>435 s la cienega blv</td>\n",
       "      <td>los angeles</td>\n",
       "      <td>baja fresh</td>\n",
       "      <td>3345 kimber dr</td>\n",
       "      <td>westlake village</td>\n",
       "      <td>0.000000</td>\n",
       "      <td>False</td>\n",
       "      <td>False</td>\n",
       "    </tr>\n",
       "    <tr>\n",
       "      <th>3</th>\n",
       "      <td>arnie mortons of chicago</td>\n",
       "      <td>435 s la cienega blv</td>\n",
       "      <td>los angeles</td>\n",
       "      <td>belvedere the</td>\n",
       "      <td>9882 little santa monica blvd</td>\n",
       "      <td>beverly hills</td>\n",
       "      <td>0.000000</td>\n",
       "      <td>False</td>\n",
       "      <td>False</td>\n",
       "    </tr>\n",
       "    <tr>\n",
       "      <th>4</th>\n",
       "      <td>arnie mortons of chicago</td>\n",
       "      <td>435 s la cienega blv</td>\n",
       "      <td>los angeles</td>\n",
       "      <td>benitas frites</td>\n",
       "      <td>1433 third st promenade</td>\n",
       "      <td>santa monica</td>\n",
       "      <td>0.000000</td>\n",
       "      <td>False</td>\n",
       "      <td>False</td>\n",
       "    </tr>\n",
       "  </tbody>\n",
       "</table>\n",
       "</div>"
      ],
      "text/plain": [
       "                name_fodors           addr_fodors  city_fodors  \\\n",
       "0  arnie mortons of chicago  435 s la cienega blv  los angeles   \n",
       "1  arnie mortons of chicago  435 s la cienega blv  los angeles   \n",
       "2  arnie mortons of chicago  435 s la cienega blv  los angeles   \n",
       "3  arnie mortons of chicago  435 s la cienega blv  los angeles   \n",
       "4  arnie mortons of chicago  435 s la cienega blv  los angeles   \n",
       "\n",
       "      name_zagats                    addr_zagats       city_zagats     score  \\\n",
       "0   apple pan the              10801 w pico blvd           west la  0.052879   \n",
       "1     asahi ramen             2027 sawtelle blvd           west la  0.052149   \n",
       "2      baja fresh                 3345 kimber dr  westlake village  0.000000   \n",
       "3   belvedere the  9882 little santa monica blvd     beverly hills  0.000000   \n",
       "4  benitas frites        1433 third st promenade      santa monica  0.000000   \n",
       "\n",
       "   actual_match  predicted_match  \n",
       "0         False            False  \n",
       "1         False            False  \n",
       "2         False            False  \n",
       "3         False            False  \n",
       "4         False            False  "
      ]
     },
     "metadata": {},
     "output_type": "display_data"
    },
    {
     "name": "stdout",
     "output_type": "stream",
     "text": [
      "\n",
      "FP examples:\n"
     ]
    },
    {
     "data": {
      "application/vnd.microsoft.datawrangler.viewer.v0+json": {
       "columns": [
        {
         "name": "index",
         "rawType": "int64",
         "type": "integer"
        },
        {
         "name": "name_fodors",
         "rawType": "object",
         "type": "string"
        },
        {
         "name": "addr_fodors",
         "rawType": "object",
         "type": "string"
        },
        {
         "name": "city_fodors",
         "rawType": "object",
         "type": "string"
        },
        {
         "name": "name_zagats",
         "rawType": "object",
         "type": "string"
        },
        {
         "name": "addr_zagats",
         "rawType": "object",
         "type": "string"
        },
        {
         "name": "city_zagats",
         "rawType": "object",
         "type": "string"
        },
        {
         "name": "score",
         "rawType": "float64",
         "type": "float"
        },
        {
         "name": "actual_match",
         "rawType": "bool",
         "type": "boolean"
        },
        {
         "name": "predicted_match",
         "rawType": "bool",
         "type": "boolean"
        }
       ],
       "ref": "3e27b546-2ff8-4e15-b966-28f01ac568ee",
       "rows": [
        [
         "0",
         "chins",
         "3200 las vegas blvd s",
         "las vegas",
         "mortons of chicago las vegas",
         "3200 las vegas blvd s",
         "las vegas",
         "0.7506779502635439",
         "False",
         "True"
        ],
        [
         "1",
         "coyote cafe",
         "3799 las vegas blvd s",
         "las vegas",
         "tre visi",
         "3799 las vegas blvd s",
         "las vegas",
         "0.6628367828454671",
         "False",
         "True"
        ],
        [
         "2",
         "cafe ritzcarlton buckhead",
         "3434 peachtree rd",
         "atlanta",
         "ritzcarlton dining room buckhead",
         "3434 peachtree rd ne",
         "atlanta",
         "0.7413678841725604",
         "False",
         "True"
        ],
        [
         "3",
         "dining room ritzcarlton buckhead",
         "3434 peachtree rd",
         "atlanta",
         "ritzcarlton cafe buckhead",
         "3434 peachtree rd ne",
         "atlanta",
         "0.72573175521558",
         "False",
         "True"
        ],
        [
         "4",
         "restaurant ritzcarlton atlanta",
         "181 peachtree st",
         "atlanta",
         "ritzcarlton cafe atlanta",
         "181 peachtree st",
         "atlanta",
         "0.8850109467349248",
         "False",
         "True"
        ]
       ],
       "shape": {
        "columns": 9,
        "rows": 5
       }
      },
      "text/html": [
       "<div>\n",
       "<style scoped>\n",
       "    .dataframe tbody tr th:only-of-type {\n",
       "        vertical-align: middle;\n",
       "    }\n",
       "\n",
       "    .dataframe tbody tr th {\n",
       "        vertical-align: top;\n",
       "    }\n",
       "\n",
       "    .dataframe thead th {\n",
       "        text-align: right;\n",
       "    }\n",
       "</style>\n",
       "<table border=\"1\" class=\"dataframe\">\n",
       "  <thead>\n",
       "    <tr style=\"text-align: right;\">\n",
       "      <th></th>\n",
       "      <th>name_fodors</th>\n",
       "      <th>addr_fodors</th>\n",
       "      <th>city_fodors</th>\n",
       "      <th>name_zagats</th>\n",
       "      <th>addr_zagats</th>\n",
       "      <th>city_zagats</th>\n",
       "      <th>score</th>\n",
       "      <th>actual_match</th>\n",
       "      <th>predicted_match</th>\n",
       "    </tr>\n",
       "  </thead>\n",
       "  <tbody>\n",
       "    <tr>\n",
       "      <th>0</th>\n",
       "      <td>chins</td>\n",
       "      <td>3200 las vegas blvd s</td>\n",
       "      <td>las vegas</td>\n",
       "      <td>mortons of chicago las vegas</td>\n",
       "      <td>3200 las vegas blvd s</td>\n",
       "      <td>las vegas</td>\n",
       "      <td>0.750678</td>\n",
       "      <td>False</td>\n",
       "      <td>True</td>\n",
       "    </tr>\n",
       "    <tr>\n",
       "      <th>1</th>\n",
       "      <td>coyote cafe</td>\n",
       "      <td>3799 las vegas blvd s</td>\n",
       "      <td>las vegas</td>\n",
       "      <td>tre visi</td>\n",
       "      <td>3799 las vegas blvd s</td>\n",
       "      <td>las vegas</td>\n",
       "      <td>0.662837</td>\n",
       "      <td>False</td>\n",
       "      <td>True</td>\n",
       "    </tr>\n",
       "    <tr>\n",
       "      <th>2</th>\n",
       "      <td>cafe ritzcarlton buckhead</td>\n",
       "      <td>3434 peachtree rd</td>\n",
       "      <td>atlanta</td>\n",
       "      <td>ritzcarlton dining room buckhead</td>\n",
       "      <td>3434 peachtree rd ne</td>\n",
       "      <td>atlanta</td>\n",
       "      <td>0.741368</td>\n",
       "      <td>False</td>\n",
       "      <td>True</td>\n",
       "    </tr>\n",
       "    <tr>\n",
       "      <th>3</th>\n",
       "      <td>dining room ritzcarlton buckhead</td>\n",
       "      <td>3434 peachtree rd</td>\n",
       "      <td>atlanta</td>\n",
       "      <td>ritzcarlton cafe buckhead</td>\n",
       "      <td>3434 peachtree rd ne</td>\n",
       "      <td>atlanta</td>\n",
       "      <td>0.725732</td>\n",
       "      <td>False</td>\n",
       "      <td>True</td>\n",
       "    </tr>\n",
       "    <tr>\n",
       "      <th>4</th>\n",
       "      <td>restaurant ritzcarlton atlanta</td>\n",
       "      <td>181 peachtree st</td>\n",
       "      <td>atlanta</td>\n",
       "      <td>ritzcarlton cafe atlanta</td>\n",
       "      <td>181 peachtree st</td>\n",
       "      <td>atlanta</td>\n",
       "      <td>0.885011</td>\n",
       "      <td>False</td>\n",
       "      <td>True</td>\n",
       "    </tr>\n",
       "  </tbody>\n",
       "</table>\n",
       "</div>"
      ],
      "text/plain": [
       "                        name_fodors            addr_fodors city_fodors  \\\n",
       "0                             chins  3200 las vegas blvd s   las vegas   \n",
       "1                       coyote cafe  3799 las vegas blvd s   las vegas   \n",
       "2         cafe ritzcarlton buckhead      3434 peachtree rd     atlanta   \n",
       "3  dining room ritzcarlton buckhead      3434 peachtree rd     atlanta   \n",
       "4    restaurant ritzcarlton atlanta       181 peachtree st     atlanta   \n",
       "\n",
       "                        name_zagats            addr_zagats city_zagats  \\\n",
       "0      mortons of chicago las vegas  3200 las vegas blvd s   las vegas   \n",
       "1                          tre visi  3799 las vegas blvd s   las vegas   \n",
       "2  ritzcarlton dining room buckhead   3434 peachtree rd ne     atlanta   \n",
       "3         ritzcarlton cafe buckhead   3434 peachtree rd ne     atlanta   \n",
       "4          ritzcarlton cafe atlanta       181 peachtree st     atlanta   \n",
       "\n",
       "      score  actual_match  predicted_match  \n",
       "0  0.750678         False             True  \n",
       "1  0.662837         False             True  \n",
       "2  0.741368         False             True  \n",
       "3  0.725732         False             True  \n",
       "4  0.885011         False             True  "
      ]
     },
     "metadata": {},
     "output_type": "display_data"
    },
    {
     "name": "stdout",
     "output_type": "stream",
     "text": [
      "\n",
      "FN examples:\n"
     ]
    },
    {
     "data": {
      "application/vnd.microsoft.datawrangler.viewer.v0+json": {
       "columns": [
        {
         "name": "index",
         "rawType": "int64",
         "type": "integer"
        },
        {
         "name": "name_fodors",
         "rawType": "object",
         "type": "string"
        },
        {
         "name": "addr_fodors",
         "rawType": "object",
         "type": "string"
        },
        {
         "name": "city_fodors",
         "rawType": "object",
         "type": "string"
        },
        {
         "name": "name_zagats",
         "rawType": "object",
         "type": "string"
        },
        {
         "name": "addr_zagats",
         "rawType": "object",
         "type": "string"
        },
        {
         "name": "city_zagats",
         "rawType": "object",
         "type": "string"
        },
        {
         "name": "score",
         "rawType": "float64",
         "type": "float"
        },
        {
         "name": "actual_match",
         "rawType": "bool",
         "type": "boolean"
        },
        {
         "name": "predicted_match",
         "rawType": "bool",
         "type": "boolean"
        }
       ],
       "ref": "b2238163-a681-4fc7-9e38-c61f17edc825",
       "rows": [
        [
         "0",
         "philippes the original",
         "1001 n alameda st",
         "los angeles",
         "philippe the original",
         "1001 n alameda st",
         "chinatown",
         "0.6363145453289764",
         "True",
         "False"
        ],
        [
         "1",
         "spago",
         "1114 horn ave",
         "los angeles",
         "spago los angeles",
         "8795 sunset blvd",
         "w hollywood",
         "0.3591609053461986",
         "True",
         "False"
        ],
        [
         "2",
         "carnegie deli",
         "854 7th ave between 54th and 55th sts",
         "new york",
         "carnegie deli",
         "854 seventh ave",
         "new york city",
         "0.6086401774272145",
         "True",
         "False"
        ],
        [
         "3",
         "les celebrites",
         "160 central park s",
         "new york",
         "les celebrites",
         "155 w 58th st",
         "new york city",
         "0.5394214082967503",
         "True",
         "False"
        ],
        [
         "4",
         "mesa grill",
         "102 5th ave between 15th and 16th sts",
         "new york",
         "mesa grill",
         "102 fifth ave",
         "new york city",
         "0.5583942331140526",
         "True",
         "False"
        ]
       ],
       "shape": {
        "columns": 9,
        "rows": 5
       }
      },
      "text/html": [
       "<div>\n",
       "<style scoped>\n",
       "    .dataframe tbody tr th:only-of-type {\n",
       "        vertical-align: middle;\n",
       "    }\n",
       "\n",
       "    .dataframe tbody tr th {\n",
       "        vertical-align: top;\n",
       "    }\n",
       "\n",
       "    .dataframe thead th {\n",
       "        text-align: right;\n",
       "    }\n",
       "</style>\n",
       "<table border=\"1\" class=\"dataframe\">\n",
       "  <thead>\n",
       "    <tr style=\"text-align: right;\">\n",
       "      <th></th>\n",
       "      <th>name_fodors</th>\n",
       "      <th>addr_fodors</th>\n",
       "      <th>city_fodors</th>\n",
       "      <th>name_zagats</th>\n",
       "      <th>addr_zagats</th>\n",
       "      <th>city_zagats</th>\n",
       "      <th>score</th>\n",
       "      <th>actual_match</th>\n",
       "      <th>predicted_match</th>\n",
       "    </tr>\n",
       "  </thead>\n",
       "  <tbody>\n",
       "    <tr>\n",
       "      <th>0</th>\n",
       "      <td>philippes the original</td>\n",
       "      <td>1001 n alameda st</td>\n",
       "      <td>los angeles</td>\n",
       "      <td>philippe the original</td>\n",
       "      <td>1001 n alameda st</td>\n",
       "      <td>chinatown</td>\n",
       "      <td>0.636315</td>\n",
       "      <td>True</td>\n",
       "      <td>False</td>\n",
       "    </tr>\n",
       "    <tr>\n",
       "      <th>1</th>\n",
       "      <td>spago</td>\n",
       "      <td>1114 horn ave</td>\n",
       "      <td>los angeles</td>\n",
       "      <td>spago los angeles</td>\n",
       "      <td>8795 sunset blvd</td>\n",
       "      <td>w hollywood</td>\n",
       "      <td>0.359161</td>\n",
       "      <td>True</td>\n",
       "      <td>False</td>\n",
       "    </tr>\n",
       "    <tr>\n",
       "      <th>2</th>\n",
       "      <td>carnegie deli</td>\n",
       "      <td>854 7th ave between 54th and 55th sts</td>\n",
       "      <td>new york</td>\n",
       "      <td>carnegie deli</td>\n",
       "      <td>854 seventh ave</td>\n",
       "      <td>new york city</td>\n",
       "      <td>0.608640</td>\n",
       "      <td>True</td>\n",
       "      <td>False</td>\n",
       "    </tr>\n",
       "    <tr>\n",
       "      <th>3</th>\n",
       "      <td>les celebrites</td>\n",
       "      <td>160 central park s</td>\n",
       "      <td>new york</td>\n",
       "      <td>les celebrites</td>\n",
       "      <td>155 w 58th st</td>\n",
       "      <td>new york city</td>\n",
       "      <td>0.539421</td>\n",
       "      <td>True</td>\n",
       "      <td>False</td>\n",
       "    </tr>\n",
       "    <tr>\n",
       "      <th>4</th>\n",
       "      <td>mesa grill</td>\n",
       "      <td>102 5th ave between 15th and 16th sts</td>\n",
       "      <td>new york</td>\n",
       "      <td>mesa grill</td>\n",
       "      <td>102 fifth ave</td>\n",
       "      <td>new york city</td>\n",
       "      <td>0.558394</td>\n",
       "      <td>True</td>\n",
       "      <td>False</td>\n",
       "    </tr>\n",
       "  </tbody>\n",
       "</table>\n",
       "</div>"
      ],
      "text/plain": [
       "              name_fodors                            addr_fodors  city_fodors  \\\n",
       "0  philippes the original                      1001 n alameda st  los angeles   \n",
       "1                   spago                          1114 horn ave  los angeles   \n",
       "2           carnegie deli  854 7th ave between 54th and 55th sts     new york   \n",
       "3          les celebrites                     160 central park s     new york   \n",
       "4              mesa grill  102 5th ave between 15th and 16th sts     new york   \n",
       "\n",
       "             name_zagats        addr_zagats    city_zagats     score  \\\n",
       "0  philippe the original  1001 n alameda st      chinatown  0.636315   \n",
       "1      spago los angeles   8795 sunset blvd    w hollywood  0.359161   \n",
       "2          carnegie deli    854 seventh ave  new york city  0.608640   \n",
       "3         les celebrites      155 w 58th st  new york city  0.539421   \n",
       "4             mesa grill      102 fifth ave  new york city  0.558394   \n",
       "\n",
       "   actual_match  predicted_match  \n",
       "0          True            False  \n",
       "1          True            False  \n",
       "2          True            False  \n",
       "3          True            False  \n",
       "4          True            False  "
      ]
     },
     "metadata": {},
     "output_type": "display_data"
    }
   ],
   "source": [
    "preview_classification_outcomes(tfidf_df, fodors, zagats)"
   ]
  },
  {
   "cell_type": "markdown",
   "id": "c695e159",
   "metadata": {},
   "source": [
    "<!---\n",
    "TODO: Describe findings\n",
    "-->"
   ]
  },
  {
   "cell_type": "markdown",
   "id": "f7c21424",
   "metadata": {},
   "source": [
    "### Method 3: Sentence-BERT Embeddings + Cosine Similarity\n",
    "Sentence-BERT (SBERT) generates embeddings, i.e., dense numerical vectors that capture the semantic meaning of sentences or phrases. Unlike TF-IDF, SBERT embeddings are trained to understand the underlying context and semantics of words and sentences, rather than just word frequency.\n",
    "\n",
    "In our case, we'll use the pre-trained model all-MiniLM-L6-v2 from the sentence-transformers library to encode restaurant records into embeddings. Then, cosine similarity measures how similar two embeddings (records) are by computing the cosine of the angle between them just like for TF-IDF. A cosine similarity close to 1 indicates high semantic similarity (records likely referring to the same entity), while a score close to 0 indicates low similarity."
   ]
  },
  {
   "cell_type": "code",
   "execution_count": 12,
   "id": "d909b646",
   "metadata": {},
   "outputs": [
    {
     "name": "stderr",
     "output_type": "stream",
     "text": [
      "c:\\Users\\48146\\AppData\\Local\\miniforge3\\Lib\\site-packages\\tqdm\\auto.py:21: TqdmWarning: IProgress not found. Please update jupyter and ipywidgets. See https://ipywidgets.readthedocs.io/en/stable/user_install.html\n",
      "  from .autonotebook import tqdm as notebook_tqdm\n"
     ]
    },
    {
     "name": "stdout",
     "output_type": "stream",
     "text": [
      "WARNING:tensorflow:From c:\\Users\\48146\\AppData\\Local\\miniforge3\\Lib\\site-packages\\tf_keras\\src\\losses.py:2976: The name tf.losses.sparse_softmax_cross_entropy is deprecated. Please use tf.compat.v1.losses.sparse_softmax_cross_entropy instead.\n",
      "\n"
     ]
    },
    {
     "name": "stderr",
     "output_type": "stream",
     "text": [
      "Generating SBERT Cosine similarity pairs: 100%|██████████| 533/533 [00:00<00:00, 4981.50it/s]\n",
      "Optimizing SBERT Cosine threshold: 100%|██████████| 50/50 [00:01<00:00, 43.32it/s]"
     ]
    },
    {
     "name": "stdout",
     "output_type": "stream",
     "text": [
      "\n",
      "Sentence-BERT Matching Results:\n",
      "Optimized Threshold: 0.82\n",
      "Precision: 0.93\n",
      "Recall:    0.96\n",
      "F1-Score:  0.94\n",
      "Accuracy:  1.00\n"
     ]
    },
    {
     "name": "stderr",
     "output_type": "stream",
     "text": [
      "\n"
     ]
    }
   ],
   "source": [
    "from sentence_transformers import SentenceTransformer\n",
    "from sklearn.metrics.pairwise import cosine_similarity\n",
    "\n",
    "# Create embedding strings\n",
    "fodors['emb_string'] = 'Name: ' + fodors['name'] + ' | Address: ' + fodors['addr'] + ' | City: ' + fodors['city']\n",
    "zagats['emb_string'] = 'Name: ' + zagats['name'] + ' | Address: ' + zagats['addr'] + ' | City: ' + zagats['city']\n",
    "\n",
    "# Load pre-trained Sentence-BERT model\n",
    "# all-MiniLM-L6-v2 is a smaller, faster model that still provides good performance\n",
    "model = SentenceTransformer('all-MiniLM-L6-v2')\n",
    "\n",
    "# Generate embeddings\n",
    "fodors_embeddings = model.encode(fodors['emb_string'].tolist(), convert_to_tensor=True)\n",
    "zagats_embeddings = model.encode(zagats['emb_string'].tolist(), convert_to_tensor=True)\n",
    "\n",
    "# Compute cosine similarity\n",
    "cosine_sim = cosine_similarity(fodors_embeddings.cpu().numpy(), zagats_embeddings.cpu().numpy())\n",
    "\n",
    "# Reformat similarity matrix into pairs DataFrame\n",
    "fodors_ids = fodors['id'].values\n",
    "zagats_ids = zagats['id'].values\n",
    "\n",
    "pairs = []\n",
    "for i in tqdm(range(len(fodors_ids)), desc='Generating SBERT Cosine similarity pairs'):\n",
    "    for j in range(len(zagats_ids)):\n",
    "        pairs.append({\n",
    "            'fodors_id': fodors_ids[i],\n",
    "            'zagats_id': zagats_ids[j],\n",
    "            'score': cosine_sim[i, j]\n",
    "        })\n",
    "\n",
    "sbert_df = pd.DataFrame(pairs)\n",
    "\n",
    "# Use previously defined function to add ground truth labels\n",
    "sbert_df = add_ground_truth_labels(sbert_df, matches)\n",
    "\n",
    "# Optimize threshold\n",
    "thresholds = np.arange(0.5, 1.0, 0.01)\n",
    "sbert_df, sbert_metrics = optimize_threshold(\n",
    "    sbert_df,\n",
    "    thresholds=thresholds,\n",
    "    desc='Optimizing SBERT Cosine threshold'\n",
    ")\n",
    "\n",
    "# Evaluation metrics clearly presented\n",
    "print(f\"\\nSentence-BERT Matching Results:\")\n",
    "print(f\"Optimized Threshold: {sbert_metrics['best_threshold']:.2f}\")\n",
    "print(f\"Precision: {sbert_metrics['precision']:.2f}\")\n",
    "print(f\"Recall:    {sbert_metrics['recall']:.2f}\")\n",
    "print(f\"F1-Score:  {sbert_metrics['f1_score']:.2f}\")\n",
    "print(f\"Accuracy:  {sbert_metrics['accuracy']:.2f}\")\n"
   ]
  },
  {
   "cell_type": "code",
   "execution_count": 13,
   "id": "83544d24",
   "metadata": {},
   "outputs": [
    {
     "name": "stdout",
     "output_type": "stream",
     "text": [
      "\n",
      "TP examples:\n"
     ]
    },
    {
     "data": {
      "application/vnd.microsoft.datawrangler.viewer.v0+json": {
       "columns": [
        {
         "name": "index",
         "rawType": "int64",
         "type": "integer"
        },
        {
         "name": "name_fodors",
         "rawType": "object",
         "type": "string"
        },
        {
         "name": "addr_fodors",
         "rawType": "object",
         "type": "string"
        },
        {
         "name": "city_fodors",
         "rawType": "object",
         "type": "string"
        },
        {
         "name": "name_zagats",
         "rawType": "object",
         "type": "string"
        },
        {
         "name": "addr_zagats",
         "rawType": "object",
         "type": "string"
        },
        {
         "name": "city_zagats",
         "rawType": "object",
         "type": "string"
        },
        {
         "name": "score",
         "rawType": "float32",
         "type": "float"
        },
        {
         "name": "actual_match",
         "rawType": "bool",
         "type": "boolean"
        },
        {
         "name": "predicted_match",
         "rawType": "bool",
         "type": "boolean"
        }
       ],
       "ref": "37ed89a4-76e4-4e24-aa52-ddda494b4e82",
       "rows": [
        [
         "0",
         "arnie mortons of chicago",
         "435 s la cienega blv",
         "los angeles",
         "arnie mortons of chicago",
         "435 s la cienega blvd",
         "los angeles",
         "0.9887947",
         "True",
         "True"
        ],
        [
         "1",
         "arts delicatessen",
         "12224 ventura blvd",
         "studio city",
         "arts deli",
         "12224 ventura blvd",
         "studio city",
         "0.84525883",
         "True",
         "True"
        ],
        [
         "2",
         "hotel belair",
         "701 stone canyon rd",
         "bel air",
         "belair hotel",
         "701 stone canyon rd",
         "bel air",
         "0.9955352",
         "True",
         "True"
        ],
        [
         "3",
         "cafe bizou",
         "14016 ventura blvd",
         "sherman oaks",
         "cafe bizou",
         "14016 ventura blvd",
         "sherman oaks",
         "1.0000001",
         "True",
         "True"
        ],
        [
         "4",
         "campanile",
         "624 s la brea ave",
         "los angeles",
         "campanile",
         "624 s la brea ave",
         "los angeles",
         "1.0000002",
         "True",
         "True"
        ]
       ],
       "shape": {
        "columns": 9,
        "rows": 5
       }
      },
      "text/html": [
       "<div>\n",
       "<style scoped>\n",
       "    .dataframe tbody tr th:only-of-type {\n",
       "        vertical-align: middle;\n",
       "    }\n",
       "\n",
       "    .dataframe tbody tr th {\n",
       "        vertical-align: top;\n",
       "    }\n",
       "\n",
       "    .dataframe thead th {\n",
       "        text-align: right;\n",
       "    }\n",
       "</style>\n",
       "<table border=\"1\" class=\"dataframe\">\n",
       "  <thead>\n",
       "    <tr style=\"text-align: right;\">\n",
       "      <th></th>\n",
       "      <th>name_fodors</th>\n",
       "      <th>addr_fodors</th>\n",
       "      <th>city_fodors</th>\n",
       "      <th>name_zagats</th>\n",
       "      <th>addr_zagats</th>\n",
       "      <th>city_zagats</th>\n",
       "      <th>score</th>\n",
       "      <th>actual_match</th>\n",
       "      <th>predicted_match</th>\n",
       "    </tr>\n",
       "  </thead>\n",
       "  <tbody>\n",
       "    <tr>\n",
       "      <th>0</th>\n",
       "      <td>arnie mortons of chicago</td>\n",
       "      <td>435 s la cienega blv</td>\n",
       "      <td>los angeles</td>\n",
       "      <td>arnie mortons of chicago</td>\n",
       "      <td>435 s la cienega blvd</td>\n",
       "      <td>los angeles</td>\n",
       "      <td>0.988795</td>\n",
       "      <td>True</td>\n",
       "      <td>True</td>\n",
       "    </tr>\n",
       "    <tr>\n",
       "      <th>1</th>\n",
       "      <td>arts delicatessen</td>\n",
       "      <td>12224 ventura blvd</td>\n",
       "      <td>studio city</td>\n",
       "      <td>arts deli</td>\n",
       "      <td>12224 ventura blvd</td>\n",
       "      <td>studio city</td>\n",
       "      <td>0.845259</td>\n",
       "      <td>True</td>\n",
       "      <td>True</td>\n",
       "    </tr>\n",
       "    <tr>\n",
       "      <th>2</th>\n",
       "      <td>hotel belair</td>\n",
       "      <td>701 stone canyon rd</td>\n",
       "      <td>bel air</td>\n",
       "      <td>belair hotel</td>\n",
       "      <td>701 stone canyon rd</td>\n",
       "      <td>bel air</td>\n",
       "      <td>0.995535</td>\n",
       "      <td>True</td>\n",
       "      <td>True</td>\n",
       "    </tr>\n",
       "    <tr>\n",
       "      <th>3</th>\n",
       "      <td>cafe bizou</td>\n",
       "      <td>14016 ventura blvd</td>\n",
       "      <td>sherman oaks</td>\n",
       "      <td>cafe bizou</td>\n",
       "      <td>14016 ventura blvd</td>\n",
       "      <td>sherman oaks</td>\n",
       "      <td>1.000000</td>\n",
       "      <td>True</td>\n",
       "      <td>True</td>\n",
       "    </tr>\n",
       "    <tr>\n",
       "      <th>4</th>\n",
       "      <td>campanile</td>\n",
       "      <td>624 s la brea ave</td>\n",
       "      <td>los angeles</td>\n",
       "      <td>campanile</td>\n",
       "      <td>624 s la brea ave</td>\n",
       "      <td>los angeles</td>\n",
       "      <td>1.000000</td>\n",
       "      <td>True</td>\n",
       "      <td>True</td>\n",
       "    </tr>\n",
       "  </tbody>\n",
       "</table>\n",
       "</div>"
      ],
      "text/plain": [
       "                name_fodors           addr_fodors   city_fodors  \\\n",
       "0  arnie mortons of chicago  435 s la cienega blv   los angeles   \n",
       "1         arts delicatessen    12224 ventura blvd   studio city   \n",
       "2              hotel belair   701 stone canyon rd       bel air   \n",
       "3                cafe bizou    14016 ventura blvd  sherman oaks   \n",
       "4                 campanile     624 s la brea ave   los angeles   \n",
       "\n",
       "                name_zagats            addr_zagats   city_zagats     score  \\\n",
       "0  arnie mortons of chicago  435 s la cienega blvd   los angeles  0.988795   \n",
       "1                 arts deli     12224 ventura blvd   studio city  0.845259   \n",
       "2              belair hotel    701 stone canyon rd       bel air  0.995535   \n",
       "3                cafe bizou     14016 ventura blvd  sherman oaks  1.000000   \n",
       "4                 campanile      624 s la brea ave   los angeles  1.000000   \n",
       "\n",
       "   actual_match  predicted_match  \n",
       "0          True             True  \n",
       "1          True             True  \n",
       "2          True             True  \n",
       "3          True             True  \n",
       "4          True             True  "
      ]
     },
     "metadata": {},
     "output_type": "display_data"
    },
    {
     "name": "stdout",
     "output_type": "stream",
     "text": [
      "\n",
      "TN examples:\n"
     ]
    },
    {
     "data": {
      "application/vnd.microsoft.datawrangler.viewer.v0+json": {
       "columns": [
        {
         "name": "index",
         "rawType": "int64",
         "type": "integer"
        },
        {
         "name": "name_fodors",
         "rawType": "object",
         "type": "string"
        },
        {
         "name": "addr_fodors",
         "rawType": "object",
         "type": "string"
        },
        {
         "name": "city_fodors",
         "rawType": "object",
         "type": "string"
        },
        {
         "name": "name_zagats",
         "rawType": "object",
         "type": "string"
        },
        {
         "name": "addr_zagats",
         "rawType": "object",
         "type": "string"
        },
        {
         "name": "city_zagats",
         "rawType": "object",
         "type": "string"
        },
        {
         "name": "score",
         "rawType": "float32",
         "type": "float"
        },
        {
         "name": "actual_match",
         "rawType": "bool",
         "type": "boolean"
        },
        {
         "name": "predicted_match",
         "rawType": "bool",
         "type": "boolean"
        }
       ],
       "ref": "aee7bd5b-e24e-44b5-b1f4-d63f113484a7",
       "rows": [
        [
         "0",
         "arnie mortons of chicago",
         "435 s la cienega blv",
         "los angeles",
         "apple pan the",
         "10801 w pico blvd",
         "west la",
         "0.3264925",
         "False",
         "False"
        ],
        [
         "1",
         "arnie mortons of chicago",
         "435 s la cienega blv",
         "los angeles",
         "asahi ramen",
         "2027 sawtelle blvd",
         "west la",
         "0.28031963",
         "False",
         "False"
        ],
        [
         "2",
         "arnie mortons of chicago",
         "435 s la cienega blv",
         "los angeles",
         "baja fresh",
         "3345 kimber dr",
         "westlake village",
         "0.25722688",
         "False",
         "False"
        ],
        [
         "3",
         "arnie mortons of chicago",
         "435 s la cienega blv",
         "los angeles",
         "belvedere the",
         "9882 little santa monica blvd",
         "beverly hills",
         "0.3754502",
         "False",
         "False"
        ],
        [
         "4",
         "arnie mortons of chicago",
         "435 s la cienega blv",
         "los angeles",
         "benitas frites",
         "1433 third st promenade",
         "santa monica",
         "0.32067207",
         "False",
         "False"
        ]
       ],
       "shape": {
        "columns": 9,
        "rows": 5
       }
      },
      "text/html": [
       "<div>\n",
       "<style scoped>\n",
       "    .dataframe tbody tr th:only-of-type {\n",
       "        vertical-align: middle;\n",
       "    }\n",
       "\n",
       "    .dataframe tbody tr th {\n",
       "        vertical-align: top;\n",
       "    }\n",
       "\n",
       "    .dataframe thead th {\n",
       "        text-align: right;\n",
       "    }\n",
       "</style>\n",
       "<table border=\"1\" class=\"dataframe\">\n",
       "  <thead>\n",
       "    <tr style=\"text-align: right;\">\n",
       "      <th></th>\n",
       "      <th>name_fodors</th>\n",
       "      <th>addr_fodors</th>\n",
       "      <th>city_fodors</th>\n",
       "      <th>name_zagats</th>\n",
       "      <th>addr_zagats</th>\n",
       "      <th>city_zagats</th>\n",
       "      <th>score</th>\n",
       "      <th>actual_match</th>\n",
       "      <th>predicted_match</th>\n",
       "    </tr>\n",
       "  </thead>\n",
       "  <tbody>\n",
       "    <tr>\n",
       "      <th>0</th>\n",
       "      <td>arnie mortons of chicago</td>\n",
       "      <td>435 s la cienega blv</td>\n",
       "      <td>los angeles</td>\n",
       "      <td>apple pan the</td>\n",
       "      <td>10801 w pico blvd</td>\n",
       "      <td>west la</td>\n",
       "      <td>0.326492</td>\n",
       "      <td>False</td>\n",
       "      <td>False</td>\n",
       "    </tr>\n",
       "    <tr>\n",
       "      <th>1</th>\n",
       "      <td>arnie mortons of chicago</td>\n",
       "      <td>435 s la cienega blv</td>\n",
       "      <td>los angeles</td>\n",
       "      <td>asahi ramen</td>\n",
       "      <td>2027 sawtelle blvd</td>\n",
       "      <td>west la</td>\n",
       "      <td>0.280320</td>\n",
       "      <td>False</td>\n",
       "      <td>False</td>\n",
       "    </tr>\n",
       "    <tr>\n",
       "      <th>2</th>\n",
       "      <td>arnie mortons of chicago</td>\n",
       "      <td>435 s la cienega blv</td>\n",
       "      <td>los angeles</td>\n",
       "      <td>baja fresh</td>\n",
       "      <td>3345 kimber dr</td>\n",
       "      <td>westlake village</td>\n",
       "      <td>0.257227</td>\n",
       "      <td>False</td>\n",
       "      <td>False</td>\n",
       "    </tr>\n",
       "    <tr>\n",
       "      <th>3</th>\n",
       "      <td>arnie mortons of chicago</td>\n",
       "      <td>435 s la cienega blv</td>\n",
       "      <td>los angeles</td>\n",
       "      <td>belvedere the</td>\n",
       "      <td>9882 little santa monica blvd</td>\n",
       "      <td>beverly hills</td>\n",
       "      <td>0.375450</td>\n",
       "      <td>False</td>\n",
       "      <td>False</td>\n",
       "    </tr>\n",
       "    <tr>\n",
       "      <th>4</th>\n",
       "      <td>arnie mortons of chicago</td>\n",
       "      <td>435 s la cienega blv</td>\n",
       "      <td>los angeles</td>\n",
       "      <td>benitas frites</td>\n",
       "      <td>1433 third st promenade</td>\n",
       "      <td>santa monica</td>\n",
       "      <td>0.320672</td>\n",
       "      <td>False</td>\n",
       "      <td>False</td>\n",
       "    </tr>\n",
       "  </tbody>\n",
       "</table>\n",
       "</div>"
      ],
      "text/plain": [
       "                name_fodors           addr_fodors  city_fodors  \\\n",
       "0  arnie mortons of chicago  435 s la cienega blv  los angeles   \n",
       "1  arnie mortons of chicago  435 s la cienega blv  los angeles   \n",
       "2  arnie mortons of chicago  435 s la cienega blv  los angeles   \n",
       "3  arnie mortons of chicago  435 s la cienega blv  los angeles   \n",
       "4  arnie mortons of chicago  435 s la cienega blv  los angeles   \n",
       "\n",
       "      name_zagats                    addr_zagats       city_zagats     score  \\\n",
       "0   apple pan the              10801 w pico blvd           west la  0.326492   \n",
       "1     asahi ramen             2027 sawtelle blvd           west la  0.280320   \n",
       "2      baja fresh                 3345 kimber dr  westlake village  0.257227   \n",
       "3   belvedere the  9882 little santa monica blvd     beverly hills  0.375450   \n",
       "4  benitas frites        1433 third st promenade      santa monica  0.320672   \n",
       "\n",
       "   actual_match  predicted_match  \n",
       "0         False            False  \n",
       "1         False            False  \n",
       "2         False            False  \n",
       "3         False            False  \n",
       "4         False            False  "
      ]
     },
     "metadata": {},
     "output_type": "display_data"
    },
    {
     "name": "stdout",
     "output_type": "stream",
     "text": [
      "\n",
      "FP examples:\n"
     ]
    },
    {
     "data": {
      "application/vnd.microsoft.datawrangler.viewer.v0+json": {
       "columns": [
        {
         "name": "index",
         "rawType": "int64",
         "type": "integer"
        },
        {
         "name": "name_fodors",
         "rawType": "object",
         "type": "string"
        },
        {
         "name": "addr_fodors",
         "rawType": "object",
         "type": "string"
        },
        {
         "name": "city_fodors",
         "rawType": "object",
         "type": "string"
        },
        {
         "name": "name_zagats",
         "rawType": "object",
         "type": "string"
        },
        {
         "name": "addr_zagats",
         "rawType": "object",
         "type": "string"
        },
        {
         "name": "city_zagats",
         "rawType": "object",
         "type": "string"
        },
        {
         "name": "score",
         "rawType": "float32",
         "type": "float"
        },
        {
         "name": "actual_match",
         "rawType": "bool",
         "type": "boolean"
        },
        {
         "name": "predicted_match",
         "rawType": "bool",
         "type": "boolean"
        }
       ],
       "ref": "4962995e-6704-4c46-8615-26a72775b796",
       "rows": [
        [
         "0",
         "steak house",
         "2880 las vegas blvd s",
         "las vegas",
         "steakhouse the",
         "128 e fremont st",
         "las vegas",
         "0.9133334",
         "False",
         "True"
        ],
        [
         "1",
         "cafe ritzcarlton buckhead",
         "3434 peachtree rd",
         "atlanta",
         "ritzcarlton dining room buckhead",
         "3434 peachtree rd ne",
         "atlanta",
         "0.8908721",
         "False",
         "True"
        ],
        [
         "2",
         "cafe ritzcarlton buckhead",
         "3434 peachtree rd",
         "atlanta",
         "ritzcarlton cafe atlanta",
         "181 peachtree st",
         "atlanta",
         "0.83843386",
         "False",
         "True"
        ],
        [
         "3",
         "dining room ritzcarlton buckhead",
         "3434 peachtree rd",
         "atlanta",
         "ritzcarlton cafe buckhead",
         "3434 peachtree rd ne",
         "atlanta",
         "0.8912041",
         "False",
         "True"
        ],
        [
         "4",
         "restaurant ritzcarlton atlanta",
         "181 peachtree st",
         "atlanta",
         "ritzcarlton cafe atlanta",
         "181 peachtree st",
         "atlanta",
         "0.9279054",
         "False",
         "True"
        ]
       ],
       "shape": {
        "columns": 9,
        "rows": 5
       }
      },
      "text/html": [
       "<div>\n",
       "<style scoped>\n",
       "    .dataframe tbody tr th:only-of-type {\n",
       "        vertical-align: middle;\n",
       "    }\n",
       "\n",
       "    .dataframe tbody tr th {\n",
       "        vertical-align: top;\n",
       "    }\n",
       "\n",
       "    .dataframe thead th {\n",
       "        text-align: right;\n",
       "    }\n",
       "</style>\n",
       "<table border=\"1\" class=\"dataframe\">\n",
       "  <thead>\n",
       "    <tr style=\"text-align: right;\">\n",
       "      <th></th>\n",
       "      <th>name_fodors</th>\n",
       "      <th>addr_fodors</th>\n",
       "      <th>city_fodors</th>\n",
       "      <th>name_zagats</th>\n",
       "      <th>addr_zagats</th>\n",
       "      <th>city_zagats</th>\n",
       "      <th>score</th>\n",
       "      <th>actual_match</th>\n",
       "      <th>predicted_match</th>\n",
       "    </tr>\n",
       "  </thead>\n",
       "  <tbody>\n",
       "    <tr>\n",
       "      <th>0</th>\n",
       "      <td>steak house</td>\n",
       "      <td>2880 las vegas blvd s</td>\n",
       "      <td>las vegas</td>\n",
       "      <td>steakhouse the</td>\n",
       "      <td>128 e fremont st</td>\n",
       "      <td>las vegas</td>\n",
       "      <td>0.913333</td>\n",
       "      <td>False</td>\n",
       "      <td>True</td>\n",
       "    </tr>\n",
       "    <tr>\n",
       "      <th>1</th>\n",
       "      <td>cafe ritzcarlton buckhead</td>\n",
       "      <td>3434 peachtree rd</td>\n",
       "      <td>atlanta</td>\n",
       "      <td>ritzcarlton dining room buckhead</td>\n",
       "      <td>3434 peachtree rd ne</td>\n",
       "      <td>atlanta</td>\n",
       "      <td>0.890872</td>\n",
       "      <td>False</td>\n",
       "      <td>True</td>\n",
       "    </tr>\n",
       "    <tr>\n",
       "      <th>2</th>\n",
       "      <td>cafe ritzcarlton buckhead</td>\n",
       "      <td>3434 peachtree rd</td>\n",
       "      <td>atlanta</td>\n",
       "      <td>ritzcarlton cafe atlanta</td>\n",
       "      <td>181 peachtree st</td>\n",
       "      <td>atlanta</td>\n",
       "      <td>0.838434</td>\n",
       "      <td>False</td>\n",
       "      <td>True</td>\n",
       "    </tr>\n",
       "    <tr>\n",
       "      <th>3</th>\n",
       "      <td>dining room ritzcarlton buckhead</td>\n",
       "      <td>3434 peachtree rd</td>\n",
       "      <td>atlanta</td>\n",
       "      <td>ritzcarlton cafe buckhead</td>\n",
       "      <td>3434 peachtree rd ne</td>\n",
       "      <td>atlanta</td>\n",
       "      <td>0.891204</td>\n",
       "      <td>False</td>\n",
       "      <td>True</td>\n",
       "    </tr>\n",
       "    <tr>\n",
       "      <th>4</th>\n",
       "      <td>restaurant ritzcarlton atlanta</td>\n",
       "      <td>181 peachtree st</td>\n",
       "      <td>atlanta</td>\n",
       "      <td>ritzcarlton cafe atlanta</td>\n",
       "      <td>181 peachtree st</td>\n",
       "      <td>atlanta</td>\n",
       "      <td>0.927905</td>\n",
       "      <td>False</td>\n",
       "      <td>True</td>\n",
       "    </tr>\n",
       "  </tbody>\n",
       "</table>\n",
       "</div>"
      ],
      "text/plain": [
       "                        name_fodors            addr_fodors city_fodors  \\\n",
       "0                       steak house  2880 las vegas blvd s   las vegas   \n",
       "1         cafe ritzcarlton buckhead      3434 peachtree rd     atlanta   \n",
       "2         cafe ritzcarlton buckhead      3434 peachtree rd     atlanta   \n",
       "3  dining room ritzcarlton buckhead      3434 peachtree rd     atlanta   \n",
       "4    restaurant ritzcarlton atlanta       181 peachtree st     atlanta   \n",
       "\n",
       "                        name_zagats           addr_zagats city_zagats  \\\n",
       "0                    steakhouse the      128 e fremont st   las vegas   \n",
       "1  ritzcarlton dining room buckhead  3434 peachtree rd ne     atlanta   \n",
       "2          ritzcarlton cafe atlanta      181 peachtree st     atlanta   \n",
       "3         ritzcarlton cafe buckhead  3434 peachtree rd ne     atlanta   \n",
       "4          ritzcarlton cafe atlanta      181 peachtree st     atlanta   \n",
       "\n",
       "      score  actual_match  predicted_match  \n",
       "0  0.913333         False             True  \n",
       "1  0.890872         False             True  \n",
       "2  0.838434         False             True  \n",
       "3  0.891204         False             True  \n",
       "4  0.927905         False             True  "
      ]
     },
     "metadata": {},
     "output_type": "display_data"
    },
    {
     "name": "stdout",
     "output_type": "stream",
     "text": [
      "\n",
      "FN examples:\n"
     ]
    },
    {
     "data": {
      "application/vnd.microsoft.datawrangler.viewer.v0+json": {
       "columns": [
        {
         "name": "index",
         "rawType": "int64",
         "type": "integer"
        },
        {
         "name": "name_fodors",
         "rawType": "object",
         "type": "string"
        },
        {
         "name": "addr_fodors",
         "rawType": "object",
         "type": "string"
        },
        {
         "name": "city_fodors",
         "rawType": "object",
         "type": "string"
        },
        {
         "name": "name_zagats",
         "rawType": "object",
         "type": "string"
        },
        {
         "name": "addr_zagats",
         "rawType": "object",
         "type": "string"
        },
        {
         "name": "city_zagats",
         "rawType": "object",
         "type": "string"
        },
        {
         "name": "score",
         "rawType": "float32",
         "type": "float"
        },
        {
         "name": "actual_match",
         "rawType": "bool",
         "type": "boolean"
        },
        {
         "name": "predicted_match",
         "rawType": "bool",
         "type": "boolean"
        }
       ],
       "ref": "e686459f-24cf-438b-9a1b-77a4f81e7a34",
       "rows": [
        [
         "0",
         "restaurant katsu",
         "1972 n hillhurst ave",
         "los angeles",
         "katsu",
         "1972 hillhurst ave",
         "los feliz",
         "0.811201",
         "True",
         "False"
        ],
        [
         "1",
         "yujean kangs gourmet chinese cuisine",
         "67 n raymond ave",
         "los angeles",
         "yujean kangs",
         "67 n raymond ave",
         "pasadena",
         "0.77387667",
         "True",
         "False"
        ],
        [
         "2",
         "four seasons grill room",
         "99 e 52nd st",
         "new york",
         "four seasons",
         "99 e 52nd st",
         "new york city",
         "0.7947913",
         "True",
         "False"
        ],
        [
         "3",
         "shun lee west",
         "43 w 65th st",
         "new york",
         "shun lee palace",
         "155 e 55th st",
         "new york city",
         "0.7483101",
         "True",
         "False"
        ],
        [
         "4",
         "mifune japan center kintetsu building",
         "1737 post st",
         "san francisco",
         "mifune",
         "1737 post st",
         "san francisco",
         "0.70528454",
         "True",
         "False"
        ]
       ],
       "shape": {
        "columns": 9,
        "rows": 5
       }
      },
      "text/html": [
       "<div>\n",
       "<style scoped>\n",
       "    .dataframe tbody tr th:only-of-type {\n",
       "        vertical-align: middle;\n",
       "    }\n",
       "\n",
       "    .dataframe tbody tr th {\n",
       "        vertical-align: top;\n",
       "    }\n",
       "\n",
       "    .dataframe thead th {\n",
       "        text-align: right;\n",
       "    }\n",
       "</style>\n",
       "<table border=\"1\" class=\"dataframe\">\n",
       "  <thead>\n",
       "    <tr style=\"text-align: right;\">\n",
       "      <th></th>\n",
       "      <th>name_fodors</th>\n",
       "      <th>addr_fodors</th>\n",
       "      <th>city_fodors</th>\n",
       "      <th>name_zagats</th>\n",
       "      <th>addr_zagats</th>\n",
       "      <th>city_zagats</th>\n",
       "      <th>score</th>\n",
       "      <th>actual_match</th>\n",
       "      <th>predicted_match</th>\n",
       "    </tr>\n",
       "  </thead>\n",
       "  <tbody>\n",
       "    <tr>\n",
       "      <th>0</th>\n",
       "      <td>restaurant katsu</td>\n",
       "      <td>1972 n hillhurst ave</td>\n",
       "      <td>los angeles</td>\n",
       "      <td>katsu</td>\n",
       "      <td>1972 hillhurst ave</td>\n",
       "      <td>los feliz</td>\n",
       "      <td>0.811201</td>\n",
       "      <td>True</td>\n",
       "      <td>False</td>\n",
       "    </tr>\n",
       "    <tr>\n",
       "      <th>1</th>\n",
       "      <td>yujean kangs gourmet chinese cuisine</td>\n",
       "      <td>67 n raymond ave</td>\n",
       "      <td>los angeles</td>\n",
       "      <td>yujean kangs</td>\n",
       "      <td>67 n raymond ave</td>\n",
       "      <td>pasadena</td>\n",
       "      <td>0.773877</td>\n",
       "      <td>True</td>\n",
       "      <td>False</td>\n",
       "    </tr>\n",
       "    <tr>\n",
       "      <th>2</th>\n",
       "      <td>four seasons grill room</td>\n",
       "      <td>99 e 52nd st</td>\n",
       "      <td>new york</td>\n",
       "      <td>four seasons</td>\n",
       "      <td>99 e 52nd st</td>\n",
       "      <td>new york city</td>\n",
       "      <td>0.794791</td>\n",
       "      <td>True</td>\n",
       "      <td>False</td>\n",
       "    </tr>\n",
       "    <tr>\n",
       "      <th>3</th>\n",
       "      <td>shun lee west</td>\n",
       "      <td>43 w 65th st</td>\n",
       "      <td>new york</td>\n",
       "      <td>shun lee palace</td>\n",
       "      <td>155 e 55th st</td>\n",
       "      <td>new york city</td>\n",
       "      <td>0.748310</td>\n",
       "      <td>True</td>\n",
       "      <td>False</td>\n",
       "    </tr>\n",
       "    <tr>\n",
       "      <th>4</th>\n",
       "      <td>mifune japan center kintetsu building</td>\n",
       "      <td>1737 post st</td>\n",
       "      <td>san francisco</td>\n",
       "      <td>mifune</td>\n",
       "      <td>1737 post st</td>\n",
       "      <td>san francisco</td>\n",
       "      <td>0.705285</td>\n",
       "      <td>True</td>\n",
       "      <td>False</td>\n",
       "    </tr>\n",
       "  </tbody>\n",
       "</table>\n",
       "</div>"
      ],
      "text/plain": [
       "                             name_fodors           addr_fodors    city_fodors  \\\n",
       "0                       restaurant katsu  1972 n hillhurst ave    los angeles   \n",
       "1   yujean kangs gourmet chinese cuisine      67 n raymond ave    los angeles   \n",
       "2                four seasons grill room          99 e 52nd st       new york   \n",
       "3                          shun lee west          43 w 65th st       new york   \n",
       "4  mifune japan center kintetsu building          1737 post st  san francisco   \n",
       "\n",
       "       name_zagats         addr_zagats    city_zagats     score  actual_match  \\\n",
       "0            katsu  1972 hillhurst ave      los feliz  0.811201          True   \n",
       "1     yujean kangs    67 n raymond ave       pasadena  0.773877          True   \n",
       "2     four seasons        99 e 52nd st  new york city  0.794791          True   \n",
       "3  shun lee palace       155 e 55th st  new york city  0.748310          True   \n",
       "4           mifune        1737 post st  san francisco  0.705285          True   \n",
       "\n",
       "   predicted_match  \n",
       "0            False  \n",
       "1            False  \n",
       "2            False  \n",
       "3            False  \n",
       "4            False  "
      ]
     },
     "metadata": {},
     "output_type": "display_data"
    }
   ],
   "source": [
    "preview_classification_outcomes(sbert_df, fodors, zagats)\n"
   ]
  },
  {
   "cell_type": "markdown",
   "id": "3c0bf6fe",
   "metadata": {},
   "source": [
    "<!---\n",
    "TODO: Describe findings\n",
    "-->"
   ]
  },
  {
   "cell_type": "markdown",
   "id": "765bff8c",
   "metadata": {},
   "source": [
    "### Method 4: LLM Matching\n",
    "Large language models are capable of \"understanding\" and comparing textual information based on semantic context and meaning. Unlike previous methods we evaluated (fuzzy matching, TF-IDF, and Sentence-BERT), LLMs directly evaluate whether two records describe the same entity by interpreting the textual descriptions provided.\n",
    "\n",
    "In this approach, we will prompt multiple models developed by OpenAI via API, giving them pairs of restaurant records and asking explicitly if they refer to the same restaurant. Each model differs by the number of parameters, resulting in different cost and execution time.\n",
    "\n",
    "We will evaluate four GPT models—gpt-4.1, gpt-4.1-mini, gpt-4.1-nano, and o4-mini—on a balanced sample of 100 restaurant record pairs (50 matched, 50 unmatched). We will limit the sample size due to the API's cost and response times. Our goal is to see whether any models will be able to match or surpass the performance of previously evaluated methods within a reasonable budget and time."
   ]
  },
  {
   "cell_type": "code",
   "execution_count": 30,
   "id": "52278fb5",
   "metadata": {},
   "outputs": [
    {
     "name": "stdout",
     "output_type": "stream",
     "text": [
      "\n",
      "\n",
      "Evaluating gpt-4.1...\n",
      "\n"
     ]
    },
    {
     "name": "stderr",
     "output_type": "stream",
     "text": [
      "gpt-4.1 Matching: 100%|██████████| 100/100 [00:19<00:00,  5.15it/s]\n"
     ]
    },
    {
     "name": "stdout",
     "output_type": "stream",
     "text": [
      "\n",
      "gpt-4.1 Results:\n",
      "Precision: 1.00\n",
      "Recall:    0.96\n",
      "F1-Score:  0.98\n",
      "Accuracy:  0.98\n",
      "Total tokens used: 10305 (Input: 10205, Output: 100)\n",
      "Total cost: $0.0212\n",
      "Total execution time: 95.94 seconds\n",
      "\n",
      "\n",
      "Evaluating gpt-4.1-mini...\n",
      "\n"
     ]
    },
    {
     "name": "stderr",
     "output_type": "stream",
     "text": [
      "gpt-4.1-mini Matching: 100%|██████████| 100/100 [00:27<00:00,  3.69it/s]\n"
     ]
    },
    {
     "name": "stdout",
     "output_type": "stream",
     "text": [
      "\n",
      "gpt-4.1-mini Results:\n",
      "Precision: 1.00\n",
      "Recall:    0.90\n",
      "F1-Score:  0.95\n",
      "Accuracy:  0.95\n",
      "Total tokens used: 10305 (Input: 10205, Output: 100)\n",
      "Total cost: $0.0042\n",
      "Total execution time: 116.27 seconds\n",
      "\n",
      "\n",
      "Evaluating gpt-4.1-nano...\n",
      "\n"
     ]
    },
    {
     "name": "stderr",
     "output_type": "stream",
     "text": [
      "gpt-4.1-nano Matching: 100%|██████████| 100/100 [00:21<00:00,  4.59it/s]\n"
     ]
    },
    {
     "name": "stdout",
     "output_type": "stream",
     "text": [
      "\n",
      "gpt-4.1-nano Results:\n",
      "Precision: 1.00\n",
      "Recall:    0.74\n",
      "F1-Score:  0.85\n",
      "Accuracy:  0.87\n",
      "Total tokens used: 10305 (Input: 10205, Output: 100)\n",
      "Total cost: $0.0011\n",
      "Total execution time: 84.44 seconds\n",
      "\n",
      "\n",
      "Evaluating o4-mini...\n",
      "\n"
     ]
    },
    {
     "name": "stderr",
     "output_type": "stream",
     "text": [
      "o4-mini Matching: 100%|██████████| 100/100 [01:03<00:00,  1.57it/s]"
     ]
    },
    {
     "name": "stdout",
     "output_type": "stream",
     "text": [
      "\n",
      "o4-mini Results:\n",
      "Precision: 1.00\n",
      "Recall:    0.94\n",
      "F1-Score:  0.97\n",
      "Accuracy:  0.97\n",
      "Total tokens used: 20133 (Input: 10105, Output: 10028)\n",
      "Total cost: $0.0552\n",
      "Total execution time: 304.23 seconds\n",
      "\n",
      "\n",
      "Summary of Model Performance:\n",
      "          model  precision  recall        f1  accuracy  total_cost  \\\n",
      "0       gpt-4.1        1.0    0.96  0.979592      0.98    0.021210   \n",
      "1  gpt-4.1-mini        1.0    0.90  0.947368      0.95    0.004242   \n",
      "2  gpt-4.1-nano        1.0    0.74  0.850575      0.87    0.001061   \n",
      "3       o4-mini        1.0    0.94  0.969072      0.97    0.055239   \n",
      "\n",
      "   execution_time_sec  \n",
      "0           95.943556  \n",
      "1          116.272427  \n",
      "2           84.439587  \n",
      "3          304.226042  \n"
     ]
    },
    {
     "name": "stderr",
     "output_type": "stream",
     "text": [
      "\n"
     ]
    }
   ],
   "source": [
    "import time\n",
    "import os\n",
    "from dotenv import load_dotenv\n",
    "from openai import OpenAI\n",
    "from concurrent.futures import ThreadPoolExecutor, as_completed\n",
    "\n",
    "# Load environment variables from .env to get the API key\n",
    "load_dotenv()\n",
    "API_KEY = os.getenv(\"OPENAI_API_KEY\")\n",
    "if not API_KEY:\n",
    "    raise EnvironmentError(\"Environment variable 'OPENAI_API_KEY' is not set.\")\n",
    "\n",
    "# Initialize OpenAI client using the API key\n",
    "client = OpenAI(api_key=API_KEY)\n",
    "\n",
    "# Define models to test and their costs per 1M tokens\n",
    "# https://platform.openai.com/docs/pricing\n",
    "MODEL_CONFIGS = {\n",
    "    \"gpt-4.1\": {\"in_cost\": 2, \"out_cost\": 8},\n",
    "    \"gpt-4.1-mini\": {\"in_cost\": 0.4, \"out_cost\": 1.6},\n",
    "    \"gpt-4.1-nano\": {\"in_cost\": 0.1, \"out_cost\": 0.4},\n",
    "    \"o4-mini\": {\"in_cost\": 1.1, \"out_cost\": 4.4},\n",
    "}\n",
    "\n",
    "# Matching function querying models\n",
    "def llm_match(fodor_record, zagat_record, model):\n",
    "    prompt = f\"\"\"\n",
    "    Restaurant 1:\n",
    "    Name: {fodor_record['name']}\n",
    "    Address: {fodor_record['addr']}\n",
    "    City: {fodor_record['city']}\n",
    "\n",
    "    Restaurant 2:\n",
    "    Name: {zagat_record['name']}\n",
    "    Address: {zagat_record['addr']}\n",
    "    City: {zagat_record['city']}\n",
    "    \"\"\"\n",
    "\n",
    "    messages = [\n",
    "        {\"role\": \"system\", \"content\": \"You are an intelligent entity-matching system tasked with determining if two records refer to the same restaurant. Answer ONLY 'Yes' or 'No'.\"},\n",
    "        {\"role\": \"user\", \"content\": prompt},\n",
    "    ]\n",
    "\n",
    "    start_time = time.time()\n",
    "    try:\n",
    "        response = client.chat.completions.create(\n",
    "            model=model,\n",
    "            messages=messages,\n",
    "            temperature=0.0 if model.startswith('gpt-') else 1,  # Limit randomness with temperature = 0 for GPT models; o4-mini only supports temperature = 1\n",
    "            max_completion_tokens=5 if model.startswith('gpt-') else None, # Limit output to a single word for GPT models; o4-mini needs more because of its reasoning feature\n",
    "        )\n",
    "        elapsed_time = time.time() - start_time\n",
    "        answer = response.choices[0].message.content.strip().lower()\n",
    "        usage = response.usage\n",
    "        tokens_in = usage.prompt_tokens\n",
    "        tokens_out = usage.completion_tokens\n",
    "        costs = MODEL_CONFIGS[model]\n",
    "        cost = (tokens_in / 1_000_000 * costs['in_cost']) + (tokens_out / 1_000_000 * costs['out_cost'])\n",
    "\n",
    "        return {\n",
    "            'predicted_match': answer == 'yes',\n",
    "            'tokens_in': tokens_in,\n",
    "            'tokens_out': tokens_out,\n",
    "            'cost': cost,\n",
    "            'elapsed_time': elapsed_time\n",
    "        }\n",
    "    except Exception as e:\n",
    "        print(f\"API call failed: {e}\")\n",
    "        return {\n",
    "            'predicted_match': False,\n",
    "            'tokens_in': 0,\n",
    "            'tokens_out': 0,\n",
    "            'cost': 0,\n",
    "            'elapsed_time': None\n",
    "        }\n",
    "\n",
    "# Prepare evaluation data (50 true matches, 50 false matches)\n",
    "positive_samples = matches.sample(n=50, random_state=42).assign(actual_match=True)\n",
    "negative_samples = pd.DataFrame({\n",
    "    'fodors_id': fodors.sample(n=50, random_state=1).id.values,\n",
    "    'zagats_id': zagats.sample(n=50, random_state=2).id.values,\n",
    "    'actual_match': False\n",
    "})\n",
    "sampled_pairs = pd.concat([positive_samples, negative_samples], ignore_index=True)\n",
    "\n",
    "# Function to evaluate a given model\n",
    "def evaluate_model(model_name):\n",
    "    print(f\"\\n\\nEvaluating {model_name}...\\n\")\n",
    "\n",
    "    results = []\n",
    "    total_cost = total_tokens_in = total_tokens_out = total_time = 0\n",
    "\n",
    "    with ThreadPoolExecutor(max_workers=5) as executor:\n",
    "        future_to_row = {\n",
    "            executor.submit(\n",
    "                llm_match,\n",
    "                fodors.loc[fodors['id'] == row['fodors_id']].iloc[0],\n",
    "                zagats.loc[zagats['id'] == row['zagats_id']].iloc[0],\n",
    "                model_name\n",
    "            ): idx\n",
    "            for idx, row in sampled_pairs.iterrows()\n",
    "        }\n",
    "\n",
    "        for future in tqdm(as_completed(future_to_row), total=len(sampled_pairs), desc=f\"{model_name} Matching\"):\n",
    "            idx = future_to_row[future]\n",
    "            result = future.result()\n",
    "            results.append({\n",
    "                'fodors_id': sampled_pairs.loc[idx, 'fodors_id'],\n",
    "                'zagats_id': sampled_pairs.loc[idx, 'zagats_id'],\n",
    "                'actual_match': sampled_pairs.loc[idx, 'actual_match'],\n",
    "                'predicted_match': result['predicted_match']\n",
    "            })\n",
    "            total_cost += result['cost']\n",
    "            total_tokens_in += result['tokens_in']\n",
    "            total_tokens_out += result['tokens_out']\n",
    "            total_time += result['elapsed_time'] if result['elapsed_time'] else 0\n",
    "\n",
    "    results_df = pd.DataFrame(results)\n",
    "\n",
    "    # Compute metrics\n",
    "    precision = precision_score(results_df['actual_match'], results_df['predicted_match'])\n",
    "    recall = recall_score(results_df['actual_match'], results_df['predicted_match'])\n",
    "    f1 = f1_score(results_df['actual_match'], results_df['predicted_match'])\n",
    "    accuracy = accuracy_score(results_df['actual_match'], results_df['predicted_match'])\n",
    "\n",
    "    metrics = {\n",
    "        'model': model_name,\n",
    "        'precision': precision,\n",
    "        'recall': recall,\n",
    "        'f1': f1,\n",
    "        'accuracy': accuracy,\n",
    "        'tokens_in': total_tokens_in,\n",
    "        'tokens_out': total_tokens_out,\n",
    "        'total_cost': total_cost,\n",
    "        'execution_time_sec': total_time\n",
    "    }\n",
    "\n",
    "    print(f\"\\n{model_name} Results:\")\n",
    "    print(f\"Precision: {precision:.2f}\")\n",
    "    print(f\"Recall:    {recall:.2f}\")\n",
    "    print(f\"F1-Score:  {f1:.2f}\")\n",
    "    print(f\"Accuracy:  {accuracy:.2f}\")\n",
    "    print(f\"Total tokens used: {total_tokens_in + total_tokens_out} (Input: {total_tokens_in}, Output: {total_tokens_out})\")\n",
    "    print(f\"Total cost: ${total_cost:.4f}\")\n",
    "    print(f\"Total execution time: {total_time:.2f} seconds\")\n",
    "\n",
    "    return metrics\n",
    "\n",
    "# Evaluate all models\n",
    "all_results = []\n",
    "for model_name in MODEL_CONFIGS.keys():\n",
    "    metrics = evaluate_model(model_name)\n",
    "    all_results.append(metrics)\n",
    "\n",
    "# Summarize results\n",
    "summary_df = pd.DataFrame(all_results)\n",
    "print(\"\\n\\nSummary of Model Performance:\")\n",
    "print(summary_df[['model', 'precision', 'recall', 'f1', 'accuracy', 'total_cost', 'execution_time_sec']])\n"
   ]
  },
  {
   "cell_type": "markdown",
   "id": "0d96a6a1",
   "metadata": {},
   "source": [
    "All models achieved perfect precision (1.00), meaning there were no false positives. However, recall varied significantly: gpt-4.1 had the highest recall (0.96), followed by o4-mini (0.94), gpt-4.1-mini (0.90), and gpt-4.1-nano (0.74). Consequently, gpt-4.1 delivered the highest F1-score (0.98) and accuracy (0.98).\n",
    "\n",
    "In terms of cost-efficiency, gpt-4.1-nano was the cheapest ($0.0011), while o4-mini was the most expensive ($0.0552) due to its significantly higher output tokens usage caused by the reasoning tokens. Execution times ranged from 84 seconds (gpt-4.1-nano) to over 304 seconds (o4-mini - again, caused by extra time spent on reasoning).\n",
    "\n",
    "Overall, gpt-4.1 provides the best balance between accuracy, recall, and reasonable execution speed, while gpt-4.1-mini offers a strong alternative at roughly one-fifth of the cost, though with slightly lower recall. gpt-4.1-nano stands out for cost-saving but sacrifices significant recall, limiting its practical use for high-stakes matching. While o4-mini achieved the second best F1-score, the extra cost and time associated don't justify its usage in this scenario."
   ]
  },
  {
   "cell_type": "markdown",
   "id": "48321c26",
   "metadata": {},
   "source": [
    "### Method 5: Supervised Machine Learning Classifier\n"
   ]
  },
  {
   "cell_type": "markdown",
   "id": "9cb9898a",
   "metadata": {},
   "source": []
  },
  {
   "cell_type": "code",
   "execution_count": 31,
   "id": "090a974b",
   "metadata": {},
   "outputs": [
    {
     "name": "stdout",
     "output_type": "stream",
     "text": [
      "\n",
      "ML Classifier Matching Results:\n",
      "Precision: 1.00\n",
      "Recall:    1.00\n",
      "F1-Score:  1.00\n",
      "Accuracy:  1.00\n"
     ]
    }
   ],
   "source": [
    "from sklearn.linear_model import LogisticRegression\n",
    "from sklearn.model_selection import train_test_split\n",
    "from fuzzywuzzy import fuzz\n",
    "\n",
    "# Prepare labeled dataset (balanced)\n",
    "matched_pairs = matches.copy()\n",
    "matched_pairs['actual_match'] = True\n",
    "\n",
    "# Generate negative samples (non-matches)\n",
    "np.random.seed(42)\n",
    "non_matches = []\n",
    "while len(non_matches) < len(matched_pairs):\n",
    "    f_sample = fodors.sample(1).iloc[0]\n",
    "    z_sample = zagats.sample(1).iloc[0]\n",
    "    if not ((matches['fodors_id'] == f_sample['id']) & (matches['zagats_id'] == z_sample['id'])).any():\n",
    "        non_matches.append({\n",
    "            'fodors_id': f_sample['id'], \n",
    "            'zagats_id': z_sample['id'], \n",
    "            'actual_match': False\n",
    "        })\n",
    "\n",
    "non_matched_pairs = pd.DataFrame(non_matches)\n",
    "\n",
    "# Combine matched and unmatched pairs\n",
    "all_pairs = pd.concat([matched_pairs, non_matched_pairs], ignore_index=True)\n",
    "\n",
    "# Feature engineering function\n",
    "def compute_features(row):\n",
    "    f = fodors.loc[fodors['id'] == row['fodors_id']].iloc[0]\n",
    "    z = zagats.loc[zagats['id'] == row['zagats_id']].iloc[0]\n",
    "    return pd.Series({\n",
    "        'name_similarity': fuzz.token_set_ratio(f['name'], z['name']),\n",
    "        'address_similarity': fuzz.token_set_ratio(f['addr'], z['addr']),\n",
    "        'city_similarity': fuzz.token_set_ratio(f['city'], z['city'])\n",
    "    })\n",
    "\n",
    "# Compute similarity features\n",
    "features = all_pairs.apply(compute_features, axis=1)\n",
    "labels = all_pairs['actual_match']\n",
    "\n",
    "# Train-test split\n",
    "X_train, X_test, y_train, y_test = train_test_split(\n",
    "    features, labels, test_size=0.3, random_state=42\n",
    ")\n",
    "\n",
    "# Train logistic regression classifier\n",
    "clf = LogisticRegression(random_state=42)\n",
    "clf.fit(X_train, y_train)\n",
    "\n",
    "# Make predictions\n",
    "y_pred = clf.predict(X_test)\n",
    "\n",
    "# Evaluate performance\n",
    "precision = precision_score(y_test, y_pred)\n",
    "recall = recall_score(y_test, y_pred)\n",
    "f1 = f1_score(y_test, y_pred)\n",
    "accuracy = accuracy_score(y_test, y_pred)\n",
    "\n",
    "print(f\"\\nML Classifier Matching Results:\")\n",
    "print(f\"Precision: {precision:.2f}\")\n",
    "print(f\"Recall:    {recall:.2f}\")\n",
    "print(f\"F1-Score:  {f1:.2f}\")\n",
    "print(f\"Accuracy:  {accuracy:.2f}\")\n",
    "\n",
    "# For consistency, construct the results DataFrame clearly\n",
    "results_df = X_test.copy()\n",
    "results_df['actual_match'] = y_test.values\n",
    "results_df['predicted_match'] = y_pred\n",
    "\n",
    "# Add fodors_id and zagats_id back to results_df for preview function\n",
    "results_df['fodors_id'] = all_pairs.iloc[X_test.index]['fodors_id'].values\n",
    "results_df['zagats_id'] = all_pairs.iloc[X_test.index]['zagats_id'].values\n"
   ]
  },
  {
   "cell_type": "markdown",
   "id": "c39773d6",
   "metadata": {},
   "source": [
    "### Comparative Evaluation\n"
   ]
  },
  {
   "cell_type": "markdown",
   "id": "3ede6c71",
   "metadata": {},
   "source": [
    "### Conclusion\n"
   ]
  },
  {
   "cell_type": "markdown",
   "id": "0cd85f60",
   "metadata": {},
   "source": []
  }
 ],
 "metadata": {
  "kernelspec": {
   "display_name": "base",
   "language": "python",
   "name": "python3"
  },
  "language_info": {
   "codemirror_mode": {
    "name": "ipython",
    "version": 3
   },
   "file_extension": ".py",
   "mimetype": "text/x-python",
   "name": "python",
   "nbconvert_exporter": "python",
   "pygments_lexer": "ipython3",
   "version": "3.12.8"
  }
 },
 "nbformat": 4,
 "nbformat_minor": 5
}
