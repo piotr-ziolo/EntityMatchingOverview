{
 "cells": [
  {
   "cell_type": "markdown",
   "id": "da1bb726",
   "metadata": {},
   "source": [
    "# Entity Matching Overview\n",
    "### Final Project for Kodołamacz's Data Science Bootcamp\n",
    "Author: Piotr Zioło"
   ]
  },
  {
   "cell_type": "markdown",
   "id": "0ec90cce",
   "metadata": {},
   "source": [
    "### Introduction\n",
    "Entity matching (also known as record linkage) is the process of identifying which records in two or more datasets refer to the same real-world entity. High-quality entity matching allows organizations to consolidate information, eliminate duplicates, and gain a unified view of their data. Entity matching can be especially important in scenarios such as merging two lists of businesses from different CRMs of companies undergoing a merging process.\n",
    "\n",
    "In this project, we focus on matching restaurant entities from two restaurant guides: Fodor's and Zagat's. The goal is to determine which entries from the Fodor's restaurant list correspond to the same establishments in the Zagat's list. Since the two sources may use slightly different names, address formats, or phone number conventions for the same restaurant, simple joins on these fields would not guarantee accurate results. Thus, we will compare multiple more advanced approaches to entity matching:\n",
    "- Fuzzy String Matching – using string similarity (e.g. Levenshtein distance) primarily on textual fields like name.\n",
    "- TF–IDF + Cosine Similarity – treating restaurant records as documents and measuring cosine similarity of TF-IDF feature vectors.\n",
    "- Transformer Embeddings + Cosine – using pre-trained language model embeddings (Sentence-BERT) for each record and measuring vector cosine similarity.\n",
    "- Large Language Model – leveraging am LLM via API to semantically compare and decide if two descriptions refer to the same restaurant.\n",
    "- Supervised Machine Learning – training a classifier on labeled matching/non-matching record pairs, using multiple features (text similarity scores, etc.).\n",
    "\n",
    "We will evaluate each method on accuracy, precision, recall, and F1-score for identifying matches. We will also compare their runtime performance, scalability, and cost. By the end, we should understand which approach works best for this scenario and what the considerations are for deploying each at scale."
   ]
  },
  {
   "cell_type": "markdown",
   "id": "af8d501f",
   "metadata": {},
   "source": [
    "### Dataset Overview\n",
    "The Fodor's–Zagat's restaurant dataset is a dataset designed to serve as a benchmark for entity matching evaluations. It was put together by Anna Primpeli and Christian Bizer of University of Mannheim in Germany.\n",
    "\n",
    "It consists of two lists of restaurants, one from Fodor's (533 entries) and one from Zagat's (331 entries). Each restaurant has the following attributes:\n",
    "- id (a unique identifier in each data source)\n",
    "- name\n",
    "- addr\n",
    "- city\n",
    "- phone\n",
    "- type (cuisine/category of restaurant)\n",
    "\n",
    "In addition to the two source lists, there is a gold standard file that indicates which Fodor's and Zagat's records refer to the same real-world restaurant. It includes 112 matching pairs (true matches) and 488 non-matching pairs (true negatives) that have been manually annotated.\n",
    "\n",
    "The original dataset is available through the Linkage Library (University of Michigan ICPSR) under the project “Restaurants (Fodors-Zagats), Augmented Version, Fixed Splits (ICPSR 127242)”: https://linkagelibrary.icpsr.umich.edu/linkagelibrary/project/127242/version/V1/view?path=/linkagelibrary/127242/fcr:versions/V1/restaurants_-Fodors-Zagats-&type=folder#tab-dataDocs. For the ease of use, all files used in the analysis have been included in the repository."
   ]
  },
  {
   "cell_type": "markdown",
   "id": "6cc82ff6",
   "metadata": {},
   "source": [
    "### Data Loading and Preprocessing\n"
   ]
  },
  {
   "cell_type": "code",
   "execution_count": 44,
   "id": "5fbd7daa",
   "metadata": {},
   "outputs": [
    {
     "name": "stdout",
     "output_type": "stream",
     "text": [
      "Fodor's preview: 533 rows, 6 columns\n",
      "    id                       name                    addr          city  \\\n",
      "0  534  arnie morton's of chicago  435 s. la cienega blv.   los angeles   \n",
      "1  535         art's delicatessen     12224 ventura blvd.   studio city   \n",
      "2  536              hotel bel-air    701 stone canyon rd.       bel air   \n",
      "3  537                 cafe bizou     14016 ventura blvd.  sherman oaks   \n",
      "4  538                  campanile     624 s. la brea ave.   los angeles   \n",
      "\n",
      "          phone         type  \n",
      "0  310/246-1501     american  \n",
      "1  818/762-1221     american  \n",
      "2  310/472-1211  californian  \n",
      "3  818/788-3536       french  \n",
      "4  213/938-1447     american  \n",
      "\n",
      "Zagat's preview: 331 rows, 6 columns\n",
      "   id             name                            addr              city  \\\n",
      "0   1   apple pan  the             10801 w. pico blvd.           west la   \n",
      "1   2      asahi ramen             2027 sawtelle blvd.           west la   \n",
      "2   3       baja fresh                 3345 kimber dr.  westlake village   \n",
      "3   4   belvedere  the  9882 little santa monica blvd.     beverly hills   \n",
      "4   5  benita's frites        1433 third st. promenade      santa monica   \n",
      "\n",
      "          phone              type  \n",
      "0  310-475-3585          american  \n",
      "1  310-479-2231      noodle shops  \n",
      "2  805-498-4049           mexican  \n",
      "3  310-788-2306  pacific new wave  \n",
      "4  310-458-2889         fast food  \n",
      "\n",
      "Matches preview: 112 rows, 2 columns\n",
      "   fodors_id  zagats_id\n",
      "0        534        219\n",
      "1        535        220\n",
      "2        536        221\n",
      "3        537        222\n",
      "4        538        223\n",
      "\n"
     ]
    }
   ],
   "source": [
    "import pandas as pd\n",
    "\n",
    "# Load datasets\n",
    "fodors = pd.read_csv(\n",
    "    'data/fodors.csv', \n",
    "    # index_col=0, # Leave id column as a regular column to simplify merging\n",
    "    usecols=lambda x: x != 'class', # Exclude 'class' column which is irrelevant to the analysis\n",
    "    quotechar=\"'\", # Ensure apostrophes are properly interpreted\n",
    "    escapechar='\\\\'\n",
    ")\n",
    "\n",
    "zagats = pd.read_csv(\n",
    "    'data/zagats.csv',\n",
    "    # index_col=0, \n",
    "    usecols=lambda x: x != 'class',\n",
    "    quotechar=\"'\",\n",
    "    escapechar='\\\\'\n",
    ")\n",
    "\n",
    "matches = pd.read_csv('data/matches_fodors_zagats.csv')\n",
    "\n",
    "print(f\"Fodor's preview: {fodors.shape[0] } rows, {fodors.shape[1]} columns\")\n",
    "print(fodors.head(5))\n",
    "print()\n",
    "\n",
    "print(f\"Zagat's preview: {zagats.shape[0] } rows, {zagats.shape[1]} columns\")\n",
    "print(zagats.head(5))\n",
    "print()\n",
    "\n",
    "print(f\"Matches preview: {matches.shape[0] } rows, {matches.shape[1]} columns\")\n",
    "print(matches.head(5))\n",
    "print()\n"
   ]
  },
  {
   "cell_type": "code",
   "execution_count": 45,
   "id": "cabb4efb",
   "metadata": {},
   "outputs": [],
   "source": [
    "# Clean and standardize string fields \n",
    "# to ensure consistency and improve the effectiveness of similarity algorithms\n",
    "def preprocess(df, columns):\n",
    "    df = df.copy()\n",
    "    for col in columns:\n",
    "        df[col] = (\n",
    "            df[col].astype(str) # Ensure all values are strings\n",
    "                   .str.lower() # Convert to lowercase\n",
    "                   .str.replace(r'[^a-z0-9\\s]', '', regex=True) # Remove special characters\n",
    "                   .str.replace(r'\\s+', ' ', regex=True) # Replace multiple spaces with a single space\n",
    "                   .str.strip() # Remove leading/trailing whitespace\n",
    "        )\n",
    "    return df\n",
    "\n",
    "columns_to_preprocess = ['name', 'addr', 'city', 'type']\n",
    "\n",
    "fodors = preprocess(fodors, columns_to_preprocess)\n",
    "zagats = preprocess(zagats, columns_to_preprocess)"
   ]
  },
  {
   "cell_type": "markdown",
   "id": "8beb11bd",
   "metadata": {},
   "source": [
    "### Method 0: Regular joins\n",
    "How many restaurants would get matched if we naively use exact matches of names, address, and city?"
   ]
  },
  {
   "cell_type": "code",
   "execution_count": 46,
   "id": "621df5cf",
   "metadata": {},
   "outputs": [
    {
     "name": "stdout",
     "output_type": "stream",
     "text": [
      "Total exact matches found: 26\n",
      "Matches present in gold standard: 26\n",
      "Matches NOT present in gold standard: 0\n"
     ]
    }
   ],
   "source": [
    "# Perform the exact match join\n",
    "matched_df = fodors.merge(\n",
    "    zagats,\n",
    "    on=['name', 'addr', 'city'],\n",
    "    how='inner',\n",
    "    suffixes=('_fodors', '_zagats')\n",
    ")\n",
    "\n",
    "# Check against gold standard matches\n",
    "matched_df['in_gold_standard'] = matched_df.apply(\n",
    "    lambda row: ((matches['fodors_id'] == row['id_fodors']) & \n",
    "                 (matches['zagats_id'] == row['id_zagats'])).any(), axis=1\n",
    ")\n",
    "\n",
    "# Summarize the results\n",
    "total_matched = len(matched_df)\n",
    "matched_in_gold = matched_df['in_gold_standard'].sum()\n",
    "\n",
    "print(f\"Total exact matches found: {total_matched}\")\n",
    "print(f\"Matches present in gold standard: {matched_in_gold}\")\n",
    "print(f\"Matches NOT present in gold standard: {total_matched - matched_in_gold}\")"
   ]
  },
  {
   "cell_type": "markdown",
   "id": "5be22d1e",
   "metadata": {},
   "source": [
    "With regular joins, we would only find 26 matches out of all 112 verified matches (23% of all). Thus, searching for a more efficient method that would take small discrepancies into account is desirable."
   ]
  },
  {
   "cell_type": "markdown",
   "id": "2c964c0b",
   "metadata": {},
   "source": [
    "### Method 1a: Fuzzy Matching with Levenshtein distance\n",
    "Fuzzy matching is a text-matching technique used to identify similar strings by directly comparing their textual similarity, even if they are not exactly identical. It relies purely on character-level or token-level string comparisons.\n",
    "\n",
    "First, we'll use Levenshtein distance which measures the minimum number of single-character edits (insertions, deletions, substitutions) needed to convert one string into another.\n",
    "\n",
    "Levenshtein distance directly compares the strings character-by-character without accounting for token ordering or semantic similarity. Thus, it's sensitive to word order, length differences, and spelling variations."
   ]
  },
  {
   "cell_type": "code",
   "execution_count": 74,
   "id": "46c1ce34",
   "metadata": {},
   "outputs": [],
   "source": [
    "# Create reusable functions for fuzzy matching\n",
    "\n",
    "import numpy as np\n",
    "import pandas as pd\n",
    "from tqdm import tqdm\n",
    "from sklearn.metrics import precision_score, recall_score, f1_score, accuracy_score\n",
    "\n",
    "# Generate matching pairs with a customizable similarity function\n",
    "def generate_matching_pairs(df1, df2, similarity_func, cols=['name', 'addr', 'city'], desc='Generating pairs'):\n",
    "    pairs = []\n",
    "    for i, row1 in tqdm(df1.iterrows(), total=len(df1), desc=desc):\n",
    "        for j, row2 in df2.iterrows():\n",
    "            scores = [similarity_func(row1[col], row2[col]) for col in cols]\n",
    "            avg_score = np.mean(scores)\n",
    "            pairs.append({\n",
    "                'fodors_id': row1['id'],\n",
    "                'zagats_id': row2['id'],\n",
    "                'score': avg_score\n",
    "            })\n",
    "    return pd.DataFrame(pairs)\n",
    "\n",
    "# Add ground truth labels to dataframe\n",
    "def add_ground_truth_labels(df, matches_df):\n",
    "    match_set = set(zip(matches_df['fodors_id'], matches_df['zagats_id']))\n",
    "    df['actual_match'] = df.apply(\n",
    "        lambda row: (row['fodors_id'], row['zagats_id']) in match_set,\n",
    "        axis=1\n",
    "    )\n",
    "    return df\n",
    "\n",
    "# Optimize threshold for the best F1-score\n",
    "def optimize_threshold(df, thresholds=np.arange(60, 100, 1), desc=\"Optimizing threshold\"):\n",
    "    best_f1, best_threshold = 0, 0\n",
    "    for threshold in tqdm(thresholds, desc=desc):\n",
    "        df['predicted_match'] = df['score'] >= threshold\n",
    "        f1 = f1_score(df['actual_match'], df['predicted_match'])\n",
    "        if f1 > best_f1:\n",
    "            best_f1, best_threshold = f1, threshold\n",
    "    \n",
    "    df['predicted_match'] = df['score'] >= best_threshold\n",
    "    precision = precision_score(df['actual_match'], df['predicted_match'])\n",
    "    recall = recall_score(df['actual_match'], df['predicted_match'])\n",
    "    accuracy = accuracy_score(df['actual_match'], df['predicted_match'])\n",
    "\n",
    "    metrics = {\n",
    "        'best_threshold': best_threshold,\n",
    "        'precision': precision,\n",
    "        'recall': recall,\n",
    "        'f1_score': best_f1,\n",
    "        'accuracy': accuracy\n",
    "    }\n",
    "\n",
    "    return df, metrics\n",
    "\n",
    "# View results\n",
    "def preview_classification_outcomes(df, fodors, zagats, num_samples=5):\n",
    "    # Define classification outcomes\n",
    "    conditions = [\n",
    "        (df['actual_match'] == True) & (df['predicted_match'] == True),\n",
    "        (df['actual_match'] == False) & (df['predicted_match'] == False),\n",
    "        (df['actual_match'] == False) & (df['predicted_match'] == True),\n",
    "        (df['actual_match'] == True) & (df['predicted_match'] == False),\n",
    "    ]\n",
    "    outcomes = ['TP', 'TN', 'FP', 'FN']\n",
    "    df['classification'] = np.select(conditions, outcomes)\n",
    "\n",
    "    # Preview each classification outcome\n",
    "    for outcome in outcomes:\n",
    "        subset = df[df['classification'] == outcome].head(num_samples)\n",
    "        merged_df = subset.merge(fodors, left_on='fodors_id', right_on='id', suffixes=('', '_fodors')) \\\n",
    "                          .merge(zagats, left_on='zagats_id', right_on='id', suffixes=('_fodors', '_zagats'))\n",
    "\n",
    "        display_cols = [\n",
    "            'name_fodors', 'addr_fodors', 'city_fodors',\n",
    "            'name_zagats', 'addr_zagats', 'city_zagats',\n",
    "            'score', 'actual_match', 'predicted_match'\n",
    "        ]\n",
    "        print(f\"\\n{outcome} examples:\")\n",
    "        display(merged_df[display_cols])\n"
   ]
  },
  {
   "cell_type": "code",
   "execution_count": 66,
   "id": "eeeac376",
   "metadata": {},
   "outputs": [
    {
     "name": "stderr",
     "output_type": "stream",
     "text": [
      "Levenshtein scoring: 100%|██████████| 533/533 [00:13<00:00, 38.98it/s]\n"
     ]
    },
    {
     "name": "stdout",
     "output_type": "stream",
     "text": [
      "\n",
      "Levenshtein pairs preview: 176423 rows, 4 columns\n",
      "   fodors_id  zagats_id      score  actual_match\n",
      "0        534          1  24.393939         False\n",
      "1        534          2  20.227273         False\n",
      "2        534          3  20.138889         False\n",
      "3        534          4  21.028588         False\n",
      "4        534          5  19.746377         False\n"
     ]
    },
    {
     "name": "stderr",
     "output_type": "stream",
     "text": [
      "Optimizing Levenshtein threshold: 100%|██████████| 40/40 [00:01<00:00, 39.76it/s]\n"
     ]
    },
    {
     "name": "stdout",
     "output_type": "stream",
     "text": [
      "\n",
      "Optimized Levenshtein Threshold: 78\n",
      "Levenshtein Matching Results:\n",
      "Precision: 0.97\n",
      "Recall:    0.69\n",
      "F1-Score:  0.81\n",
      "Accuracy:  1.00\n"
     ]
    }
   ],
   "source": [
    "from Levenshtein import distance as levenshtein_distance\n",
    "\n",
    "# Normalized Levenshtein similarity\n",
    "def normalized_levenshtein(s1, s2):\n",
    "    dist = levenshtein_distance(s1, s2)\n",
    "    max_len = max(len(s1), len(s2))\n",
    "    if max_len == 0:\n",
    "        return 100\n",
    "    return 100 * (1 - dist / max_len)\n",
    "\n",
    "# Generate pairs\n",
    "lev_df = generate_matching_pairs(\n",
    "    fodors, zagats,\n",
    "    similarity_func=normalized_levenshtein,\n",
    "    desc='Levenshtein scoring'\n",
    ")\n",
    "\n",
    "# Add ground truth labels\n",
    "lev_df = add_ground_truth_labels(lev_df, matches)\n",
    "\n",
    "print(f\"\\nLevenshtein pairs preview: {lev_df.shape[0]} rows, {lev_df.shape[1]} columns\")\n",
    "print(lev_df.head())\n",
    "\n",
    "# Optimize threshold\n",
    "lev_df, lev_metrics = optimize_threshold(\n",
    "    lev_df,\n",
    "    thresholds=np.arange(60, 100, 1),\n",
    "    desc=\"Optimizing Levenshtein threshold\"\n",
    ")\n",
    "\n",
    "# Results\n",
    "print(f\"\\nOptimized Levenshtein Threshold: {lev_metrics['best_threshold']}\")\n",
    "print(\"Levenshtein Matching Results:\")\n",
    "print(f\"Precision: {lev_metrics['precision']:.2f}\")\n",
    "print(f\"Recall:    {lev_metrics['recall']:.2f}\")\n",
    "print(f\"F1-Score:  {lev_metrics['f1_score']:.2f}\")\n",
    "print(f\"Accuracy:  {lev_metrics['accuracy']:.2f}\")\n"
   ]
  },
  {
   "cell_type": "code",
   "execution_count": 75,
   "id": "432f1f0f",
   "metadata": {},
   "outputs": [
    {
     "name": "stdout",
     "output_type": "stream",
     "text": [
      "\n",
      "TP examples:\n"
     ]
    },
    {
     "data": {
      "application/vnd.microsoft.datawrangler.viewer.v0+json": {
       "columns": [
        {
         "name": "index",
         "rawType": "int64",
         "type": "integer"
        },
        {
         "name": "name_fodors",
         "rawType": "object",
         "type": "string"
        },
        {
         "name": "addr_fodors",
         "rawType": "object",
         "type": "string"
        },
        {
         "name": "city_fodors",
         "rawType": "object",
         "type": "string"
        },
        {
         "name": "name_zagats",
         "rawType": "object",
         "type": "string"
        },
        {
         "name": "addr_zagats",
         "rawType": "object",
         "type": "string"
        },
        {
         "name": "city_zagats",
         "rawType": "object",
         "type": "string"
        },
        {
         "name": "score",
         "rawType": "float64",
         "type": "float"
        },
        {
         "name": "actual_match",
         "rawType": "bool",
         "type": "boolean"
        },
        {
         "name": "predicted_match",
         "rawType": "bool",
         "type": "boolean"
        }
       ],
       "conversionMethod": "pd.DataFrame",
       "ref": "2e2ee531-513a-4ac9-aa87-60db88e77b83",
       "rows": [
        [
         "0",
         "arnie mortons of chicago",
         "435 s la cienega blv",
         "los angeles",
         "arnie mortons of chicago",
         "435 s la cienega blvd",
         "los angeles",
         "98.41269841269842",
         "True",
         "True"
        ],
        [
         "1",
         "arts delicatessen",
         "12224 ventura blvd",
         "studio city",
         "arts deli",
         "12224 ventura blvd",
         "studio city",
         "84.31372549019608",
         "True",
         "True"
        ],
        [
         "2",
         "cafe bizou",
         "14016 ventura blvd",
         "sherman oaks",
         "cafe bizou",
         "14016 ventura blvd",
         "sherman oaks",
         "100.0",
         "True",
         "True"
        ],
        [
         "3",
         "campanile",
         "624 s la brea ave",
         "los angeles",
         "campanile",
         "624 s la brea ave",
         "los angeles",
         "100.0",
         "True",
         "True"
        ],
        [
         "4",
         "chinois on main",
         "2709 main st",
         "santa monica",
         "chinois on main",
         "2709 main st",
         "santa monica",
         "100.0",
         "True",
         "True"
        ]
       ],
       "shape": {
        "columns": 9,
        "rows": 5
       }
      },
      "text/html": [
       "<div>\n",
       "<style scoped>\n",
       "    .dataframe tbody tr th:only-of-type {\n",
       "        vertical-align: middle;\n",
       "    }\n",
       "\n",
       "    .dataframe tbody tr th {\n",
       "        vertical-align: top;\n",
       "    }\n",
       "\n",
       "    .dataframe thead th {\n",
       "        text-align: right;\n",
       "    }\n",
       "</style>\n",
       "<table border=\"1\" class=\"dataframe\">\n",
       "  <thead>\n",
       "    <tr style=\"text-align: right;\">\n",
       "      <th></th>\n",
       "      <th>name_fodors</th>\n",
       "      <th>addr_fodors</th>\n",
       "      <th>city_fodors</th>\n",
       "      <th>name_zagats</th>\n",
       "      <th>addr_zagats</th>\n",
       "      <th>city_zagats</th>\n",
       "      <th>score</th>\n",
       "      <th>actual_match</th>\n",
       "      <th>predicted_match</th>\n",
       "    </tr>\n",
       "  </thead>\n",
       "  <tbody>\n",
       "    <tr>\n",
       "      <th>0</th>\n",
       "      <td>arnie mortons of chicago</td>\n",
       "      <td>435 s la cienega blv</td>\n",
       "      <td>los angeles</td>\n",
       "      <td>arnie mortons of chicago</td>\n",
       "      <td>435 s la cienega blvd</td>\n",
       "      <td>los angeles</td>\n",
       "      <td>98.412698</td>\n",
       "      <td>True</td>\n",
       "      <td>True</td>\n",
       "    </tr>\n",
       "    <tr>\n",
       "      <th>1</th>\n",
       "      <td>arts delicatessen</td>\n",
       "      <td>12224 ventura blvd</td>\n",
       "      <td>studio city</td>\n",
       "      <td>arts deli</td>\n",
       "      <td>12224 ventura blvd</td>\n",
       "      <td>studio city</td>\n",
       "      <td>84.313725</td>\n",
       "      <td>True</td>\n",
       "      <td>True</td>\n",
       "    </tr>\n",
       "    <tr>\n",
       "      <th>2</th>\n",
       "      <td>cafe bizou</td>\n",
       "      <td>14016 ventura blvd</td>\n",
       "      <td>sherman oaks</td>\n",
       "      <td>cafe bizou</td>\n",
       "      <td>14016 ventura blvd</td>\n",
       "      <td>sherman oaks</td>\n",
       "      <td>100.000000</td>\n",
       "      <td>True</td>\n",
       "      <td>True</td>\n",
       "    </tr>\n",
       "    <tr>\n",
       "      <th>3</th>\n",
       "      <td>campanile</td>\n",
       "      <td>624 s la brea ave</td>\n",
       "      <td>los angeles</td>\n",
       "      <td>campanile</td>\n",
       "      <td>624 s la brea ave</td>\n",
       "      <td>los angeles</td>\n",
       "      <td>100.000000</td>\n",
       "      <td>True</td>\n",
       "      <td>True</td>\n",
       "    </tr>\n",
       "    <tr>\n",
       "      <th>4</th>\n",
       "      <td>chinois on main</td>\n",
       "      <td>2709 main st</td>\n",
       "      <td>santa monica</td>\n",
       "      <td>chinois on main</td>\n",
       "      <td>2709 main st</td>\n",
       "      <td>santa monica</td>\n",
       "      <td>100.000000</td>\n",
       "      <td>True</td>\n",
       "      <td>True</td>\n",
       "    </tr>\n",
       "  </tbody>\n",
       "</table>\n",
       "</div>"
      ],
      "text/plain": [
       "                name_fodors           addr_fodors   city_fodors  \\\n",
       "0  arnie mortons of chicago  435 s la cienega blv   los angeles   \n",
       "1         arts delicatessen    12224 ventura blvd   studio city   \n",
       "2                cafe bizou    14016 ventura blvd  sherman oaks   \n",
       "3                 campanile     624 s la brea ave   los angeles   \n",
       "4           chinois on main          2709 main st  santa monica   \n",
       "\n",
       "                name_zagats            addr_zagats   city_zagats       score  \\\n",
       "0  arnie mortons of chicago  435 s la cienega blvd   los angeles   98.412698   \n",
       "1                 arts deli     12224 ventura blvd   studio city   84.313725   \n",
       "2                cafe bizou     14016 ventura blvd  sherman oaks  100.000000   \n",
       "3                 campanile      624 s la brea ave   los angeles  100.000000   \n",
       "4           chinois on main           2709 main st  santa monica  100.000000   \n",
       "\n",
       "   actual_match  predicted_match  \n",
       "0          True             True  \n",
       "1          True             True  \n",
       "2          True             True  \n",
       "3          True             True  \n",
       "4          True             True  "
      ]
     },
     "metadata": {},
     "output_type": "display_data"
    },
    {
     "name": "stdout",
     "output_type": "stream",
     "text": [
      "\n",
      "TN examples:\n"
     ]
    },
    {
     "data": {
      "application/vnd.microsoft.datawrangler.viewer.v0+json": {
       "columns": [
        {
         "name": "index",
         "rawType": "int64",
         "type": "integer"
        },
        {
         "name": "name_fodors",
         "rawType": "object",
         "type": "string"
        },
        {
         "name": "addr_fodors",
         "rawType": "object",
         "type": "string"
        },
        {
         "name": "city_fodors",
         "rawType": "object",
         "type": "string"
        },
        {
         "name": "name_zagats",
         "rawType": "object",
         "type": "string"
        },
        {
         "name": "addr_zagats",
         "rawType": "object",
         "type": "string"
        },
        {
         "name": "city_zagats",
         "rawType": "object",
         "type": "string"
        },
        {
         "name": "score",
         "rawType": "float64",
         "type": "float"
        },
        {
         "name": "actual_match",
         "rawType": "bool",
         "type": "boolean"
        },
        {
         "name": "predicted_match",
         "rawType": "bool",
         "type": "boolean"
        }
       ],
       "conversionMethod": "pd.DataFrame",
       "ref": "86ecc372-ef46-445e-83da-f9ff975c656a",
       "rows": [
        [
         "0",
         "arnie mortons of chicago",
         "435 s la cienega blv",
         "los angeles",
         "apple pan the",
         "10801 w pico blvd",
         "west la",
         "24.39393939393939",
         "False",
         "False"
        ],
        [
         "1",
         "arnie mortons of chicago",
         "435 s la cienega blv",
         "los angeles",
         "asahi ramen",
         "2027 sawtelle blvd",
         "west la",
         "20.227272727272723",
         "False",
         "False"
        ],
        [
         "2",
         "arnie mortons of chicago",
         "435 s la cienega blv",
         "los angeles",
         "baja fresh",
         "3345 kimber dr",
         "westlake village",
         "20.13888888888889",
         "False",
         "False"
        ],
        [
         "3",
         "arnie mortons of chicago",
         "435 s la cienega blv",
         "los angeles",
         "belvedere the",
         "9882 little santa monica blvd",
         "beverly hills",
         "21.028588269967578",
         "False",
         "False"
        ],
        [
         "4",
         "arnie mortons of chicago",
         "435 s la cienega blv",
         "los angeles",
         "benitas frites",
         "1433 third st promenade",
         "santa monica",
         "19.7463768115942",
         "False",
         "False"
        ]
       ],
       "shape": {
        "columns": 9,
        "rows": 5
       }
      },
      "text/html": [
       "<div>\n",
       "<style scoped>\n",
       "    .dataframe tbody tr th:only-of-type {\n",
       "        vertical-align: middle;\n",
       "    }\n",
       "\n",
       "    .dataframe tbody tr th {\n",
       "        vertical-align: top;\n",
       "    }\n",
       "\n",
       "    .dataframe thead th {\n",
       "        text-align: right;\n",
       "    }\n",
       "</style>\n",
       "<table border=\"1\" class=\"dataframe\">\n",
       "  <thead>\n",
       "    <tr style=\"text-align: right;\">\n",
       "      <th></th>\n",
       "      <th>name_fodors</th>\n",
       "      <th>addr_fodors</th>\n",
       "      <th>city_fodors</th>\n",
       "      <th>name_zagats</th>\n",
       "      <th>addr_zagats</th>\n",
       "      <th>city_zagats</th>\n",
       "      <th>score</th>\n",
       "      <th>actual_match</th>\n",
       "      <th>predicted_match</th>\n",
       "    </tr>\n",
       "  </thead>\n",
       "  <tbody>\n",
       "    <tr>\n",
       "      <th>0</th>\n",
       "      <td>arnie mortons of chicago</td>\n",
       "      <td>435 s la cienega blv</td>\n",
       "      <td>los angeles</td>\n",
       "      <td>apple pan the</td>\n",
       "      <td>10801 w pico blvd</td>\n",
       "      <td>west la</td>\n",
       "      <td>24.393939</td>\n",
       "      <td>False</td>\n",
       "      <td>False</td>\n",
       "    </tr>\n",
       "    <tr>\n",
       "      <th>1</th>\n",
       "      <td>arnie mortons of chicago</td>\n",
       "      <td>435 s la cienega blv</td>\n",
       "      <td>los angeles</td>\n",
       "      <td>asahi ramen</td>\n",
       "      <td>2027 sawtelle blvd</td>\n",
       "      <td>west la</td>\n",
       "      <td>20.227273</td>\n",
       "      <td>False</td>\n",
       "      <td>False</td>\n",
       "    </tr>\n",
       "    <tr>\n",
       "      <th>2</th>\n",
       "      <td>arnie mortons of chicago</td>\n",
       "      <td>435 s la cienega blv</td>\n",
       "      <td>los angeles</td>\n",
       "      <td>baja fresh</td>\n",
       "      <td>3345 kimber dr</td>\n",
       "      <td>westlake village</td>\n",
       "      <td>20.138889</td>\n",
       "      <td>False</td>\n",
       "      <td>False</td>\n",
       "    </tr>\n",
       "    <tr>\n",
       "      <th>3</th>\n",
       "      <td>arnie mortons of chicago</td>\n",
       "      <td>435 s la cienega blv</td>\n",
       "      <td>los angeles</td>\n",
       "      <td>belvedere the</td>\n",
       "      <td>9882 little santa monica blvd</td>\n",
       "      <td>beverly hills</td>\n",
       "      <td>21.028588</td>\n",
       "      <td>False</td>\n",
       "      <td>False</td>\n",
       "    </tr>\n",
       "    <tr>\n",
       "      <th>4</th>\n",
       "      <td>arnie mortons of chicago</td>\n",
       "      <td>435 s la cienega blv</td>\n",
       "      <td>los angeles</td>\n",
       "      <td>benitas frites</td>\n",
       "      <td>1433 third st promenade</td>\n",
       "      <td>santa monica</td>\n",
       "      <td>19.746377</td>\n",
       "      <td>False</td>\n",
       "      <td>False</td>\n",
       "    </tr>\n",
       "  </tbody>\n",
       "</table>\n",
       "</div>"
      ],
      "text/plain": [
       "                name_fodors           addr_fodors  city_fodors  \\\n",
       "0  arnie mortons of chicago  435 s la cienega blv  los angeles   \n",
       "1  arnie mortons of chicago  435 s la cienega blv  los angeles   \n",
       "2  arnie mortons of chicago  435 s la cienega blv  los angeles   \n",
       "3  arnie mortons of chicago  435 s la cienega blv  los angeles   \n",
       "4  arnie mortons of chicago  435 s la cienega blv  los angeles   \n",
       "\n",
       "      name_zagats                    addr_zagats       city_zagats      score  \\\n",
       "0   apple pan the              10801 w pico blvd           west la  24.393939   \n",
       "1     asahi ramen             2027 sawtelle blvd           west la  20.227273   \n",
       "2      baja fresh                 3345 kimber dr  westlake village  20.138889   \n",
       "3   belvedere the  9882 little santa monica blvd     beverly hills  21.028588   \n",
       "4  benitas frites        1433 third st promenade      santa monica  19.746377   \n",
       "\n",
       "   actual_match  predicted_match  \n",
       "0         False            False  \n",
       "1         False            False  \n",
       "2         False            False  \n",
       "3         False            False  \n",
       "4         False            False  "
      ]
     },
     "metadata": {},
     "output_type": "display_data"
    },
    {
     "name": "stdout",
     "output_type": "stream",
     "text": [
      "\n",
      "FP examples:\n"
     ]
    },
    {
     "data": {
      "application/vnd.microsoft.datawrangler.viewer.v0+json": {
       "columns": [
        {
         "name": "index",
         "rawType": "int64",
         "type": "integer"
        },
        {
         "name": "name_fodors",
         "rawType": "object",
         "type": "string"
        },
        {
         "name": "addr_fodors",
         "rawType": "object",
         "type": "string"
        },
        {
         "name": "city_fodors",
         "rawType": "object",
         "type": "string"
        },
        {
         "name": "name_zagats",
         "rawType": "object",
         "type": "string"
        },
        {
         "name": "addr_zagats",
         "rawType": "object",
         "type": "string"
        },
        {
         "name": "city_zagats",
         "rawType": "object",
         "type": "string"
        },
        {
         "name": "score",
         "rawType": "float64",
         "type": "float"
        },
        {
         "name": "actual_match",
         "rawType": "bool",
         "type": "boolean"
        },
        {
         "name": "predicted_match",
         "rawType": "bool",
         "type": "boolean"
        }
       ],
       "conversionMethod": "pd.DataFrame",
       "ref": "3ca17b31-1387-4963-b54d-1b4fe9eafd69",
       "rows": [
        [
         "0",
         "restaurant ritzcarlton atlanta",
         "181 peachtree st",
         "atlanta",
         "ritzcarlton cafe atlanta",
         "181 peachtree st",
         "atlanta",
         "82.22222222222221",
         "False",
         "True"
        ],
        [
         "1",
         "empress court",
         "3570 las vegas blvd s",
         "las vegas",
         "palace court",
         "3570 las vegas blvd s",
         "las vegas",
         "82.05128205128206",
         "False",
         "True"
        ]
       ],
       "shape": {
        "columns": 9,
        "rows": 2
       }
      },
      "text/html": [
       "<div>\n",
       "<style scoped>\n",
       "    .dataframe tbody tr th:only-of-type {\n",
       "        vertical-align: middle;\n",
       "    }\n",
       "\n",
       "    .dataframe tbody tr th {\n",
       "        vertical-align: top;\n",
       "    }\n",
       "\n",
       "    .dataframe thead th {\n",
       "        text-align: right;\n",
       "    }\n",
       "</style>\n",
       "<table border=\"1\" class=\"dataframe\">\n",
       "  <thead>\n",
       "    <tr style=\"text-align: right;\">\n",
       "      <th></th>\n",
       "      <th>name_fodors</th>\n",
       "      <th>addr_fodors</th>\n",
       "      <th>city_fodors</th>\n",
       "      <th>name_zagats</th>\n",
       "      <th>addr_zagats</th>\n",
       "      <th>city_zagats</th>\n",
       "      <th>score</th>\n",
       "      <th>actual_match</th>\n",
       "      <th>predicted_match</th>\n",
       "    </tr>\n",
       "  </thead>\n",
       "  <tbody>\n",
       "    <tr>\n",
       "      <th>0</th>\n",
       "      <td>restaurant ritzcarlton atlanta</td>\n",
       "      <td>181 peachtree st</td>\n",
       "      <td>atlanta</td>\n",
       "      <td>ritzcarlton cafe atlanta</td>\n",
       "      <td>181 peachtree st</td>\n",
       "      <td>atlanta</td>\n",
       "      <td>82.222222</td>\n",
       "      <td>False</td>\n",
       "      <td>True</td>\n",
       "    </tr>\n",
       "    <tr>\n",
       "      <th>1</th>\n",
       "      <td>empress court</td>\n",
       "      <td>3570 las vegas blvd s</td>\n",
       "      <td>las vegas</td>\n",
       "      <td>palace court</td>\n",
       "      <td>3570 las vegas blvd s</td>\n",
       "      <td>las vegas</td>\n",
       "      <td>82.051282</td>\n",
       "      <td>False</td>\n",
       "      <td>True</td>\n",
       "    </tr>\n",
       "  </tbody>\n",
       "</table>\n",
       "</div>"
      ],
      "text/plain": [
       "                      name_fodors            addr_fodors city_fodors  \\\n",
       "0  restaurant ritzcarlton atlanta       181 peachtree st     atlanta   \n",
       "1                   empress court  3570 las vegas blvd s   las vegas   \n",
       "\n",
       "                name_zagats            addr_zagats city_zagats      score  \\\n",
       "0  ritzcarlton cafe atlanta       181 peachtree st     atlanta  82.222222   \n",
       "1              palace court  3570 las vegas blvd s   las vegas  82.051282   \n",
       "\n",
       "   actual_match  predicted_match  \n",
       "0         False             True  \n",
       "1         False             True  "
      ]
     },
     "metadata": {},
     "output_type": "display_data"
    },
    {
     "name": "stdout",
     "output_type": "stream",
     "text": [
      "\n",
      "FN examples:\n"
     ]
    },
    {
     "data": {
      "application/vnd.microsoft.datawrangler.viewer.v0+json": {
       "columns": [
        {
         "name": "index",
         "rawType": "int64",
         "type": "integer"
        },
        {
         "name": "name_fodors",
         "rawType": "object",
         "type": "string"
        },
        {
         "name": "addr_fodors",
         "rawType": "object",
         "type": "string"
        },
        {
         "name": "city_fodors",
         "rawType": "object",
         "type": "string"
        },
        {
         "name": "name_zagats",
         "rawType": "object",
         "type": "string"
        },
        {
         "name": "addr_zagats",
         "rawType": "object",
         "type": "string"
        },
        {
         "name": "city_zagats",
         "rawType": "object",
         "type": "string"
        },
        {
         "name": "score",
         "rawType": "float64",
         "type": "float"
        },
        {
         "name": "actual_match",
         "rawType": "bool",
         "type": "boolean"
        },
        {
         "name": "predicted_match",
         "rawType": "bool",
         "type": "boolean"
        }
       ],
       "conversionMethod": "pd.DataFrame",
       "ref": "f74ed595-5865-48af-9b0e-17a3e4fe216c",
       "rows": [
        [
         "0",
         "hotel belair",
         "701 stone canyon rd",
         "bel air",
         "belair hotel",
         "701 stone canyon rd",
         "bel air",
         "66.66666666666667",
         "True",
         "False"
        ],
        [
         "1",
         "fenix",
         "8358 sunset blvd west",
         "hollywood",
         "fenix at the argyle",
         "8358 sunset blvd",
         "w hollywood",
         "61.44148249411408",
         "True",
         "False"
        ],
        [
         "2",
         "grill on the alley",
         "9560 dayton way",
         "los angeles",
         "grill the",
         "9560 dayton way",
         "beverly hills",
         "55.12820512820513",
         "True",
         "False"
        ],
        [
         "3",
         "restaurant katsu",
         "1972 n hillhurst ave",
         "los angeles",
         "katsu",
         "1972 hillhurst ave",
         "los feliz",
         "58.598484848484844",
         "True",
         "False"
        ],
        [
         "4",
         "lorangerie",
         "903 n la cienega blvd",
         "los angeles",
         "lorangerie",
         "903 n la cienega blvd",
         "w hollywood",
         "66.66666666666667",
         "True",
         "False"
        ]
       ],
       "shape": {
        "columns": 9,
        "rows": 5
       }
      },
      "text/html": [
       "<div>\n",
       "<style scoped>\n",
       "    .dataframe tbody tr th:only-of-type {\n",
       "        vertical-align: middle;\n",
       "    }\n",
       "\n",
       "    .dataframe tbody tr th {\n",
       "        vertical-align: top;\n",
       "    }\n",
       "\n",
       "    .dataframe thead th {\n",
       "        text-align: right;\n",
       "    }\n",
       "</style>\n",
       "<table border=\"1\" class=\"dataframe\">\n",
       "  <thead>\n",
       "    <tr style=\"text-align: right;\">\n",
       "      <th></th>\n",
       "      <th>name_fodors</th>\n",
       "      <th>addr_fodors</th>\n",
       "      <th>city_fodors</th>\n",
       "      <th>name_zagats</th>\n",
       "      <th>addr_zagats</th>\n",
       "      <th>city_zagats</th>\n",
       "      <th>score</th>\n",
       "      <th>actual_match</th>\n",
       "      <th>predicted_match</th>\n",
       "    </tr>\n",
       "  </thead>\n",
       "  <tbody>\n",
       "    <tr>\n",
       "      <th>0</th>\n",
       "      <td>hotel belair</td>\n",
       "      <td>701 stone canyon rd</td>\n",
       "      <td>bel air</td>\n",
       "      <td>belair hotel</td>\n",
       "      <td>701 stone canyon rd</td>\n",
       "      <td>bel air</td>\n",
       "      <td>66.666667</td>\n",
       "      <td>True</td>\n",
       "      <td>False</td>\n",
       "    </tr>\n",
       "    <tr>\n",
       "      <th>1</th>\n",
       "      <td>fenix</td>\n",
       "      <td>8358 sunset blvd west</td>\n",
       "      <td>hollywood</td>\n",
       "      <td>fenix at the argyle</td>\n",
       "      <td>8358 sunset blvd</td>\n",
       "      <td>w hollywood</td>\n",
       "      <td>61.441482</td>\n",
       "      <td>True</td>\n",
       "      <td>False</td>\n",
       "    </tr>\n",
       "    <tr>\n",
       "      <th>2</th>\n",
       "      <td>grill on the alley</td>\n",
       "      <td>9560 dayton way</td>\n",
       "      <td>los angeles</td>\n",
       "      <td>grill the</td>\n",
       "      <td>9560 dayton way</td>\n",
       "      <td>beverly hills</td>\n",
       "      <td>55.128205</td>\n",
       "      <td>True</td>\n",
       "      <td>False</td>\n",
       "    </tr>\n",
       "    <tr>\n",
       "      <th>3</th>\n",
       "      <td>restaurant katsu</td>\n",
       "      <td>1972 n hillhurst ave</td>\n",
       "      <td>los angeles</td>\n",
       "      <td>katsu</td>\n",
       "      <td>1972 hillhurst ave</td>\n",
       "      <td>los feliz</td>\n",
       "      <td>58.598485</td>\n",
       "      <td>True</td>\n",
       "      <td>False</td>\n",
       "    </tr>\n",
       "    <tr>\n",
       "      <th>4</th>\n",
       "      <td>lorangerie</td>\n",
       "      <td>903 n la cienega blvd</td>\n",
       "      <td>los angeles</td>\n",
       "      <td>lorangerie</td>\n",
       "      <td>903 n la cienega blvd</td>\n",
       "      <td>w hollywood</td>\n",
       "      <td>66.666667</td>\n",
       "      <td>True</td>\n",
       "      <td>False</td>\n",
       "    </tr>\n",
       "  </tbody>\n",
       "</table>\n",
       "</div>"
      ],
      "text/plain": [
       "          name_fodors            addr_fodors  city_fodors  \\\n",
       "0        hotel belair    701 stone canyon rd      bel air   \n",
       "1               fenix  8358 sunset blvd west    hollywood   \n",
       "2  grill on the alley        9560 dayton way  los angeles   \n",
       "3    restaurant katsu   1972 n hillhurst ave  los angeles   \n",
       "4          lorangerie  903 n la cienega blvd  los angeles   \n",
       "\n",
       "           name_zagats            addr_zagats    city_zagats      score  \\\n",
       "0         belair hotel    701 stone canyon rd        bel air  66.666667   \n",
       "1  fenix at the argyle       8358 sunset blvd    w hollywood  61.441482   \n",
       "2            grill the        9560 dayton way  beverly hills  55.128205   \n",
       "3                katsu     1972 hillhurst ave      los feliz  58.598485   \n",
       "4           lorangerie  903 n la cienega blvd    w hollywood  66.666667   \n",
       "\n",
       "   actual_match  predicted_match  \n",
       "0          True            False  \n",
       "1          True            False  \n",
       "2          True            False  \n",
       "3          True            False  \n",
       "4          True            False  "
      ]
     },
     "metadata": {},
     "output_type": "display_data"
    }
   ],
   "source": [
    "# View examples of correctly and incorrectly predicted matches\n",
    "# split by classification outcome: True Positive, True Negative, False Positive, False Negative\n",
    "preview_classification_outcomes(lev_df, fodors, zagats)\n",
    "\n"
   ]
  },
  {
   "cell_type": "markdown",
   "id": "6da6fc22",
   "metadata": {},
   "source": [
    "As expected, Levenshtein scores did well when names, address and cities were either the same or slightly different becuase of typos or spelling. It failed, though, when parts of the strings were ordered differently or missing."
   ]
  },
  {
   "cell_type": "markdown",
   "id": "52c8c757",
   "metadata": {},
   "source": [
    "### Method 1b: Fuzzy Matching with token comparison\n",
    "Next, we use the Python library fuzzywuzzy, specifically the token_set_ratio function, because it efficiently handles variations in word order, extra or missing words, and minor textual differences by comparing sets of words (tokens) between strings.\n",
    "\n",
    "This method is particularly effective for quickly identifying matches when differences are mainly textual rather than semantic or context-based, which are common in the restaurant dataset used in this analysis, for example, matching \"Palm Restaurant\" with \"The Palm Restaurant\"."
   ]
  },
  {
   "cell_type": "code",
   "execution_count": null,
   "id": "c52e2992",
   "metadata": {},
   "outputs": [
    {
     "name": "stderr",
     "output_type": "stream",
     "text": [
      "Generating token set ratio scores: 100%|██████████| 533/533 [00:45<00:00, 11.59it/s]\n"
     ]
    },
    {
     "name": "stdout",
     "output_type": "stream",
     "text": [
      "\n",
      "Fuzzy pairs preview: 176423 rows, 4 columns\n",
      "   fodors_id  zagats_id      score  actual_match\n",
      "0        534          1  31.000000         False\n",
      "1        534          2  33.000000         False\n",
      "2        534          3  32.333333         False\n",
      "3        534          4  28.000000         False\n",
      "4        534          5  28.666667         False\n"
     ]
    },
    {
     "name": "stderr",
     "output_type": "stream",
     "text": [
      "Optimizing token set ratio threshold: 100%|██████████| 30/30 [00:00<00:00, 41.06it/s]\n"
     ]
    },
    {
     "name": "stdout",
     "output_type": "stream",
     "text": [
      "\n",
      "Optimized Token Set Ratio Threshold: 88\n",
      "Fuzzy Matching Results:\n",
      "Precision: 0.97\n",
      "Recall:    0.89\n",
      "F1-Score:  0.93\n",
      "Accuracy:  1.00\n"
     ]
    }
   ],
   "source": [
    "from fuzzywuzzy import fuzz\n",
    "\n",
    "# Generate pairs\n",
    "fuzzy_df = generate_matching_pairs(\n",
    "    fodors, zagats,\n",
    "    similarity_func=fuzz.token_set_ratio,\n",
    "    desc='Generating token set ratio scores'\n",
    ")\n",
    "\n",
    "# Add ground truth labels\n",
    "fuzzy_df = add_ground_truth_labels(fuzzy_df, matches)\n",
    "\n",
    "print(f\"\\nFuzzy pairs preview: {fuzzy_df.shape[0]} rows, {fuzzy_df.shape[1]} columns\")\n",
    "print(fuzzy_df.head())\n",
    "\n",
    "# Optimize threshold\n",
    "fuzzy_df, fuzzy_metrics = optimize_threshold(\n",
    "    fuzzy_df,\n",
    "    thresholds=np.arange(60, 100, 1),\n",
    "    desc='Optimizing token set ratio threshold'\n",
    ")\n",
    "\n",
    "# Results\n",
    "print(f\"\\nOptimized Token Set Ratio Threshold: {fuzzy_metrics['best_threshold']}\")\n",
    "print(\"Fuzzy Matching Results:\")\n",
    "print(f\"Precision: {fuzzy_metrics['precision']:.2f}\")\n",
    "print(f\"Recall:    {fuzzy_metrics['recall']:.2f}\")\n",
    "print(f\"F1-Score:  {fuzzy_metrics['f1_score']:.2f}\")\n",
    "print(f\"Accuracy:  {fuzzy_metrics['accuracy']:.2f}\")\n"
   ]
  },
  {
   "cell_type": "code",
   "execution_count": 76,
   "id": "86259e46",
   "metadata": {},
   "outputs": [
    {
     "name": "stdout",
     "output_type": "stream",
     "text": [
      "\n",
      "TP examples:\n"
     ]
    },
    {
     "data": {
      "application/vnd.microsoft.datawrangler.viewer.v0+json": {
       "columns": [
        {
         "name": "index",
         "rawType": "int64",
         "type": "integer"
        },
        {
         "name": "name_fodors",
         "rawType": "object",
         "type": "string"
        },
        {
         "name": "addr_fodors",
         "rawType": "object",
         "type": "string"
        },
        {
         "name": "city_fodors",
         "rawType": "object",
         "type": "string"
        },
        {
         "name": "name_zagats",
         "rawType": "object",
         "type": "string"
        },
        {
         "name": "addr_zagats",
         "rawType": "object",
         "type": "string"
        },
        {
         "name": "city_zagats",
         "rawType": "object",
         "type": "string"
        },
        {
         "name": "score",
         "rawType": "float64",
         "type": "float"
        },
        {
         "name": "actual_match",
         "rawType": "bool",
         "type": "boolean"
        },
        {
         "name": "predicted_match",
         "rawType": "bool",
         "type": "boolean"
        }
       ],
       "conversionMethod": "pd.DataFrame",
       "ref": "f8a0e23d-5dd8-4959-9440-ebc8db29d39c",
       "rows": [
        [
         "0",
         "arnie mortons of chicago",
         "435 s la cienega blv",
         "los angeles",
         "arnie mortons of chicago",
         "435 s la cienega blvd",
         "los angeles",
         "99.33333333333333",
         "True",
         "True"
        ],
        [
         "1",
         "arts delicatessen",
         "12224 ventura blvd",
         "studio city",
         "arts deli",
         "12224 ventura blvd",
         "studio city",
         "89.66666666666667",
         "True",
         "True"
        ],
        [
         "2",
         "hotel belair",
         "701 stone canyon rd",
         "bel air",
         "belair hotel",
         "701 stone canyon rd",
         "bel air",
         "100.0",
         "True",
         "True"
        ],
        [
         "3",
         "cafe bizou",
         "14016 ventura blvd",
         "sherman oaks",
         "cafe bizou",
         "14016 ventura blvd",
         "sherman oaks",
         "100.0",
         "True",
         "True"
        ],
        [
         "4",
         "campanile",
         "624 s la brea ave",
         "los angeles",
         "campanile",
         "624 s la brea ave",
         "los angeles",
         "100.0",
         "True",
         "True"
        ]
       ],
       "shape": {
        "columns": 9,
        "rows": 5
       }
      },
      "text/html": [
       "<div>\n",
       "<style scoped>\n",
       "    .dataframe tbody tr th:only-of-type {\n",
       "        vertical-align: middle;\n",
       "    }\n",
       "\n",
       "    .dataframe tbody tr th {\n",
       "        vertical-align: top;\n",
       "    }\n",
       "\n",
       "    .dataframe thead th {\n",
       "        text-align: right;\n",
       "    }\n",
       "</style>\n",
       "<table border=\"1\" class=\"dataframe\">\n",
       "  <thead>\n",
       "    <tr style=\"text-align: right;\">\n",
       "      <th></th>\n",
       "      <th>name_fodors</th>\n",
       "      <th>addr_fodors</th>\n",
       "      <th>city_fodors</th>\n",
       "      <th>name_zagats</th>\n",
       "      <th>addr_zagats</th>\n",
       "      <th>city_zagats</th>\n",
       "      <th>score</th>\n",
       "      <th>actual_match</th>\n",
       "      <th>predicted_match</th>\n",
       "    </tr>\n",
       "  </thead>\n",
       "  <tbody>\n",
       "    <tr>\n",
       "      <th>0</th>\n",
       "      <td>arnie mortons of chicago</td>\n",
       "      <td>435 s la cienega blv</td>\n",
       "      <td>los angeles</td>\n",
       "      <td>arnie mortons of chicago</td>\n",
       "      <td>435 s la cienega blvd</td>\n",
       "      <td>los angeles</td>\n",
       "      <td>99.333333</td>\n",
       "      <td>True</td>\n",
       "      <td>True</td>\n",
       "    </tr>\n",
       "    <tr>\n",
       "      <th>1</th>\n",
       "      <td>arts delicatessen</td>\n",
       "      <td>12224 ventura blvd</td>\n",
       "      <td>studio city</td>\n",
       "      <td>arts deli</td>\n",
       "      <td>12224 ventura blvd</td>\n",
       "      <td>studio city</td>\n",
       "      <td>89.666667</td>\n",
       "      <td>True</td>\n",
       "      <td>True</td>\n",
       "    </tr>\n",
       "    <tr>\n",
       "      <th>2</th>\n",
       "      <td>hotel belair</td>\n",
       "      <td>701 stone canyon rd</td>\n",
       "      <td>bel air</td>\n",
       "      <td>belair hotel</td>\n",
       "      <td>701 stone canyon rd</td>\n",
       "      <td>bel air</td>\n",
       "      <td>100.000000</td>\n",
       "      <td>True</td>\n",
       "      <td>True</td>\n",
       "    </tr>\n",
       "    <tr>\n",
       "      <th>3</th>\n",
       "      <td>cafe bizou</td>\n",
       "      <td>14016 ventura blvd</td>\n",
       "      <td>sherman oaks</td>\n",
       "      <td>cafe bizou</td>\n",
       "      <td>14016 ventura blvd</td>\n",
       "      <td>sherman oaks</td>\n",
       "      <td>100.000000</td>\n",
       "      <td>True</td>\n",
       "      <td>True</td>\n",
       "    </tr>\n",
       "    <tr>\n",
       "      <th>4</th>\n",
       "      <td>campanile</td>\n",
       "      <td>624 s la brea ave</td>\n",
       "      <td>los angeles</td>\n",
       "      <td>campanile</td>\n",
       "      <td>624 s la brea ave</td>\n",
       "      <td>los angeles</td>\n",
       "      <td>100.000000</td>\n",
       "      <td>True</td>\n",
       "      <td>True</td>\n",
       "    </tr>\n",
       "  </tbody>\n",
       "</table>\n",
       "</div>"
      ],
      "text/plain": [
       "                name_fodors           addr_fodors   city_fodors  \\\n",
       "0  arnie mortons of chicago  435 s la cienega blv   los angeles   \n",
       "1         arts delicatessen    12224 ventura blvd   studio city   \n",
       "2              hotel belair   701 stone canyon rd       bel air   \n",
       "3                cafe bizou    14016 ventura blvd  sherman oaks   \n",
       "4                 campanile     624 s la brea ave   los angeles   \n",
       "\n",
       "                name_zagats            addr_zagats   city_zagats       score  \\\n",
       "0  arnie mortons of chicago  435 s la cienega blvd   los angeles   99.333333   \n",
       "1                 arts deli     12224 ventura blvd   studio city   89.666667   \n",
       "2              belair hotel    701 stone canyon rd       bel air  100.000000   \n",
       "3                cafe bizou     14016 ventura blvd  sherman oaks  100.000000   \n",
       "4                 campanile      624 s la brea ave   los angeles  100.000000   \n",
       "\n",
       "   actual_match  predicted_match  \n",
       "0          True             True  \n",
       "1          True             True  \n",
       "2          True             True  \n",
       "3          True             True  \n",
       "4          True             True  "
      ]
     },
     "metadata": {},
     "output_type": "display_data"
    },
    {
     "name": "stdout",
     "output_type": "stream",
     "text": [
      "\n",
      "TN examples:\n"
     ]
    },
    {
     "data": {
      "application/vnd.microsoft.datawrangler.viewer.v0+json": {
       "columns": [
        {
         "name": "index",
         "rawType": "int64",
         "type": "integer"
        },
        {
         "name": "name_fodors",
         "rawType": "object",
         "type": "string"
        },
        {
         "name": "addr_fodors",
         "rawType": "object",
         "type": "string"
        },
        {
         "name": "city_fodors",
         "rawType": "object",
         "type": "string"
        },
        {
         "name": "name_zagats",
         "rawType": "object",
         "type": "string"
        },
        {
         "name": "addr_zagats",
         "rawType": "object",
         "type": "string"
        },
        {
         "name": "city_zagats",
         "rawType": "object",
         "type": "string"
        },
        {
         "name": "score",
         "rawType": "float64",
         "type": "float"
        },
        {
         "name": "actual_match",
         "rawType": "bool",
         "type": "boolean"
        },
        {
         "name": "predicted_match",
         "rawType": "bool",
         "type": "boolean"
        }
       ],
       "conversionMethod": "pd.DataFrame",
       "ref": "e9e52be1-5824-4fbc-8d05-fb631d50df37",
       "rows": [
        [
         "0",
         "arnie mortons of chicago",
         "435 s la cienega blv",
         "los angeles",
         "apple pan the",
         "10801 w pico blvd",
         "west la",
         "31.0",
         "False",
         "False"
        ],
        [
         "1",
         "arnie mortons of chicago",
         "435 s la cienega blv",
         "los angeles",
         "asahi ramen",
         "2027 sawtelle blvd",
         "west la",
         "33.0",
         "False",
         "False"
        ],
        [
         "2",
         "arnie mortons of chicago",
         "435 s la cienega blv",
         "los angeles",
         "baja fresh",
         "3345 kimber dr",
         "westlake village",
         "32.333333333333336",
         "False",
         "False"
        ],
        [
         "3",
         "arnie mortons of chicago",
         "435 s la cienega blv",
         "los angeles",
         "belvedere the",
         "9882 little santa monica blvd",
         "beverly hills",
         "28.0",
         "False",
         "False"
        ],
        [
         "4",
         "arnie mortons of chicago",
         "435 s la cienega blv",
         "los angeles",
         "benitas frites",
         "1433 third st promenade",
         "santa monica",
         "28.666666666666668",
         "False",
         "False"
        ]
       ],
       "shape": {
        "columns": 9,
        "rows": 5
       }
      },
      "text/html": [
       "<div>\n",
       "<style scoped>\n",
       "    .dataframe tbody tr th:only-of-type {\n",
       "        vertical-align: middle;\n",
       "    }\n",
       "\n",
       "    .dataframe tbody tr th {\n",
       "        vertical-align: top;\n",
       "    }\n",
       "\n",
       "    .dataframe thead th {\n",
       "        text-align: right;\n",
       "    }\n",
       "</style>\n",
       "<table border=\"1\" class=\"dataframe\">\n",
       "  <thead>\n",
       "    <tr style=\"text-align: right;\">\n",
       "      <th></th>\n",
       "      <th>name_fodors</th>\n",
       "      <th>addr_fodors</th>\n",
       "      <th>city_fodors</th>\n",
       "      <th>name_zagats</th>\n",
       "      <th>addr_zagats</th>\n",
       "      <th>city_zagats</th>\n",
       "      <th>score</th>\n",
       "      <th>actual_match</th>\n",
       "      <th>predicted_match</th>\n",
       "    </tr>\n",
       "  </thead>\n",
       "  <tbody>\n",
       "    <tr>\n",
       "      <th>0</th>\n",
       "      <td>arnie mortons of chicago</td>\n",
       "      <td>435 s la cienega blv</td>\n",
       "      <td>los angeles</td>\n",
       "      <td>apple pan the</td>\n",
       "      <td>10801 w pico blvd</td>\n",
       "      <td>west la</td>\n",
       "      <td>31.000000</td>\n",
       "      <td>False</td>\n",
       "      <td>False</td>\n",
       "    </tr>\n",
       "    <tr>\n",
       "      <th>1</th>\n",
       "      <td>arnie mortons of chicago</td>\n",
       "      <td>435 s la cienega blv</td>\n",
       "      <td>los angeles</td>\n",
       "      <td>asahi ramen</td>\n",
       "      <td>2027 sawtelle blvd</td>\n",
       "      <td>west la</td>\n",
       "      <td>33.000000</td>\n",
       "      <td>False</td>\n",
       "      <td>False</td>\n",
       "    </tr>\n",
       "    <tr>\n",
       "      <th>2</th>\n",
       "      <td>arnie mortons of chicago</td>\n",
       "      <td>435 s la cienega blv</td>\n",
       "      <td>los angeles</td>\n",
       "      <td>baja fresh</td>\n",
       "      <td>3345 kimber dr</td>\n",
       "      <td>westlake village</td>\n",
       "      <td>32.333333</td>\n",
       "      <td>False</td>\n",
       "      <td>False</td>\n",
       "    </tr>\n",
       "    <tr>\n",
       "      <th>3</th>\n",
       "      <td>arnie mortons of chicago</td>\n",
       "      <td>435 s la cienega blv</td>\n",
       "      <td>los angeles</td>\n",
       "      <td>belvedere the</td>\n",
       "      <td>9882 little santa monica blvd</td>\n",
       "      <td>beverly hills</td>\n",
       "      <td>28.000000</td>\n",
       "      <td>False</td>\n",
       "      <td>False</td>\n",
       "    </tr>\n",
       "    <tr>\n",
       "      <th>4</th>\n",
       "      <td>arnie mortons of chicago</td>\n",
       "      <td>435 s la cienega blv</td>\n",
       "      <td>los angeles</td>\n",
       "      <td>benitas frites</td>\n",
       "      <td>1433 third st promenade</td>\n",
       "      <td>santa monica</td>\n",
       "      <td>28.666667</td>\n",
       "      <td>False</td>\n",
       "      <td>False</td>\n",
       "    </tr>\n",
       "  </tbody>\n",
       "</table>\n",
       "</div>"
      ],
      "text/plain": [
       "                name_fodors           addr_fodors  city_fodors  \\\n",
       "0  arnie mortons of chicago  435 s la cienega blv  los angeles   \n",
       "1  arnie mortons of chicago  435 s la cienega blv  los angeles   \n",
       "2  arnie mortons of chicago  435 s la cienega blv  los angeles   \n",
       "3  arnie mortons of chicago  435 s la cienega blv  los angeles   \n",
       "4  arnie mortons of chicago  435 s la cienega blv  los angeles   \n",
       "\n",
       "      name_zagats                    addr_zagats       city_zagats      score  \\\n",
       "0   apple pan the              10801 w pico blvd           west la  31.000000   \n",
       "1     asahi ramen             2027 sawtelle blvd           west la  33.000000   \n",
       "2      baja fresh                 3345 kimber dr  westlake village  32.333333   \n",
       "3   belvedere the  9882 little santa monica blvd     beverly hills  28.000000   \n",
       "4  benitas frites        1433 third st promenade      santa monica  28.666667   \n",
       "\n",
       "   actual_match  predicted_match  \n",
       "0         False            False  \n",
       "1         False            False  \n",
       "2         False            False  \n",
       "3         False            False  \n",
       "4         False            False  "
      ]
     },
     "metadata": {},
     "output_type": "display_data"
    },
    {
     "name": "stdout",
     "output_type": "stream",
     "text": [
      "\n",
      "FP examples:\n"
     ]
    },
    {
     "data": {
      "application/vnd.microsoft.datawrangler.viewer.v0+json": {
       "columns": [
        {
         "name": "index",
         "rawType": "int64",
         "type": "integer"
        },
        {
         "name": "name_fodors",
         "rawType": "object",
         "type": "string"
        },
        {
         "name": "addr_fodors",
         "rawType": "object",
         "type": "string"
        },
        {
         "name": "city_fodors",
         "rawType": "object",
         "type": "string"
        },
        {
         "name": "name_zagats",
         "rawType": "object",
         "type": "string"
        },
        {
         "name": "addr_zagats",
         "rawType": "object",
         "type": "string"
        },
        {
         "name": "city_zagats",
         "rawType": "object",
         "type": "string"
        },
        {
         "name": "score",
         "rawType": "float64",
         "type": "float"
        },
        {
         "name": "actual_match",
         "rawType": "bool",
         "type": "boolean"
        },
        {
         "name": "predicted_match",
         "rawType": "bool",
         "type": "boolean"
        }
       ],
       "conversionMethod": "pd.DataFrame",
       "ref": "0c0387d2-5653-4ad4-b17e-3de9616d3860",
       "rows": [
        [
         "0",
         "cafe ritzcarlton buckhead",
         "3434 peachtree rd",
         "atlanta",
         "ritzcarlton dining room buckhead",
         "3434 peachtree rd ne",
         "atlanta",
         "96.33333333333333",
         "False",
         "True"
        ],
        [
         "1",
         "dining room ritzcarlton buckhead",
         "3434 peachtree rd",
         "atlanta",
         "ritzcarlton cafe buckhead",
         "3434 peachtree rd ne",
         "atlanta",
         "96.33333333333333",
         "False",
         "True"
        ],
        [
         "2",
         "restaurant ritzcarlton atlanta",
         "181 peachtree st",
         "atlanta",
         "ritzcarlton cafe atlanta",
         "181 peachtree st",
         "atlanta",
         "96.0",
         "False",
         "True"
        ]
       ],
       "shape": {
        "columns": 9,
        "rows": 3
       }
      },
      "text/html": [
       "<div>\n",
       "<style scoped>\n",
       "    .dataframe tbody tr th:only-of-type {\n",
       "        vertical-align: middle;\n",
       "    }\n",
       "\n",
       "    .dataframe tbody tr th {\n",
       "        vertical-align: top;\n",
       "    }\n",
       "\n",
       "    .dataframe thead th {\n",
       "        text-align: right;\n",
       "    }\n",
       "</style>\n",
       "<table border=\"1\" class=\"dataframe\">\n",
       "  <thead>\n",
       "    <tr style=\"text-align: right;\">\n",
       "      <th></th>\n",
       "      <th>name_fodors</th>\n",
       "      <th>addr_fodors</th>\n",
       "      <th>city_fodors</th>\n",
       "      <th>name_zagats</th>\n",
       "      <th>addr_zagats</th>\n",
       "      <th>city_zagats</th>\n",
       "      <th>score</th>\n",
       "      <th>actual_match</th>\n",
       "      <th>predicted_match</th>\n",
       "    </tr>\n",
       "  </thead>\n",
       "  <tbody>\n",
       "    <tr>\n",
       "      <th>0</th>\n",
       "      <td>cafe ritzcarlton buckhead</td>\n",
       "      <td>3434 peachtree rd</td>\n",
       "      <td>atlanta</td>\n",
       "      <td>ritzcarlton dining room buckhead</td>\n",
       "      <td>3434 peachtree rd ne</td>\n",
       "      <td>atlanta</td>\n",
       "      <td>96.333333</td>\n",
       "      <td>False</td>\n",
       "      <td>True</td>\n",
       "    </tr>\n",
       "    <tr>\n",
       "      <th>1</th>\n",
       "      <td>dining room ritzcarlton buckhead</td>\n",
       "      <td>3434 peachtree rd</td>\n",
       "      <td>atlanta</td>\n",
       "      <td>ritzcarlton cafe buckhead</td>\n",
       "      <td>3434 peachtree rd ne</td>\n",
       "      <td>atlanta</td>\n",
       "      <td>96.333333</td>\n",
       "      <td>False</td>\n",
       "      <td>True</td>\n",
       "    </tr>\n",
       "    <tr>\n",
       "      <th>2</th>\n",
       "      <td>restaurant ritzcarlton atlanta</td>\n",
       "      <td>181 peachtree st</td>\n",
       "      <td>atlanta</td>\n",
       "      <td>ritzcarlton cafe atlanta</td>\n",
       "      <td>181 peachtree st</td>\n",
       "      <td>atlanta</td>\n",
       "      <td>96.000000</td>\n",
       "      <td>False</td>\n",
       "      <td>True</td>\n",
       "    </tr>\n",
       "  </tbody>\n",
       "</table>\n",
       "</div>"
      ],
      "text/plain": [
       "                        name_fodors        addr_fodors city_fodors  \\\n",
       "0         cafe ritzcarlton buckhead  3434 peachtree rd     atlanta   \n",
       "1  dining room ritzcarlton buckhead  3434 peachtree rd     atlanta   \n",
       "2    restaurant ritzcarlton atlanta   181 peachtree st     atlanta   \n",
       "\n",
       "                        name_zagats           addr_zagats city_zagats  \\\n",
       "0  ritzcarlton dining room buckhead  3434 peachtree rd ne     atlanta   \n",
       "1         ritzcarlton cafe buckhead  3434 peachtree rd ne     atlanta   \n",
       "2          ritzcarlton cafe atlanta      181 peachtree st     atlanta   \n",
       "\n",
       "       score  actual_match  predicted_match  \n",
       "0  96.333333         False             True  \n",
       "1  96.333333         False             True  \n",
       "2  96.000000         False             True  "
      ]
     },
     "metadata": {},
     "output_type": "display_data"
    },
    {
     "name": "stdout",
     "output_type": "stream",
     "text": [
      "\n",
      "FN examples:\n"
     ]
    },
    {
     "data": {
      "application/vnd.microsoft.datawrangler.viewer.v0+json": {
       "columns": [
        {
         "name": "index",
         "rawType": "int64",
         "type": "integer"
        },
        {
         "name": "name_fodors",
         "rawType": "object",
         "type": "string"
        },
        {
         "name": "addr_fodors",
         "rawType": "object",
         "type": "string"
        },
        {
         "name": "city_fodors",
         "rawType": "object",
         "type": "string"
        },
        {
         "name": "name_zagats",
         "rawType": "object",
         "type": "string"
        },
        {
         "name": "addr_zagats",
         "rawType": "object",
         "type": "string"
        },
        {
         "name": "city_zagats",
         "rawType": "object",
         "type": "string"
        },
        {
         "name": "score",
         "rawType": "float64",
         "type": "float"
        },
        {
         "name": "actual_match",
         "rawType": "bool",
         "type": "boolean"
        },
        {
         "name": "predicted_match",
         "rawType": "bool",
         "type": "boolean"
        }
       ],
       "conversionMethod": "pd.DataFrame",
       "ref": "94e668fd-eb4e-4b27-9664-c96c473414c4",
       "rows": [
        [
         "0",
         "grill on the alley",
         "9560 dayton way",
         "los angeles",
         "grill the",
         "9560 dayton way",
         "beverly hills",
         "75.0",
         "True",
         "False"
        ],
        [
         "1",
         "restaurant katsu",
         "1972 n hillhurst ave",
         "los angeles",
         "katsu",
         "1972 hillhurst ave",
         "los feliz",
         "86.66666666666667",
         "True",
         "False"
        ],
        [
         "2",
         "lorangerie",
         "903 n la cienega blvd",
         "los angeles",
         "lorangerie",
         "903 n la cienega blvd",
         "w hollywood",
         "72.66666666666667",
         "True",
         "False"
        ],
        [
         "3",
         "locanda veneta",
         "3rd st",
         "los angeles",
         "locanda veneta",
         "8638 w third st",
         "los angeles",
         "85.66666666666667",
         "True",
         "False"
        ],
        [
         "4",
         "the palm",
         "9001 santa monica blvd",
         "los angeles",
         "palm the los angeles",
         "9001 santa monica blvd",
         "w hollywood",
         "72.66666666666667",
         "True",
         "False"
        ]
       ],
       "shape": {
        "columns": 9,
        "rows": 5
       }
      },
      "text/html": [
       "<div>\n",
       "<style scoped>\n",
       "    .dataframe tbody tr th:only-of-type {\n",
       "        vertical-align: middle;\n",
       "    }\n",
       "\n",
       "    .dataframe tbody tr th {\n",
       "        vertical-align: top;\n",
       "    }\n",
       "\n",
       "    .dataframe thead th {\n",
       "        text-align: right;\n",
       "    }\n",
       "</style>\n",
       "<table border=\"1\" class=\"dataframe\">\n",
       "  <thead>\n",
       "    <tr style=\"text-align: right;\">\n",
       "      <th></th>\n",
       "      <th>name_fodors</th>\n",
       "      <th>addr_fodors</th>\n",
       "      <th>city_fodors</th>\n",
       "      <th>name_zagats</th>\n",
       "      <th>addr_zagats</th>\n",
       "      <th>city_zagats</th>\n",
       "      <th>score</th>\n",
       "      <th>actual_match</th>\n",
       "      <th>predicted_match</th>\n",
       "    </tr>\n",
       "  </thead>\n",
       "  <tbody>\n",
       "    <tr>\n",
       "      <th>0</th>\n",
       "      <td>grill on the alley</td>\n",
       "      <td>9560 dayton way</td>\n",
       "      <td>los angeles</td>\n",
       "      <td>grill the</td>\n",
       "      <td>9560 dayton way</td>\n",
       "      <td>beverly hills</td>\n",
       "      <td>75.000000</td>\n",
       "      <td>True</td>\n",
       "      <td>False</td>\n",
       "    </tr>\n",
       "    <tr>\n",
       "      <th>1</th>\n",
       "      <td>restaurant katsu</td>\n",
       "      <td>1972 n hillhurst ave</td>\n",
       "      <td>los angeles</td>\n",
       "      <td>katsu</td>\n",
       "      <td>1972 hillhurst ave</td>\n",
       "      <td>los feliz</td>\n",
       "      <td>86.666667</td>\n",
       "      <td>True</td>\n",
       "      <td>False</td>\n",
       "    </tr>\n",
       "    <tr>\n",
       "      <th>2</th>\n",
       "      <td>lorangerie</td>\n",
       "      <td>903 n la cienega blvd</td>\n",
       "      <td>los angeles</td>\n",
       "      <td>lorangerie</td>\n",
       "      <td>903 n la cienega blvd</td>\n",
       "      <td>w hollywood</td>\n",
       "      <td>72.666667</td>\n",
       "      <td>True</td>\n",
       "      <td>False</td>\n",
       "    </tr>\n",
       "    <tr>\n",
       "      <th>3</th>\n",
       "      <td>locanda veneta</td>\n",
       "      <td>3rd st</td>\n",
       "      <td>los angeles</td>\n",
       "      <td>locanda veneta</td>\n",
       "      <td>8638 w third st</td>\n",
       "      <td>los angeles</td>\n",
       "      <td>85.666667</td>\n",
       "      <td>True</td>\n",
       "      <td>False</td>\n",
       "    </tr>\n",
       "    <tr>\n",
       "      <th>4</th>\n",
       "      <td>the palm</td>\n",
       "      <td>9001 santa monica blvd</td>\n",
       "      <td>los angeles</td>\n",
       "      <td>palm the los angeles</td>\n",
       "      <td>9001 santa monica blvd</td>\n",
       "      <td>w hollywood</td>\n",
       "      <td>72.666667</td>\n",
       "      <td>True</td>\n",
       "      <td>False</td>\n",
       "    </tr>\n",
       "  </tbody>\n",
       "</table>\n",
       "</div>"
      ],
      "text/plain": [
       "          name_fodors             addr_fodors  city_fodors  \\\n",
       "0  grill on the alley         9560 dayton way  los angeles   \n",
       "1    restaurant katsu    1972 n hillhurst ave  los angeles   \n",
       "2          lorangerie   903 n la cienega blvd  los angeles   \n",
       "3      locanda veneta                  3rd st  los angeles   \n",
       "4            the palm  9001 santa monica blvd  los angeles   \n",
       "\n",
       "            name_zagats             addr_zagats    city_zagats      score  \\\n",
       "0             grill the         9560 dayton way  beverly hills  75.000000   \n",
       "1                 katsu      1972 hillhurst ave      los feliz  86.666667   \n",
       "2            lorangerie   903 n la cienega blvd    w hollywood  72.666667   \n",
       "3        locanda veneta         8638 w third st    los angeles  85.666667   \n",
       "4  palm the los angeles  9001 santa monica blvd    w hollywood  72.666667   \n",
       "\n",
       "   actual_match  predicted_match  \n",
       "0          True            False  \n",
       "1          True            False  \n",
       "2          True            False  \n",
       "3          True            False  \n",
       "4          True            False  "
      ]
     },
     "metadata": {},
     "output_type": "display_data"
    }
   ],
   "source": [
    "preview_classification_outcomes(fuzzy_df, fodors, zagats)"
   ]
  },
  {
   "cell_type": "markdown",
   "id": "53cbb4ef",
   "metadata": {},
   "source": [
    "While the token set ratio method proved better than Levenshtein scores (e.g., the F1-score grew from 81% to 93% thanks to a much better recall rate), there still was a decent number of false negative matches, which seem to be driven by the differences in city names. While Fodor's marks restaurants as located in Los Angeles, Zagat's locations are more granular and refer to districts, such as Beverly Hills or West Hollywood.\n",
    "\n",
    "To alleviate that, we could try to standardize city names, i.e. bring them all to the same baseline like large metropolitan area or individual districts, but this approach could be hard to scale with large datasets with data all over the world. Thus, let's review matching methods that take into account word meaning and context."
   ]
  },
  {
   "cell_type": "markdown",
   "id": "37e8e2fb",
   "metadata": {},
   "source": [
    "### Method 2: TF-IDF Vectorization + Cosine Similarity\n",
    "TF-IDF stands for Term Frequency-Inverse Document Frequency. This vectorization method transforms text data into numerical vectors that represent the importance of words within documents. TF-IDF considers the frequency and uniqueness of words across the entire dataset, rather than just directly comparing individual strings. This makes it more context-aware and less sensitive to minor spelling or token-order differences.\n",
    "\n",
    "In our case, we'll use sklearn's TfidVectorizer which first tokenizes the text into words, calculates how frequently each word appears within individual records (term frequency), and adjusts those values by how common each word is across all records (inverse document frequency), resulting in vectors emphasizing unique and informative terms.\n",
    "\n",
    "Then, cosine similarity measures how similar two vectors (records) are by computing the cosine of the angle between them. A cosine similarity close to 1 indicates high similarity (almost identical records), while a score close to 0 indicates low similarity."
   ]
  },
  {
   "cell_type": "code",
   "execution_count": 78,
   "id": "4552b32a",
   "metadata": {},
   "outputs": [
    {
     "name": "stderr",
     "output_type": "stream",
     "text": [
      "Generating TF-IDF Cosine similarity pairs: 100%|██████████| 533/533 [00:00<00:00, 5791.26it/s]\n",
      "Optimizing TF-IDF Cosine threshold: 100%|██████████| 50/50 [00:01<00:00, 43.15it/s]"
     ]
    },
    {
     "name": "stdout",
     "output_type": "stream",
     "text": [
      "\n",
      "TF-IDF + Cosine Similarity Matching Results:\n",
      "Optimized Threshold: 0.65\n",
      "Precision: 0.86\n",
      "Recall:    0.93\n",
      "F1-Score:  0.89\n",
      "Accuracy:  1.00\n"
     ]
    },
    {
     "name": "stderr",
     "output_type": "stream",
     "text": [
      "\n"
     ]
    }
   ],
   "source": [
    "from sklearn.feature_extraction.text import TfidfVectorizer\n",
    "from sklearn.metrics.pairwise import cosine_similarity\n",
    "\n",
    "# Combine relevant fields\n",
    "fodors['combined'] = fodors['name'] + ' ' + fodors['addr'] + ' ' + fodors['city']\n",
    "zagats['combined'] = zagats['name'] + ' ' + zagats['addr'] + ' ' + zagats['city']\n",
    "\n",
    "# TF-IDF vectorization\n",
    "vectorizer = TfidfVectorizer()\n",
    "tfidf_matrix = vectorizer.fit_transform(pd.concat([fodors['combined'], zagats['combined']]))\n",
    "\n",
    "fodors_tfidf = tfidf_matrix[:len(fodors)]\n",
    "zagats_tfidf = tfidf_matrix[len(fodors):]\n",
    "\n",
    "# Cosine similarity calculation (optimized, vectorized)\n",
    "cosine_sim = cosine_similarity(fodors_tfidf, zagats_tfidf)\n",
    "\n",
    "# Reformat similarity matrix into pairs DataFrame (consistent with previous methods)\n",
    "fodors_ids = fodors['id'].values\n",
    "zagats_ids = zagats['id'].values\n",
    "\n",
    "pairs = []\n",
    "for i in tqdm(range(len(fodors_ids)), desc='Generating TF-IDF Cosine similarity pairs'):\n",
    "    for j in range(len(zagats_ids)):\n",
    "        pairs.append({\n",
    "            'fodors_id': fodors_ids[i],\n",
    "            'zagats_id': zagats_ids[j],\n",
    "            'score': cosine_sim[i, j]\n",
    "        })\n",
    "\n",
    "tfidf_df = pd.DataFrame(pairs)\n",
    "\n",
    "# Reuse previously defined functions to add ground truth and optimize threshold\n",
    "tfidf_df = add_ground_truth_labels(tfidf_df, matches)\n",
    "\n",
    "# Threshold optimization\n",
    "thresholds = np.arange(0.5, 1.0, 0.01)\n",
    "tfidf_df, tfidf_metrics = optimize_threshold(\n",
    "    tfidf_df,\n",
    "    thresholds=thresholds,\n",
    "    desc='Optimizing TF-IDF Cosine threshold'\n",
    ")\n",
    "\n",
    "# Display final metrics\n",
    "print(f\"\\nTF-IDF + Cosine Similarity Matching Results:\")\n",
    "print(f\"Optimized Threshold: {tfidf_metrics['best_threshold']:.2f}\")\n",
    "print(f\"Precision: {tfidf_metrics['precision']:.2f}\")\n",
    "print(f\"Recall:    {tfidf_metrics['recall']:.2f}\")\n",
    "print(f\"F1-Score:  {tfidf_metrics['f1_score']:.2f}\")\n",
    "print(f\"Accuracy:  {tfidf_metrics['accuracy']:.2f}\")\n"
   ]
  },
  {
   "cell_type": "code",
   "execution_count": 80,
   "id": "1c0f5196",
   "metadata": {},
   "outputs": [
    {
     "name": "stdout",
     "output_type": "stream",
     "text": [
      "\n",
      "TP examples:\n"
     ]
    },
    {
     "data": {
      "application/vnd.microsoft.datawrangler.viewer.v0+json": {
       "columns": [
        {
         "name": "index",
         "rawType": "int64",
         "type": "integer"
        },
        {
         "name": "name_fodors",
         "rawType": "object",
         "type": "string"
        },
        {
         "name": "addr_fodors",
         "rawType": "object",
         "type": "string"
        },
        {
         "name": "city_fodors",
         "rawType": "object",
         "type": "string"
        },
        {
         "name": "name_zagats",
         "rawType": "object",
         "type": "string"
        },
        {
         "name": "addr_zagats",
         "rawType": "object",
         "type": "string"
        },
        {
         "name": "city_zagats",
         "rawType": "object",
         "type": "string"
        },
        {
         "name": "score",
         "rawType": "float64",
         "type": "float"
        },
        {
         "name": "actual_match",
         "rawType": "bool",
         "type": "boolean"
        },
        {
         "name": "predicted_match",
         "rawType": "bool",
         "type": "boolean"
        }
       ],
       "conversionMethod": "pd.DataFrame",
       "ref": "f187f4d4-3692-4af1-9cc2-ba9f4835d84b",
       "rows": [
        [
         "0",
         "arnie mortons of chicago",
         "435 s la cienega blv",
         "los angeles",
         "arnie mortons of chicago",
         "435 s la cienega blvd",
         "los angeles",
         "0.8957312446746846",
         "True",
         "True"
        ],
        [
         "1",
         "arts delicatessen",
         "12224 ventura blvd",
         "studio city",
         "arts deli",
         "12224 ventura blvd",
         "studio city",
         "0.8109011185971293",
         "True",
         "True"
        ],
        [
         "2",
         "hotel belair",
         "701 stone canyon rd",
         "bel air",
         "belair hotel",
         "701 stone canyon rd",
         "bel air",
         "1.0000000000000002",
         "True",
         "True"
        ],
        [
         "3",
         "cafe bizou",
         "14016 ventura blvd",
         "sherman oaks",
         "cafe bizou",
         "14016 ventura blvd",
         "sherman oaks",
         "1.0",
         "True",
         "True"
        ],
        [
         "4",
         "campanile",
         "624 s la brea ave",
         "los angeles",
         "campanile",
         "624 s la brea ave",
         "los angeles",
         "1.0000000000000002",
         "True",
         "True"
        ]
       ],
       "shape": {
        "columns": 9,
        "rows": 5
       }
      },
      "text/html": [
       "<div>\n",
       "<style scoped>\n",
       "    .dataframe tbody tr th:only-of-type {\n",
       "        vertical-align: middle;\n",
       "    }\n",
       "\n",
       "    .dataframe tbody tr th {\n",
       "        vertical-align: top;\n",
       "    }\n",
       "\n",
       "    .dataframe thead th {\n",
       "        text-align: right;\n",
       "    }\n",
       "</style>\n",
       "<table border=\"1\" class=\"dataframe\">\n",
       "  <thead>\n",
       "    <tr style=\"text-align: right;\">\n",
       "      <th></th>\n",
       "      <th>name_fodors</th>\n",
       "      <th>addr_fodors</th>\n",
       "      <th>city_fodors</th>\n",
       "      <th>name_zagats</th>\n",
       "      <th>addr_zagats</th>\n",
       "      <th>city_zagats</th>\n",
       "      <th>score</th>\n",
       "      <th>actual_match</th>\n",
       "      <th>predicted_match</th>\n",
       "    </tr>\n",
       "  </thead>\n",
       "  <tbody>\n",
       "    <tr>\n",
       "      <th>0</th>\n",
       "      <td>arnie mortons of chicago</td>\n",
       "      <td>435 s la cienega blv</td>\n",
       "      <td>los angeles</td>\n",
       "      <td>arnie mortons of chicago</td>\n",
       "      <td>435 s la cienega blvd</td>\n",
       "      <td>los angeles</td>\n",
       "      <td>0.895731</td>\n",
       "      <td>True</td>\n",
       "      <td>True</td>\n",
       "    </tr>\n",
       "    <tr>\n",
       "      <th>1</th>\n",
       "      <td>arts delicatessen</td>\n",
       "      <td>12224 ventura blvd</td>\n",
       "      <td>studio city</td>\n",
       "      <td>arts deli</td>\n",
       "      <td>12224 ventura blvd</td>\n",
       "      <td>studio city</td>\n",
       "      <td>0.810901</td>\n",
       "      <td>True</td>\n",
       "      <td>True</td>\n",
       "    </tr>\n",
       "    <tr>\n",
       "      <th>2</th>\n",
       "      <td>hotel belair</td>\n",
       "      <td>701 stone canyon rd</td>\n",
       "      <td>bel air</td>\n",
       "      <td>belair hotel</td>\n",
       "      <td>701 stone canyon rd</td>\n",
       "      <td>bel air</td>\n",
       "      <td>1.000000</td>\n",
       "      <td>True</td>\n",
       "      <td>True</td>\n",
       "    </tr>\n",
       "    <tr>\n",
       "      <th>3</th>\n",
       "      <td>cafe bizou</td>\n",
       "      <td>14016 ventura blvd</td>\n",
       "      <td>sherman oaks</td>\n",
       "      <td>cafe bizou</td>\n",
       "      <td>14016 ventura blvd</td>\n",
       "      <td>sherman oaks</td>\n",
       "      <td>1.000000</td>\n",
       "      <td>True</td>\n",
       "      <td>True</td>\n",
       "    </tr>\n",
       "    <tr>\n",
       "      <th>4</th>\n",
       "      <td>campanile</td>\n",
       "      <td>624 s la brea ave</td>\n",
       "      <td>los angeles</td>\n",
       "      <td>campanile</td>\n",
       "      <td>624 s la brea ave</td>\n",
       "      <td>los angeles</td>\n",
       "      <td>1.000000</td>\n",
       "      <td>True</td>\n",
       "      <td>True</td>\n",
       "    </tr>\n",
       "  </tbody>\n",
       "</table>\n",
       "</div>"
      ],
      "text/plain": [
       "                name_fodors           addr_fodors   city_fodors  \\\n",
       "0  arnie mortons of chicago  435 s la cienega blv   los angeles   \n",
       "1         arts delicatessen    12224 ventura blvd   studio city   \n",
       "2              hotel belair   701 stone canyon rd       bel air   \n",
       "3                cafe bizou    14016 ventura blvd  sherman oaks   \n",
       "4                 campanile     624 s la brea ave   los angeles   \n",
       "\n",
       "                name_zagats            addr_zagats   city_zagats     score  \\\n",
       "0  arnie mortons of chicago  435 s la cienega blvd   los angeles  0.895731   \n",
       "1                 arts deli     12224 ventura blvd   studio city  0.810901   \n",
       "2              belair hotel    701 stone canyon rd       bel air  1.000000   \n",
       "3                cafe bizou     14016 ventura blvd  sherman oaks  1.000000   \n",
       "4                 campanile      624 s la brea ave   los angeles  1.000000   \n",
       "\n",
       "   actual_match  predicted_match  \n",
       "0          True             True  \n",
       "1          True             True  \n",
       "2          True             True  \n",
       "3          True             True  \n",
       "4          True             True  "
      ]
     },
     "metadata": {},
     "output_type": "display_data"
    },
    {
     "name": "stdout",
     "output_type": "stream",
     "text": [
      "\n",
      "TN examples:\n"
     ]
    },
    {
     "data": {
      "application/vnd.microsoft.datawrangler.viewer.v0+json": {
       "columns": [
        {
         "name": "index",
         "rawType": "int64",
         "type": "integer"
        },
        {
         "name": "name_fodors",
         "rawType": "object",
         "type": "string"
        },
        {
         "name": "addr_fodors",
         "rawType": "object",
         "type": "string"
        },
        {
         "name": "city_fodors",
         "rawType": "object",
         "type": "string"
        },
        {
         "name": "name_zagats",
         "rawType": "object",
         "type": "string"
        },
        {
         "name": "addr_zagats",
         "rawType": "object",
         "type": "string"
        },
        {
         "name": "city_zagats",
         "rawType": "object",
         "type": "string"
        },
        {
         "name": "score",
         "rawType": "float64",
         "type": "float"
        },
        {
         "name": "actual_match",
         "rawType": "bool",
         "type": "boolean"
        },
        {
         "name": "predicted_match",
         "rawType": "bool",
         "type": "boolean"
        }
       ],
       "conversionMethod": "pd.DataFrame",
       "ref": "bbbab8f7-1258-4637-8d66-9233449b132a",
       "rows": [
        [
         "0",
         "arnie mortons of chicago",
         "435 s la cienega blv",
         "los angeles",
         "apple pan the",
         "10801 w pico blvd",
         "west la",
         "0.05287899444577574",
         "False",
         "False"
        ],
        [
         "1",
         "arnie mortons of chicago",
         "435 s la cienega blv",
         "los angeles",
         "asahi ramen",
         "2027 sawtelle blvd",
         "west la",
         "0.052148668252836566",
         "False",
         "False"
        ],
        [
         "2",
         "arnie mortons of chicago",
         "435 s la cienega blv",
         "los angeles",
         "baja fresh",
         "3345 kimber dr",
         "westlake village",
         "0.0",
         "False",
         "False"
        ],
        [
         "3",
         "arnie mortons of chicago",
         "435 s la cienega blv",
         "los angeles",
         "belvedere the",
         "9882 little santa monica blvd",
         "beverly hills",
         "0.0",
         "False",
         "False"
        ],
        [
         "4",
         "arnie mortons of chicago",
         "435 s la cienega blv",
         "los angeles",
         "benitas frites",
         "1433 third st promenade",
         "santa monica",
         "0.0",
         "False",
         "False"
        ]
       ],
       "shape": {
        "columns": 9,
        "rows": 5
       }
      },
      "text/html": [
       "<div>\n",
       "<style scoped>\n",
       "    .dataframe tbody tr th:only-of-type {\n",
       "        vertical-align: middle;\n",
       "    }\n",
       "\n",
       "    .dataframe tbody tr th {\n",
       "        vertical-align: top;\n",
       "    }\n",
       "\n",
       "    .dataframe thead th {\n",
       "        text-align: right;\n",
       "    }\n",
       "</style>\n",
       "<table border=\"1\" class=\"dataframe\">\n",
       "  <thead>\n",
       "    <tr style=\"text-align: right;\">\n",
       "      <th></th>\n",
       "      <th>name_fodors</th>\n",
       "      <th>addr_fodors</th>\n",
       "      <th>city_fodors</th>\n",
       "      <th>name_zagats</th>\n",
       "      <th>addr_zagats</th>\n",
       "      <th>city_zagats</th>\n",
       "      <th>score</th>\n",
       "      <th>actual_match</th>\n",
       "      <th>predicted_match</th>\n",
       "    </tr>\n",
       "  </thead>\n",
       "  <tbody>\n",
       "    <tr>\n",
       "      <th>0</th>\n",
       "      <td>arnie mortons of chicago</td>\n",
       "      <td>435 s la cienega blv</td>\n",
       "      <td>los angeles</td>\n",
       "      <td>apple pan the</td>\n",
       "      <td>10801 w pico blvd</td>\n",
       "      <td>west la</td>\n",
       "      <td>0.052879</td>\n",
       "      <td>False</td>\n",
       "      <td>False</td>\n",
       "    </tr>\n",
       "    <tr>\n",
       "      <th>1</th>\n",
       "      <td>arnie mortons of chicago</td>\n",
       "      <td>435 s la cienega blv</td>\n",
       "      <td>los angeles</td>\n",
       "      <td>asahi ramen</td>\n",
       "      <td>2027 sawtelle blvd</td>\n",
       "      <td>west la</td>\n",
       "      <td>0.052149</td>\n",
       "      <td>False</td>\n",
       "      <td>False</td>\n",
       "    </tr>\n",
       "    <tr>\n",
       "      <th>2</th>\n",
       "      <td>arnie mortons of chicago</td>\n",
       "      <td>435 s la cienega blv</td>\n",
       "      <td>los angeles</td>\n",
       "      <td>baja fresh</td>\n",
       "      <td>3345 kimber dr</td>\n",
       "      <td>westlake village</td>\n",
       "      <td>0.000000</td>\n",
       "      <td>False</td>\n",
       "      <td>False</td>\n",
       "    </tr>\n",
       "    <tr>\n",
       "      <th>3</th>\n",
       "      <td>arnie mortons of chicago</td>\n",
       "      <td>435 s la cienega blv</td>\n",
       "      <td>los angeles</td>\n",
       "      <td>belvedere the</td>\n",
       "      <td>9882 little santa monica blvd</td>\n",
       "      <td>beverly hills</td>\n",
       "      <td>0.000000</td>\n",
       "      <td>False</td>\n",
       "      <td>False</td>\n",
       "    </tr>\n",
       "    <tr>\n",
       "      <th>4</th>\n",
       "      <td>arnie mortons of chicago</td>\n",
       "      <td>435 s la cienega blv</td>\n",
       "      <td>los angeles</td>\n",
       "      <td>benitas frites</td>\n",
       "      <td>1433 third st promenade</td>\n",
       "      <td>santa monica</td>\n",
       "      <td>0.000000</td>\n",
       "      <td>False</td>\n",
       "      <td>False</td>\n",
       "    </tr>\n",
       "  </tbody>\n",
       "</table>\n",
       "</div>"
      ],
      "text/plain": [
       "                name_fodors           addr_fodors  city_fodors  \\\n",
       "0  arnie mortons of chicago  435 s la cienega blv  los angeles   \n",
       "1  arnie mortons of chicago  435 s la cienega blv  los angeles   \n",
       "2  arnie mortons of chicago  435 s la cienega blv  los angeles   \n",
       "3  arnie mortons of chicago  435 s la cienega blv  los angeles   \n",
       "4  arnie mortons of chicago  435 s la cienega blv  los angeles   \n",
       "\n",
       "      name_zagats                    addr_zagats       city_zagats     score  \\\n",
       "0   apple pan the              10801 w pico blvd           west la  0.052879   \n",
       "1     asahi ramen             2027 sawtelle blvd           west la  0.052149   \n",
       "2      baja fresh                 3345 kimber dr  westlake village  0.000000   \n",
       "3   belvedere the  9882 little santa monica blvd     beverly hills  0.000000   \n",
       "4  benitas frites        1433 third st promenade      santa monica  0.000000   \n",
       "\n",
       "   actual_match  predicted_match  \n",
       "0         False            False  \n",
       "1         False            False  \n",
       "2         False            False  \n",
       "3         False            False  \n",
       "4         False            False  "
      ]
     },
     "metadata": {},
     "output_type": "display_data"
    },
    {
     "name": "stdout",
     "output_type": "stream",
     "text": [
      "\n",
      "FP examples:\n"
     ]
    },
    {
     "data": {
      "application/vnd.microsoft.datawrangler.viewer.v0+json": {
       "columns": [
        {
         "name": "index",
         "rawType": "int64",
         "type": "integer"
        },
        {
         "name": "name_fodors",
         "rawType": "object",
         "type": "string"
        },
        {
         "name": "addr_fodors",
         "rawType": "object",
         "type": "string"
        },
        {
         "name": "city_fodors",
         "rawType": "object",
         "type": "string"
        },
        {
         "name": "name_zagats",
         "rawType": "object",
         "type": "string"
        },
        {
         "name": "addr_zagats",
         "rawType": "object",
         "type": "string"
        },
        {
         "name": "city_zagats",
         "rawType": "object",
         "type": "string"
        },
        {
         "name": "score",
         "rawType": "float64",
         "type": "float"
        },
        {
         "name": "actual_match",
         "rawType": "bool",
         "type": "boolean"
        },
        {
         "name": "predicted_match",
         "rawType": "bool",
         "type": "boolean"
        }
       ],
       "conversionMethod": "pd.DataFrame",
       "ref": "a9099971-2341-4a67-90e4-cbb10317258a",
       "rows": [
        [
         "0",
         "chins",
         "3200 las vegas blvd s",
         "las vegas",
         "mortons of chicago las vegas",
         "3200 las vegas blvd s",
         "las vegas",
         "0.7506779502635439",
         "False",
         "True"
        ],
        [
         "1",
         "coyote cafe",
         "3799 las vegas blvd s",
         "las vegas",
         "tre visi",
         "3799 las vegas blvd s",
         "las vegas",
         "0.6628367828454671",
         "False",
         "True"
        ],
        [
         "2",
         "cafe ritzcarlton buckhead",
         "3434 peachtree rd",
         "atlanta",
         "ritzcarlton dining room buckhead",
         "3434 peachtree rd ne",
         "atlanta",
         "0.7413678841725604",
         "False",
         "True"
        ],
        [
         "3",
         "dining room ritzcarlton buckhead",
         "3434 peachtree rd",
         "atlanta",
         "ritzcarlton cafe buckhead",
         "3434 peachtree rd ne",
         "atlanta",
         "0.72573175521558",
         "False",
         "True"
        ],
        [
         "4",
         "restaurant ritzcarlton atlanta",
         "181 peachtree st",
         "atlanta",
         "ritzcarlton cafe atlanta",
         "181 peachtree st",
         "atlanta",
         "0.8850109467349248",
         "False",
         "True"
        ]
       ],
       "shape": {
        "columns": 9,
        "rows": 5
       }
      },
      "text/html": [
       "<div>\n",
       "<style scoped>\n",
       "    .dataframe tbody tr th:only-of-type {\n",
       "        vertical-align: middle;\n",
       "    }\n",
       "\n",
       "    .dataframe tbody tr th {\n",
       "        vertical-align: top;\n",
       "    }\n",
       "\n",
       "    .dataframe thead th {\n",
       "        text-align: right;\n",
       "    }\n",
       "</style>\n",
       "<table border=\"1\" class=\"dataframe\">\n",
       "  <thead>\n",
       "    <tr style=\"text-align: right;\">\n",
       "      <th></th>\n",
       "      <th>name_fodors</th>\n",
       "      <th>addr_fodors</th>\n",
       "      <th>city_fodors</th>\n",
       "      <th>name_zagats</th>\n",
       "      <th>addr_zagats</th>\n",
       "      <th>city_zagats</th>\n",
       "      <th>score</th>\n",
       "      <th>actual_match</th>\n",
       "      <th>predicted_match</th>\n",
       "    </tr>\n",
       "  </thead>\n",
       "  <tbody>\n",
       "    <tr>\n",
       "      <th>0</th>\n",
       "      <td>chins</td>\n",
       "      <td>3200 las vegas blvd s</td>\n",
       "      <td>las vegas</td>\n",
       "      <td>mortons of chicago las vegas</td>\n",
       "      <td>3200 las vegas blvd s</td>\n",
       "      <td>las vegas</td>\n",
       "      <td>0.750678</td>\n",
       "      <td>False</td>\n",
       "      <td>True</td>\n",
       "    </tr>\n",
       "    <tr>\n",
       "      <th>1</th>\n",
       "      <td>coyote cafe</td>\n",
       "      <td>3799 las vegas blvd s</td>\n",
       "      <td>las vegas</td>\n",
       "      <td>tre visi</td>\n",
       "      <td>3799 las vegas blvd s</td>\n",
       "      <td>las vegas</td>\n",
       "      <td>0.662837</td>\n",
       "      <td>False</td>\n",
       "      <td>True</td>\n",
       "    </tr>\n",
       "    <tr>\n",
       "      <th>2</th>\n",
       "      <td>cafe ritzcarlton buckhead</td>\n",
       "      <td>3434 peachtree rd</td>\n",
       "      <td>atlanta</td>\n",
       "      <td>ritzcarlton dining room buckhead</td>\n",
       "      <td>3434 peachtree rd ne</td>\n",
       "      <td>atlanta</td>\n",
       "      <td>0.741368</td>\n",
       "      <td>False</td>\n",
       "      <td>True</td>\n",
       "    </tr>\n",
       "    <tr>\n",
       "      <th>3</th>\n",
       "      <td>dining room ritzcarlton buckhead</td>\n",
       "      <td>3434 peachtree rd</td>\n",
       "      <td>atlanta</td>\n",
       "      <td>ritzcarlton cafe buckhead</td>\n",
       "      <td>3434 peachtree rd ne</td>\n",
       "      <td>atlanta</td>\n",
       "      <td>0.725732</td>\n",
       "      <td>False</td>\n",
       "      <td>True</td>\n",
       "    </tr>\n",
       "    <tr>\n",
       "      <th>4</th>\n",
       "      <td>restaurant ritzcarlton atlanta</td>\n",
       "      <td>181 peachtree st</td>\n",
       "      <td>atlanta</td>\n",
       "      <td>ritzcarlton cafe atlanta</td>\n",
       "      <td>181 peachtree st</td>\n",
       "      <td>atlanta</td>\n",
       "      <td>0.885011</td>\n",
       "      <td>False</td>\n",
       "      <td>True</td>\n",
       "    </tr>\n",
       "  </tbody>\n",
       "</table>\n",
       "</div>"
      ],
      "text/plain": [
       "                        name_fodors            addr_fodors city_fodors  \\\n",
       "0                             chins  3200 las vegas blvd s   las vegas   \n",
       "1                       coyote cafe  3799 las vegas blvd s   las vegas   \n",
       "2         cafe ritzcarlton buckhead      3434 peachtree rd     atlanta   \n",
       "3  dining room ritzcarlton buckhead      3434 peachtree rd     atlanta   \n",
       "4    restaurant ritzcarlton atlanta       181 peachtree st     atlanta   \n",
       "\n",
       "                        name_zagats            addr_zagats city_zagats  \\\n",
       "0      mortons of chicago las vegas  3200 las vegas blvd s   las vegas   \n",
       "1                          tre visi  3799 las vegas blvd s   las vegas   \n",
       "2  ritzcarlton dining room buckhead   3434 peachtree rd ne     atlanta   \n",
       "3         ritzcarlton cafe buckhead   3434 peachtree rd ne     atlanta   \n",
       "4          ritzcarlton cafe atlanta       181 peachtree st     atlanta   \n",
       "\n",
       "      score  actual_match  predicted_match  \n",
       "0  0.750678         False             True  \n",
       "1  0.662837         False             True  \n",
       "2  0.741368         False             True  \n",
       "3  0.725732         False             True  \n",
       "4  0.885011         False             True  "
      ]
     },
     "metadata": {},
     "output_type": "display_data"
    },
    {
     "name": "stdout",
     "output_type": "stream",
     "text": [
      "\n",
      "FN examples:\n"
     ]
    },
    {
     "data": {
      "application/vnd.microsoft.datawrangler.viewer.v0+json": {
       "columns": [
        {
         "name": "index",
         "rawType": "int64",
         "type": "integer"
        },
        {
         "name": "name_fodors",
         "rawType": "object",
         "type": "string"
        },
        {
         "name": "addr_fodors",
         "rawType": "object",
         "type": "string"
        },
        {
         "name": "city_fodors",
         "rawType": "object",
         "type": "string"
        },
        {
         "name": "name_zagats",
         "rawType": "object",
         "type": "string"
        },
        {
         "name": "addr_zagats",
         "rawType": "object",
         "type": "string"
        },
        {
         "name": "city_zagats",
         "rawType": "object",
         "type": "string"
        },
        {
         "name": "score",
         "rawType": "float64",
         "type": "float"
        },
        {
         "name": "actual_match",
         "rawType": "bool",
         "type": "boolean"
        },
        {
         "name": "predicted_match",
         "rawType": "bool",
         "type": "boolean"
        }
       ],
       "conversionMethod": "pd.DataFrame",
       "ref": "1d9d0713-624b-4339-b8e2-cf3a38daa720",
       "rows": [
        [
         "0",
         "philippes the original",
         "1001 n alameda st",
         "los angeles",
         "philippe the original",
         "1001 n alameda st",
         "chinatown",
         "0.6363145453289764",
         "True",
         "False"
        ],
        [
         "1",
         "spago",
         "1114 horn ave",
         "los angeles",
         "spago los angeles",
         "8795 sunset blvd",
         "w hollywood",
         "0.3591609053461986",
         "True",
         "False"
        ],
        [
         "2",
         "carnegie deli",
         "854 7th ave between 54th and 55th sts",
         "new york",
         "carnegie deli",
         "854 seventh ave",
         "new york city",
         "0.6086401774272145",
         "True",
         "False"
        ],
        [
         "3",
         "les celebrites",
         "160 central park s",
         "new york",
         "les celebrites",
         "155 w 58th st",
         "new york city",
         "0.5394214082967503",
         "True",
         "False"
        ],
        [
         "4",
         "mesa grill",
         "102 5th ave between 15th and 16th sts",
         "new york",
         "mesa grill",
         "102 fifth ave",
         "new york city",
         "0.5583942331140526",
         "True",
         "False"
        ]
       ],
       "shape": {
        "columns": 9,
        "rows": 5
       }
      },
      "text/html": [
       "<div>\n",
       "<style scoped>\n",
       "    .dataframe tbody tr th:only-of-type {\n",
       "        vertical-align: middle;\n",
       "    }\n",
       "\n",
       "    .dataframe tbody tr th {\n",
       "        vertical-align: top;\n",
       "    }\n",
       "\n",
       "    .dataframe thead th {\n",
       "        text-align: right;\n",
       "    }\n",
       "</style>\n",
       "<table border=\"1\" class=\"dataframe\">\n",
       "  <thead>\n",
       "    <tr style=\"text-align: right;\">\n",
       "      <th></th>\n",
       "      <th>name_fodors</th>\n",
       "      <th>addr_fodors</th>\n",
       "      <th>city_fodors</th>\n",
       "      <th>name_zagats</th>\n",
       "      <th>addr_zagats</th>\n",
       "      <th>city_zagats</th>\n",
       "      <th>score</th>\n",
       "      <th>actual_match</th>\n",
       "      <th>predicted_match</th>\n",
       "    </tr>\n",
       "  </thead>\n",
       "  <tbody>\n",
       "    <tr>\n",
       "      <th>0</th>\n",
       "      <td>philippes the original</td>\n",
       "      <td>1001 n alameda st</td>\n",
       "      <td>los angeles</td>\n",
       "      <td>philippe the original</td>\n",
       "      <td>1001 n alameda st</td>\n",
       "      <td>chinatown</td>\n",
       "      <td>0.636315</td>\n",
       "      <td>True</td>\n",
       "      <td>False</td>\n",
       "    </tr>\n",
       "    <tr>\n",
       "      <th>1</th>\n",
       "      <td>spago</td>\n",
       "      <td>1114 horn ave</td>\n",
       "      <td>los angeles</td>\n",
       "      <td>spago los angeles</td>\n",
       "      <td>8795 sunset blvd</td>\n",
       "      <td>w hollywood</td>\n",
       "      <td>0.359161</td>\n",
       "      <td>True</td>\n",
       "      <td>False</td>\n",
       "    </tr>\n",
       "    <tr>\n",
       "      <th>2</th>\n",
       "      <td>carnegie deli</td>\n",
       "      <td>854 7th ave between 54th and 55th sts</td>\n",
       "      <td>new york</td>\n",
       "      <td>carnegie deli</td>\n",
       "      <td>854 seventh ave</td>\n",
       "      <td>new york city</td>\n",
       "      <td>0.608640</td>\n",
       "      <td>True</td>\n",
       "      <td>False</td>\n",
       "    </tr>\n",
       "    <tr>\n",
       "      <th>3</th>\n",
       "      <td>les celebrites</td>\n",
       "      <td>160 central park s</td>\n",
       "      <td>new york</td>\n",
       "      <td>les celebrites</td>\n",
       "      <td>155 w 58th st</td>\n",
       "      <td>new york city</td>\n",
       "      <td>0.539421</td>\n",
       "      <td>True</td>\n",
       "      <td>False</td>\n",
       "    </tr>\n",
       "    <tr>\n",
       "      <th>4</th>\n",
       "      <td>mesa grill</td>\n",
       "      <td>102 5th ave between 15th and 16th sts</td>\n",
       "      <td>new york</td>\n",
       "      <td>mesa grill</td>\n",
       "      <td>102 fifth ave</td>\n",
       "      <td>new york city</td>\n",
       "      <td>0.558394</td>\n",
       "      <td>True</td>\n",
       "      <td>False</td>\n",
       "    </tr>\n",
       "  </tbody>\n",
       "</table>\n",
       "</div>"
      ],
      "text/plain": [
       "              name_fodors                            addr_fodors  city_fodors  \\\n",
       "0  philippes the original                      1001 n alameda st  los angeles   \n",
       "1                   spago                          1114 horn ave  los angeles   \n",
       "2           carnegie deli  854 7th ave between 54th and 55th sts     new york   \n",
       "3          les celebrites                     160 central park s     new york   \n",
       "4              mesa grill  102 5th ave between 15th and 16th sts     new york   \n",
       "\n",
       "             name_zagats        addr_zagats    city_zagats     score  \\\n",
       "0  philippe the original  1001 n alameda st      chinatown  0.636315   \n",
       "1      spago los angeles   8795 sunset blvd    w hollywood  0.359161   \n",
       "2          carnegie deli    854 seventh ave  new york city  0.608640   \n",
       "3         les celebrites      155 w 58th st  new york city  0.539421   \n",
       "4             mesa grill      102 fifth ave  new york city  0.558394   \n",
       "\n",
       "   actual_match  predicted_match  \n",
       "0          True            False  \n",
       "1          True            False  \n",
       "2          True            False  \n",
       "3          True            False  \n",
       "4          True            False  "
      ]
     },
     "metadata": {},
     "output_type": "display_data"
    }
   ],
   "source": [
    "preview_classification_outcomes(tfidf_df, fodors, zagats)"
   ]
  },
  {
   "cell_type": "markdown",
   "id": "c695e159",
   "metadata": {},
   "source": []
  },
  {
   "cell_type": "markdown",
   "id": "f7c21424",
   "metadata": {},
   "source": [
    "### Method 3: Sentence-BERT Embeddings + Cosine Similarity\n"
   ]
  },
  {
   "cell_type": "code",
   "execution_count": null,
   "id": "d909b646",
   "metadata": {},
   "outputs": [],
   "source": []
  },
  {
   "cell_type": "markdown",
   "id": "765bff8c",
   "metadata": {},
   "source": [
    "### Method 4: LLM Matching\n"
   ]
  },
  {
   "cell_type": "code",
   "execution_count": null,
   "id": "e26c41b8",
   "metadata": {},
   "outputs": [],
   "source": []
  },
  {
   "cell_type": "markdown",
   "id": "48321c26",
   "metadata": {},
   "source": [
    "### Method 5: Supervised Machine Learning Classifier\n"
   ]
  },
  {
   "cell_type": "code",
   "execution_count": null,
   "id": "090a974b",
   "metadata": {},
   "outputs": [],
   "source": []
  },
  {
   "cell_type": "markdown",
   "id": "c39773d6",
   "metadata": {},
   "source": [
    "### Comparative Evaluation\n"
   ]
  },
  {
   "cell_type": "markdown",
   "id": "3ede6c71",
   "metadata": {},
   "source": [
    "### Conclusion\n"
   ]
  }
 ],
 "metadata": {
  "kernelspec": {
   "display_name": "base",
   "language": "python",
   "name": "python3"
  },
  "language_info": {
   "codemirror_mode": {
    "name": "ipython",
    "version": 3
   },
   "file_extension": ".py",
   "mimetype": "text/x-python",
   "name": "python",
   "nbconvert_exporter": "python",
   "pygments_lexer": "ipython3",
   "version": "3.12.8"
  }
 },
 "nbformat": 4,
 "nbformat_minor": 5
}
